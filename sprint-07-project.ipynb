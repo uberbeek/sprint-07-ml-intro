{
 "cells": [
  {
   "cell_type": "markdown",
   "metadata": {},
   "source": [
    "# Sprint 7: Introduction to Machine Learning #"
   ]
  },
  {
   "cell_type": "markdown",
   "metadata": {},
   "source": [
    "# Preliminaries #"
   ]
  },
  {
   "cell_type": "code",
   "execution_count": 1,
   "metadata": {},
   "outputs": [],
   "source": [
    "# Load libraries\n",
    "\n",
    "import pandas as pd\n",
    "from matplotlib import pyplot as plt\n",
    "import numpy as np\n",
    "from sklearn.model_selection import train_test_split\n",
    "from sklearn.metrics import accuracy_score\n",
    "from sklearn.tree import DecisionTreeClassifier\n",
    "from sklearn.ensemble import RandomForestClassifier\n",
    "from sklearn.linear_model import LogisticRegression"
   ]
  },
  {
   "cell_type": "code",
   "execution_count": 2,
   "metadata": {},
   "outputs": [],
   "source": [
    "# Load data\n",
    "\n",
    "df_behavior = pd.read_csv('/datasets/users_behavior.csv')"
   ]
  },
  {
   "cell_type": "markdown",
   "metadata": {},
   "source": [
    "The purpose of this project is to train a model to recommend Megaline phone plans based on subscriber behavior. "
   ]
  },
  {
   "cell_type": "markdown",
   "metadata": {},
   "source": [
    "# Examine Data #"
   ]
  },
  {
   "cell_type": "code",
   "execution_count": 3,
   "metadata": {},
   "outputs": [
    {
     "name": "stdout",
     "output_type": "stream",
     "text": [
      "<class 'pandas.core.frame.DataFrame'>\n",
      "RangeIndex: 3214 entries, 0 to 3213\n",
      "Data columns (total 5 columns):\n",
      " #   Column    Non-Null Count  Dtype  \n",
      "---  ------    --------------  -----  \n",
      " 0   calls     3214 non-null   float64\n",
      " 1   minutes   3214 non-null   float64\n",
      " 2   messages  3214 non-null   float64\n",
      " 3   mb_used   3214 non-null   float64\n",
      " 4   is_ultra  3214 non-null   int64  \n",
      "dtypes: float64(4), int64(1)\n",
      "memory usage: 125.7 KB\n"
     ]
    },
    {
     "data": {
      "text/plain": [
       "None"
      ]
     },
     "metadata": {},
     "output_type": "display_data"
    },
    {
     "name": "stdout",
     "output_type": "stream",
     "text": [
      "\n"
     ]
    },
    {
     "data": {
      "text/html": [
       "<div>\n",
       "<style scoped>\n",
       "    .dataframe tbody tr th:only-of-type {\n",
       "        vertical-align: middle;\n",
       "    }\n",
       "\n",
       "    .dataframe tbody tr th {\n",
       "        vertical-align: top;\n",
       "    }\n",
       "\n",
       "    .dataframe thead th {\n",
       "        text-align: right;\n",
       "    }\n",
       "</style>\n",
       "<table border=\"1\" class=\"dataframe\">\n",
       "  <thead>\n",
       "    <tr style=\"text-align: right;\">\n",
       "      <th></th>\n",
       "      <th>calls</th>\n",
       "      <th>minutes</th>\n",
       "      <th>messages</th>\n",
       "      <th>mb_used</th>\n",
       "      <th>is_ultra</th>\n",
       "    </tr>\n",
       "  </thead>\n",
       "  <tbody>\n",
       "    <tr>\n",
       "      <th>0</th>\n",
       "      <td>40.0</td>\n",
       "      <td>311.90</td>\n",
       "      <td>83.0</td>\n",
       "      <td>19915.42</td>\n",
       "      <td>0</td>\n",
       "    </tr>\n",
       "    <tr>\n",
       "      <th>1</th>\n",
       "      <td>85.0</td>\n",
       "      <td>516.75</td>\n",
       "      <td>56.0</td>\n",
       "      <td>22696.96</td>\n",
       "      <td>0</td>\n",
       "    </tr>\n",
       "    <tr>\n",
       "      <th>2</th>\n",
       "      <td>77.0</td>\n",
       "      <td>467.66</td>\n",
       "      <td>86.0</td>\n",
       "      <td>21060.45</td>\n",
       "      <td>0</td>\n",
       "    </tr>\n",
       "    <tr>\n",
       "      <th>3</th>\n",
       "      <td>106.0</td>\n",
       "      <td>745.53</td>\n",
       "      <td>81.0</td>\n",
       "      <td>8437.39</td>\n",
       "      <td>1</td>\n",
       "    </tr>\n",
       "    <tr>\n",
       "      <th>4</th>\n",
       "      <td>66.0</td>\n",
       "      <td>418.74</td>\n",
       "      <td>1.0</td>\n",
       "      <td>14502.75</td>\n",
       "      <td>0</td>\n",
       "    </tr>\n",
       "    <tr>\n",
       "      <th>...</th>\n",
       "      <td>...</td>\n",
       "      <td>...</td>\n",
       "      <td>...</td>\n",
       "      <td>...</td>\n",
       "      <td>...</td>\n",
       "    </tr>\n",
       "    <tr>\n",
       "      <th>3209</th>\n",
       "      <td>122.0</td>\n",
       "      <td>910.98</td>\n",
       "      <td>20.0</td>\n",
       "      <td>35124.90</td>\n",
       "      <td>1</td>\n",
       "    </tr>\n",
       "    <tr>\n",
       "      <th>3210</th>\n",
       "      <td>25.0</td>\n",
       "      <td>190.36</td>\n",
       "      <td>0.0</td>\n",
       "      <td>3275.61</td>\n",
       "      <td>0</td>\n",
       "    </tr>\n",
       "    <tr>\n",
       "      <th>3211</th>\n",
       "      <td>97.0</td>\n",
       "      <td>634.44</td>\n",
       "      <td>70.0</td>\n",
       "      <td>13974.06</td>\n",
       "      <td>0</td>\n",
       "    </tr>\n",
       "    <tr>\n",
       "      <th>3212</th>\n",
       "      <td>64.0</td>\n",
       "      <td>462.32</td>\n",
       "      <td>90.0</td>\n",
       "      <td>31239.78</td>\n",
       "      <td>0</td>\n",
       "    </tr>\n",
       "    <tr>\n",
       "      <th>3213</th>\n",
       "      <td>80.0</td>\n",
       "      <td>566.09</td>\n",
       "      <td>6.0</td>\n",
       "      <td>29480.52</td>\n",
       "      <td>1</td>\n",
       "    </tr>\n",
       "  </tbody>\n",
       "</table>\n",
       "<p>3214 rows × 5 columns</p>\n",
       "</div>"
      ],
      "text/plain": [
       "      calls  minutes  messages   mb_used  is_ultra\n",
       "0      40.0   311.90      83.0  19915.42         0\n",
       "1      85.0   516.75      56.0  22696.96         0\n",
       "2      77.0   467.66      86.0  21060.45         0\n",
       "3     106.0   745.53      81.0   8437.39         1\n",
       "4      66.0   418.74       1.0  14502.75         0\n",
       "...     ...      ...       ...       ...       ...\n",
       "3209  122.0   910.98      20.0  35124.90         1\n",
       "3210   25.0   190.36       0.0   3275.61         0\n",
       "3211   97.0   634.44      70.0  13974.06         0\n",
       "3212   64.0   462.32      90.0  31239.78         0\n",
       "3213   80.0   566.09       6.0  29480.52         1\n",
       "\n",
       "[3214 rows x 5 columns]"
      ]
     },
     "metadata": {},
     "output_type": "display_data"
    }
   ],
   "source": [
    "# Examine the df_behavior dataframe\n",
    "\n",
    "display(df_behavior.info())\n",
    "print()\n",
    "display(df_behavior)"
   ]
  },
  {
   "cell_type": "code",
   "execution_count": 4,
   "metadata": {},
   "outputs": [],
   "source": [
    "# Create a function to examine columns\n",
    "\n",
    "def histo(df, column, label):\n",
    "    display(df[column].describe())\n",
    "    plt.hist(df[column], bins=25)\n",
    "    plt.xlabel(label)\n",
    "    plt.ylabel('Number of Observations')\n",
    "    plt.title(f'Histogram for {label}')\n",
    "    plt.show()"
   ]
  },
  {
   "cell_type": "code",
   "execution_count": 5,
   "metadata": {},
   "outputs": [
    {
     "data": {
      "text/plain": [
       "count    3214.000000\n",
       "mean       63.038892\n",
       "std        33.236368\n",
       "min         0.000000\n",
       "25%        40.000000\n",
       "50%        62.000000\n",
       "75%        82.000000\n",
       "max       244.000000\n",
       "Name: calls, dtype: float64"
      ]
     },
     "metadata": {},
     "output_type": "display_data"
    },
    {
     "data": {
      "image/png": "[encoded data removed]",
      "text/plain": [
       "<Figure size 640x480 with 1 Axes>"
      ]
     },
     "metadata": {},
     "output_type": "display_data"
    },
    {
     "data": {
      "text/plain": [
       "count    3214.000000\n",
       "mean      438.208787\n",
       "std       234.569872\n",
       "min         0.000000\n",
       "25%       274.575000\n",
       "50%       430.600000\n",
       "75%       571.927500\n",
       "max      1632.060000\n",
       "Name: minutes, dtype: float64"
      ]
     },
     "metadata": {},
     "output_type": "display_data"
    },
    {
     "data": {
      "image/png": "[encoded data removed]",
      "text/plain": [
       "<Figure size 640x480 with 1 Axes>"
      ]
     },
     "metadata": {},
     "output_type": "display_data"
    },
    {
     "data": {
      "text/plain": [
       "count    3214.000000\n",
       "mean       38.281269\n",
       "std        36.148326\n",
       "min         0.000000\n",
       "25%         9.000000\n",
       "50%        30.000000\n",
       "75%        57.000000\n",
       "max       224.000000\n",
       "Name: messages, dtype: float64"
      ]
     },
     "metadata": {},
     "output_type": "display_data"
    },
    {
     "data": {
      "image/png": "[encoded data removed]",
      "text/plain": [
       "<Figure size 640x480 with 1 Axes>"
      ]
     },
     "metadata": {},
     "output_type": "display_data"
    },
    {
     "data": {
      "text/plain": [
       "count     3214.000000\n",
       "mean     17207.673836\n",
       "std       7570.968246\n",
       "min          0.000000\n",
       "25%      12491.902500\n",
       "50%      16943.235000\n",
       "75%      21424.700000\n",
       "max      49745.730000\n",
       "Name: mb_used, dtype: float64"
      ]
     },
     "metadata": {},
     "output_type": "display_data"
    },
    {
     "data": {
      "image/png": "[encoded data removed]",
      "text/plain": [
       "<Figure size 640x480 with 1 Axes>"
      ]
     },
     "metadata": {},
     "output_type": "display_data"
    },
    {
     "data": {
      "text/plain": [
       "count    3214.000000\n",
       "mean        0.306472\n",
       "std         0.461100\n",
       "min         0.000000\n",
       "25%         0.000000\n",
       "50%         0.000000\n",
       "75%         1.000000\n",
       "max         1.000000\n",
       "Name: is_ultra, dtype: float64"
      ]
     },
     "metadata": {},
     "output_type": "display_data"
    },
    {
     "data": {
      "image/png": "[encoded data removed]",
      "text/plain": [
       "<Figure size 640x480 with 1 Axes>"
      ]
     },
     "metadata": {},
     "output_type": "display_data"
    }
   ],
   "source": [
    "# Examine all colums from df_behavior\n",
    "\n",
    "histo(df_behavior, 'calls', 'Calls')\n",
    "histo(df_behavior, 'minutes', 'Minutes')\n",
    "histo(df_behavior, 'messages', 'Messages')\n",
    "histo(df_behavior, 'mb_used', 'Data (in MB)')\n",
    "histo(df_behavior, 'is_ultra', 'is_ultra')\n"
   ]
  },
  {
   "cell_type": "markdown",
   "metadata": {},
   "source": [
    "The data look good overall. I found no missing or obviously inappropriate values. I will change the calls and messages columns to an integer data type, but the rest are correct. "
   ]
  },
  {
   "cell_type": "markdown",
   "metadata": {},
   "source": [
    "# Prepare the Data #"
   ]
  },
  {
   "cell_type": "code",
   "execution_count": 6,
   "metadata": {},
   "outputs": [
    {
     "name": "stdout",
     "output_type": "stream",
     "text": [
      "Data from the calls column are equal as float and integer types, so conversion is safe.\n",
      "Data from the messages column are equal as float and integer types, so conversion is safe.\n",
      "\n",
      "<class 'pandas.core.frame.DataFrame'>\n",
      "RangeIndex: 3214 entries, 0 to 3213\n",
      "Data columns (total 5 columns):\n",
      " #   Column    Non-Null Count  Dtype  \n",
      "---  ------    --------------  -----  \n",
      " 0   calls     3214 non-null   int64  \n",
      " 1   minutes   3214 non-null   float64\n",
      " 2   messages  3214 non-null   int64  \n",
      " 3   mb_used   3214 non-null   float64\n",
      " 4   is_ultra  3214 non-null   int64  \n",
      "dtypes: float64(2), int64(3)\n",
      "memory usage: 125.7 KB\n",
      "None\n"
     ]
    }
   ],
   "source": [
    "# Change calls and messages columns to integer data type\n",
    "\n",
    "def float_to_int(df, column):\n",
    "    if np.all(df[column] == df[column].astype(int)):\n",
    "        print(f\"Data from the {column} column are equal as float and integer types, so conversion is safe.\")\n",
    "        df[column] = df[column].astype(int)\n",
    "    else:\n",
    "        print(f\"Data from the {column} column are not equal as float and integer types, so conversion is NOT safe.\")\n",
    "\n",
    "float_to_int(df_behavior, 'calls')\n",
    "float_to_int(df_behavior, 'messages')\n",
    "print()\n",
    "print(df_behavior.info())"
   ]
  },
  {
   "cell_type": "code",
   "execution_count": 7,
   "metadata": {
    "scrolled": true
   },
   "outputs": [
    {
     "name": "stdout",
     "output_type": "stream",
     "text": [
      "Training set size: 1928, 60%\n",
      "Validation set size: 643, 20%\n",
      "Test set size: 643, 20%\n"
     ]
    }
   ],
   "source": [
    "# Split the data into a training set, a validation set, and a test set\n",
    "\n",
    "features = df_behavior.drop(['is_ultra'], axis=1)\n",
    "target = df_behavior['is_ultra']\n",
    "\n",
    "features_train, features_test, target_train, target_test = train_test_split(features, target, test_size=.2, random_state=12345)\n",
    "features_train, features_valid, target_train, target_valid = train_test_split(features_train, target_train, test_size=.25, random_state=12345)\n",
    "\n",
    "print(f\"Training set size: {len(features_train)}, {100*len(features_train)/3214:.0f}%\")\n",
    "print(f\"Validation set size: {len(features_valid)}, {100*len(features_valid)/3214:.0f}%\")\n",
    "print(f\"Test set size: {len(features_test)}, {100*len(features_test)/3214:.0f}%\")"
   ]
  },
  {
   "cell_type": "markdown",
   "metadata": {},
   "source": [
    "I chose the conventional train:validation:test ratio of 3:1:1 or 60%:20%:20% for splitting the data into sets.  "
   ]
  },
  {
   "cell_type": "markdown",
   "metadata": {},
   "source": [
    "# Analyze/Model Data #"
   ]
  },
  {
   "cell_type": "code",
   "execution_count": 8,
   "metadata": {
    "scrolled": true
   },
   "outputs": [
    {
     "name": "stdout",
     "output_type": "stream",
     "text": [
      "model depth = 1, training set accuracy = 0.7583, validation set accuracy = 0.7387\n",
      "model depth = 2, training set accuracy = 0.7920, validation set accuracy = 0.7574\n",
      "model depth = 3, training set accuracy = 0.8117, validation set accuracy = 0.7652\n",
      "model depth = 4, training set accuracy = 0.8205, validation set accuracy = 0.7636\n",
      "model depth = 5, training set accuracy = 0.8273, validation set accuracy = 0.7589\n",
      "model depth = 6, training set accuracy = 0.8335, validation set accuracy = 0.7574\n",
      "model depth = 7, training set accuracy = 0.8506, validation set accuracy = 0.7745\n",
      "model depth = 8, training set accuracy = 0.8662, validation set accuracy = 0.7667\n",
      "model depth = 9, training set accuracy = 0.8750, validation set accuracy = 0.7621\n",
      "model depth = 10, training set accuracy = 0.8911, validation set accuracy = 0.7714\n",
      "model depth = 11, training set accuracy = 0.9025, validation set accuracy = 0.7589\n",
      "model depth = 12, training set accuracy = 0.9155, validation set accuracy = 0.7558\n",
      "model depth = 13, training set accuracy = 0.9243, validation set accuracy = 0.7496\n",
      "model depth = 14, training set accuracy = 0.9367, validation set accuracy = 0.7574\n",
      "model depth = 15, training set accuracy = 0.9440, validation set accuracy = 0.7527\n",
      "model depth = 16, training set accuracy = 0.9512, validation set accuracy = 0.7496\n",
      "model depth = 17, training set accuracy = 0.9575, validation set accuracy = 0.7387\n",
      "model depth = 18, training set accuracy = 0.9642, validation set accuracy = 0.7418\n",
      "model depth = 19, training set accuracy = 0.9704, validation set accuracy = 0.7356\n",
      "model depth = 20, training set accuracy = 0.9761, validation set accuracy = 0.7294\n",
      "model depth = 21, training set accuracy = 0.9803, validation set accuracy = 0.7325\n",
      "model depth = 22, training set accuracy = 0.9860, validation set accuracy = 0.7185\n",
      "model depth = 23, training set accuracy = 0.9912, validation set accuracy = 0.7294\n",
      "model depth = 24, training set accuracy = 0.9938, validation set accuracy = 0.7263\n",
      "model depth = 25, training set accuracy = 0.9969, validation set accuracy = 0.7294\n",
      "model depth = 26, training set accuracy = 0.9979, validation set accuracy = 0.7232\n",
      "model depth = 27, training set accuracy = 0.9995, validation set accuracy = 0.7232\n",
      "model depth = 28, training set accuracy = 1.0000, validation set accuracy = 0.7123\n",
      "model depth = 29, training set accuracy = 1.0000, validation set accuracy = 0.7123\n",
      "model depth = 30, training set accuracy = 1.0000, validation set accuracy = 0.7123\n",
      "model depth = 31, training set accuracy = 1.0000, validation set accuracy = 0.7123\n",
      "model depth = 32, training set accuracy = 1.0000, validation set accuracy = 0.7123\n",
      "model depth = 33, training set accuracy = 1.0000, validation set accuracy = 0.7123\n",
      "model depth = 34, training set accuracy = 1.0000, validation set accuracy = 0.7123\n",
      "model depth = 35, training set accuracy = 1.0000, validation set accuracy = 0.7123\n",
      "model depth = 36, training set accuracy = 1.0000, validation set accuracy = 0.7123\n",
      "model depth = 37, training set accuracy = 1.0000, validation set accuracy = 0.7123\n",
      "model depth = 38, training set accuracy = 1.0000, validation set accuracy = 0.7123\n",
      "model depth = 39, training set accuracy = 1.0000, validation set accuracy = 0.7123\n",
      "model depth = 40, training set accuracy = 1.0000, validation set accuracy = 0.7123\n",
      "model depth = 41, training set accuracy = 1.0000, validation set accuracy = 0.7123\n",
      "model depth = 42, training set accuracy = 1.0000, validation set accuracy = 0.7123\n",
      "model depth = 43, training set accuracy = 1.0000, validation set accuracy = 0.7123\n",
      "model depth = 44, training set accuracy = 1.0000, validation set accuracy = 0.7123\n",
      "model depth = 45, training set accuracy = 1.0000, validation set accuracy = 0.7123\n",
      "model depth = 46, training set accuracy = 1.0000, validation set accuracy = 0.7123\n",
      "model depth = 47, training set accuracy = 1.0000, validation set accuracy = 0.7123\n",
      "model depth = 48, training set accuracy = 1.0000, validation set accuracy = 0.7123\n",
      "model depth = 49, training set accuracy = 1.0000, validation set accuracy = 0.7123\n",
      "model depth = 50, training set accuracy = 1.0000, validation set accuracy = 0.7123\n",
      "\n",
      "Best decision tree model:\n",
      "Depth: 7\n",
      "Accuracy: 0.7745\n"
     ]
    }
   ],
   "source": [
    "# Find the best fittting decision tree classifier model by varying depth\n",
    "\n",
    "best_dt_model = None\n",
    "best_dt_depth = 0\n",
    "best_dt_result = 0\n",
    "dt_results = []\n",
    "\n",
    "for depth in range(1, 51):\n",
    "    model = DecisionTreeClassifier(random_state=12345, max_depth=depth)\n",
    "    model.fit(features_train, target_train)\n",
    "    predictions_train = model.predict(features_train) \n",
    "    predictions_valid = model.predict(features_valid)\n",
    "    result_train = accuracy_score(target_train, predictions_train)\n",
    "    result_valid = accuracy_score(target_valid, predictions_valid)\n",
    "    print(f'model depth = {depth}, training set accuracy = {result_train:.4f}, validation set accuracy = {result_valid:.4f}')\n",
    "    dt_results.append([depth, result_train, result_valid]) \n",
    "    if result_valid > best_dt_result:\n",
    "        best_dt_depth = depth\n",
    "        best_dt_model = model\n",
    "        best_dt_result = result_valid\n",
    "\n",
    "dt_results = pd.DataFrame(dt_results, columns=['depth', 'result_train', 'result_valid'])\n",
    "\n",
    "print()\n",
    "print(\"Best decision tree model:\")\n",
    "print(\"Depth:\", best_dt_depth)\n",
    "print(f\"Accuracy: {best_dt_result:.4f}\")"
   ]
  },
  {
   "cell_type": "code",
   "execution_count": 9,
   "metadata": {},
   "outputs": [
    {
     "data": {
      "image/png": "[encoded data removed]",
      "text/plain": [
       "<Figure size 640x480 with 1 Axes>"
      ]
     },
     "metadata": {},
     "output_type": "display_data"
    }
   ],
   "source": [
    "# plot results for decision tree classifiers with varying depth\n",
    "\n",
    "plt.plot(dt_results['depth'], dt_results['result_valid'])\n",
    "plt.xlabel('Tree Depth')\n",
    "plt.ylabel('Validation Accuracy')\n",
    "plt.title('Decision Tree Model Learning Curve\\nVarying on Tree Depth')\n",
    "plt.show()"
   ]
  },
  {
   "cell_type": "markdown",
   "metadata": {},
   "source": [
    "The best decision tree classifier model has a depth of 7 and a good accuracy of 0.7745. The plot shows accuracy sharply dropping with greater depth beyond the peak, so this is the best possible model of this kind."
   ]
  },
  {
   "cell_type": "code",
   "execution_count": 10,
   "metadata": {},
   "outputs": [
    {
     "name": "stdout",
     "output_type": "stream",
     "text": [
      "model estimators = 1, training set accuracy = 0.9025, validation set accuracy = 0.7030\n",
      "model estimators = 2, training set accuracy = 0.9103, validation set accuracy = 0.7574\n",
      "model estimators = 3, training set accuracy = 0.9590, validation set accuracy = 0.7449\n",
      "model estimators = 4, training set accuracy = 0.9481, validation set accuracy = 0.7652\n",
      "model estimators = 5, training set accuracy = 0.9710, validation set accuracy = 0.7621\n",
      "model estimators = 6, training set accuracy = 0.9652, validation set accuracy = 0.7698\n",
      "model estimators = 7, training set accuracy = 0.9793, validation set accuracy = 0.7714\n",
      "model estimators = 8, training set accuracy = 0.9720, validation set accuracy = 0.7869\n",
      "model estimators = 9, training set accuracy = 0.9818, validation set accuracy = 0.7838\n",
      "model estimators = 10, training set accuracy = 0.9798, validation set accuracy = 0.7885\n",
      "model estimators = 11, training set accuracy = 0.9881, validation set accuracy = 0.7807\n",
      "model estimators = 12, training set accuracy = 0.9839, validation set accuracy = 0.7823\n",
      "model estimators = 13, training set accuracy = 0.9901, validation set accuracy = 0.7776\n",
      "model estimators = 14, training set accuracy = 0.9870, validation set accuracy = 0.7854\n",
      "model estimators = 15, training set accuracy = 0.9917, validation set accuracy = 0.7838\n",
      "model estimators = 16, training set accuracy = 0.9901, validation set accuracy = 0.7838\n",
      "model estimators = 17, training set accuracy = 0.9927, validation set accuracy = 0.7776\n",
      "model estimators = 18, training set accuracy = 0.9917, validation set accuracy = 0.7869\n",
      "model estimators = 19, training set accuracy = 0.9948, validation set accuracy = 0.7869\n",
      "model estimators = 20, training set accuracy = 0.9948, validation set accuracy = 0.7900\n",
      "model estimators = 21, training set accuracy = 0.9974, validation set accuracy = 0.7885\n",
      "model estimators = 22, training set accuracy = 0.9953, validation set accuracy = 0.7932\n",
      "model estimators = 23, training set accuracy = 0.9974, validation set accuracy = 0.7885\n",
      "model estimators = 24, training set accuracy = 0.9959, validation set accuracy = 0.7900\n",
      "model estimators = 25, training set accuracy = 0.9969, validation set accuracy = 0.7885\n",
      "model estimators = 26, training set accuracy = 0.9964, validation set accuracy = 0.7838\n",
      "model estimators = 27, training set accuracy = 0.9979, validation set accuracy = 0.7823\n",
      "model estimators = 28, training set accuracy = 0.9969, validation set accuracy = 0.7823\n",
      "model estimators = 29, training set accuracy = 0.9974, validation set accuracy = 0.7854\n",
      "model estimators = 30, training set accuracy = 0.9969, validation set accuracy = 0.7885\n",
      "model estimators = 31, training set accuracy = 0.9979, validation set accuracy = 0.7869\n",
      "model estimators = 32, training set accuracy = 0.9964, validation set accuracy = 0.7838\n",
      "model estimators = 33, training set accuracy = 0.9969, validation set accuracy = 0.7869\n",
      "model estimators = 34, training set accuracy = 0.9974, validation set accuracy = 0.7869\n",
      "model estimators = 35, training set accuracy = 0.9974, validation set accuracy = 0.7854\n",
      "model estimators = 36, training set accuracy = 0.9974, validation set accuracy = 0.7885\n",
      "model estimators = 37, training set accuracy = 0.9974, validation set accuracy = 0.7900\n",
      "model estimators = 38, training set accuracy = 0.9964, validation set accuracy = 0.7854\n",
      "model estimators = 39, training set accuracy = 0.9974, validation set accuracy = 0.7823\n",
      "model estimators = 40, training set accuracy = 0.9964, validation set accuracy = 0.7869\n",
      "model estimators = 41, training set accuracy = 0.9964, validation set accuracy = 0.7869\n",
      "model estimators = 42, training set accuracy = 0.9969, validation set accuracy = 0.7900\n",
      "model estimators = 43, training set accuracy = 0.9979, validation set accuracy = 0.7916\n",
      "model estimators = 44, training set accuracy = 0.9979, validation set accuracy = 0.7947\n",
      "model estimators = 45, training set accuracy = 0.9984, validation set accuracy = 0.7932\n",
      "model estimators = 46, training set accuracy = 0.9984, validation set accuracy = 0.7947\n",
      "model estimators = 47, training set accuracy = 0.9984, validation set accuracy = 0.7900\n",
      "model estimators = 48, training set accuracy = 0.9984, validation set accuracy = 0.7900\n",
      "model estimators = 49, training set accuracy = 0.9984, validation set accuracy = 0.7932\n",
      "model estimators = 50, training set accuracy = 0.9979, validation set accuracy = 0.7947\n",
      "\n",
      "Best random forest model:\n",
      "Estimators: 44\n",
      "Accuracy: 0.7947\n"
     ]
    }
   ],
   "source": [
    "# Find the best fittting random forest classifier model by varying estimators\n",
    "\n",
    "best_rf_model = None\n",
    "best_rf_est = 0\n",
    "best_rf_result = 0\n",
    "rf_results = []\n",
    "\n",
    "for est in range(1, 51):\n",
    "    model = RandomForestClassifier(random_state=12345, n_estimators=est)\n",
    "    model.fit(features_train, target_train)\n",
    "    predictions_train = model.predict(features_train) \n",
    "    predictions_valid = model.predict(features_valid)\n",
    "    result_train = accuracy_score(target_train, predictions_train)\n",
    "    result_valid = accuracy_score(target_valid, predictions_valid)\n",
    "    print(f'model estimators = {est}, training set accuracy = {result_train:.4f}, validation set accuracy = {result_valid:.4f}')\n",
    "    rf_results.append([est, result_train, result_valid]) \n",
    "    if result_valid > best_rf_result:\n",
    "        best_rf_est = est\n",
    "        best_rf_model = model\n",
    "        best_rf_result = result_valid\n",
    "        \n",
    "rf_results = pd.DataFrame(rf_results, columns=['est', 'result_train', 'result_valid'])\n",
    "\n",
    "print()\n",
    "print(\"Best random forest model:\")\n",
    "print(\"Estimators:\", best_rf_est)\n",
    "print(f\"Accuracy: {best_rf_result:.4f}\")"
   ]
  },
  {
   "cell_type": "code",
   "execution_count": 11,
   "metadata": {},
   "outputs": [
    {
     "data": {
      "image/png": "[encoded data removed]",
      "text/plain": [
       "<Figure size 640x480 with 1 Axes>"
      ]
     },
     "metadata": {},
     "output_type": "display_data"
    }
   ],
   "source": [
    "# plot results for random forest classifiers with varying estimators\n",
    "\n",
    "plt.plot(rf_results['est'], rf_results['result_valid'])\n",
    "plt.xlabel('Number of Estimators')\n",
    "plt.ylabel('Validation Accuracy')\n",
    "plt.title('Random Forest Model Learning Curve\\nVarying on Number of Estimators')\n",
    "plt.show()"
   ]
  },
  {
   "cell_type": "markdown",
   "metadata": {},
   "source": [
    "The best random forest classifier model I tested has 44 estimators and a great accuracy of 0.7947. I arbitrarily stopped after 50 estimators, but the plot indicates that models with more estimators achieve higher accuracy, so there might be better models of this type. However, accuracy hit something of a plateau after 10 estimators, so further improvement is likely to be small and outweighed by increased complexity. I want to see if a better model can be found by specifying tree depth in addition to estimators."
   ]
  },
  {
   "cell_type": "code",
   "execution_count": 12,
   "metadata": {},
   "outputs": [
    {
     "name": "stdout",
     "output_type": "stream",
     "text": [
      "model estimators = 1, depth = 1, training set accuracy = 0.7469, validation set accuracy = 0.7263\n",
      "model estimators = 1, depth = 2, training set accuracy = 0.7889, validation set accuracy = 0.7574\n",
      "model estimators = 1, depth = 3, training set accuracy = 0.7910, validation set accuracy = 0.7574\n",
      "model estimators = 1, depth = 4, training set accuracy = 0.7977, validation set accuracy = 0.7698\n",
      "model estimators = 1, depth = 5, training set accuracy = 0.8076, validation set accuracy = 0.7714\n",
      "model estimators = 1, depth = 6, training set accuracy = 0.8273, validation set accuracy = 0.7667\n",
      "model estimators = 1, depth = 7, training set accuracy = 0.8397, validation set accuracy = 0.7807\n",
      "model estimators = 1, depth = 8, training set accuracy = 0.8418, validation set accuracy = 0.7745\n",
      "model estimators = 1, depth = 9, training set accuracy = 0.8563, validation set accuracy = 0.7760\n",
      "model estimators = 1, depth = 10, training set accuracy = 0.8631, validation set accuracy = 0.7605\n",
      "model estimators = 1, depth = 11, training set accuracy = 0.8781, validation set accuracy = 0.7403\n",
      "model estimators = 1, depth = 12, training set accuracy = 0.8817, validation set accuracy = 0.7449\n",
      "model estimators = 1, depth = 13, training set accuracy = 0.8786, validation set accuracy = 0.7449\n",
      "model estimators = 1, depth = 14, training set accuracy = 0.8885, validation set accuracy = 0.7589\n",
      "model estimators = 1, depth = 15, training set accuracy = 0.8926, validation set accuracy = 0.7574\n",
      "model estimators = 1, depth = 16, training set accuracy = 0.8900, validation set accuracy = 0.7232\n",
      "model estimators = 1, depth = 17, training set accuracy = 0.8983, validation set accuracy = 0.7341\n",
      "model estimators = 1, depth = 18, training set accuracy = 0.8978, validation set accuracy = 0.7294\n",
      "model estimators = 1, depth = 19, training set accuracy = 0.9030, validation set accuracy = 0.7201\n",
      "model estimators = 1, depth = 20, training set accuracy = 0.9015, validation set accuracy = 0.7076\n",
      "model estimators = 1, depth = 21, training set accuracy = 0.9015, validation set accuracy = 0.7185\n",
      "model estimators = 1, depth = 22, training set accuracy = 0.8963, validation set accuracy = 0.7154\n",
      "model estimators = 1, depth = 23, training set accuracy = 0.9035, validation set accuracy = 0.7061\n",
      "model estimators = 1, depth = 24, training set accuracy = 0.9015, validation set accuracy = 0.7201\n",
      "model estimators = 1, depth = 25, training set accuracy = 0.9025, validation set accuracy = 0.7030\n",
      "model estimators = 1, depth = 26, training set accuracy = 0.9025, validation set accuracy = 0.7030\n",
      "model estimators = 1, depth = 27, training set accuracy = 0.9025, validation set accuracy = 0.7030\n",
      "model estimators = 1, depth = 28, training set accuracy = 0.9025, validation set accuracy = 0.7030\n",
      "model estimators = 1, depth = 29, training set accuracy = 0.9025, validation set accuracy = 0.7030\n",
      "model estimators = 1, depth = 30, training set accuracy = 0.9025, validation set accuracy = 0.7030\n",
      "model estimators = 2, depth = 1, training set accuracy = 0.7469, validation set accuracy = 0.7263\n",
      "model estimators = 2, depth = 2, training set accuracy = 0.7889, validation set accuracy = 0.7574\n",
      "model estimators = 2, depth = 3, training set accuracy = 0.7956, validation set accuracy = 0.7574\n",
      "model estimators = 2, depth = 4, training set accuracy = 0.8003, validation set accuracy = 0.7667\n",
      "model estimators = 2, depth = 5, training set accuracy = 0.8283, validation set accuracy = 0.7667\n",
      "model estimators = 2, depth = 6, training set accuracy = 0.8428, validation set accuracy = 0.7745\n",
      "model estimators = 2, depth = 7, training set accuracy = 0.8522, validation set accuracy = 0.7869\n",
      "model estimators = 2, depth = 8, training set accuracy = 0.8563, validation set accuracy = 0.7900\n",
      "model estimators = 2, depth = 9, training set accuracy = 0.8662, validation set accuracy = 0.7792\n",
      "model estimators = 2, depth = 10, training set accuracy = 0.8667, validation set accuracy = 0.7558\n",
      "model estimators = 2, depth = 11, training set accuracy = 0.8771, validation set accuracy = 0.7558\n",
      "model estimators = 2, depth = 12, training set accuracy = 0.8823, validation set accuracy = 0.7558\n",
      "model estimators = 2, depth = 13, training set accuracy = 0.8880, validation set accuracy = 0.7667\n",
      "model estimators = 2, depth = 14, training set accuracy = 0.8968, validation set accuracy = 0.7481\n",
      "model estimators = 2, depth = 15, training set accuracy = 0.8900, validation set accuracy = 0.7574\n",
      "model estimators = 2, depth = 16, training set accuracy = 0.8942, validation set accuracy = 0.7387\n",
      "model estimators = 2, depth = 17, training set accuracy = 0.9118, validation set accuracy = 0.7605\n",
      "model estimators = 2, depth = 18, training set accuracy = 0.9040, validation set accuracy = 0.7418\n",
      "model estimators = 2, depth = 19, training set accuracy = 0.9103, validation set accuracy = 0.7527\n",
      "model estimators = 2, depth = 20, training set accuracy = 0.9149, validation set accuracy = 0.7449\n",
      "model estimators = 2, depth = 21, training set accuracy = 0.9108, validation set accuracy = 0.7558\n",
      "model estimators = 2, depth = 22, training set accuracy = 0.9123, validation set accuracy = 0.7589\n",
      "model estimators = 2, depth = 23, training set accuracy = 0.9222, validation set accuracy = 0.7527\n",
      "model estimators = 2, depth = 24, training set accuracy = 0.9113, validation set accuracy = 0.7558\n",
      "model estimators = 2, depth = 25, training set accuracy = 0.9103, validation set accuracy = 0.7574\n",
      "model estimators = 2, depth = 26, training set accuracy = 0.9103, validation set accuracy = 0.7574\n",
      "model estimators = 2, depth = 27, training set accuracy = 0.9103, validation set accuracy = 0.7574\n",
      "model estimators = 2, depth = 28, training set accuracy = 0.9103, validation set accuracy = 0.7574\n",
      "model estimators = 2, depth = 29, training set accuracy = 0.9103, validation set accuracy = 0.7574\n",
      "model estimators = 2, depth = 30, training set accuracy = 0.9103, validation set accuracy = 0.7574\n",
      "model estimators = 3, depth = 1, training set accuracy = 0.7469, validation set accuracy = 0.7263\n",
      "model estimators = 3, depth = 2, training set accuracy = 0.7889, validation set accuracy = 0.7574\n",
      "model estimators = 3, depth = 3, training set accuracy = 0.7946, validation set accuracy = 0.7605\n",
      "model estimators = 3, depth = 4, training set accuracy = 0.8034, validation set accuracy = 0.7636\n",
      "model estimators = 3, depth = 5, training set accuracy = 0.8262, validation set accuracy = 0.7636\n",
      "model estimators = 3, depth = 6, training set accuracy = 0.8325, validation set accuracy = 0.7792\n",
      "model estimators = 3, depth = 7, training set accuracy = 0.8506, validation set accuracy = 0.7760\n",
      "model estimators = 3, depth = 8, training set accuracy = 0.8579, validation set accuracy = 0.7869\n",
      "model estimators = 3, depth = 9, training set accuracy = 0.8651, validation set accuracy = 0.7963\n",
      "model estimators = 3, depth = 10, training set accuracy = 0.8802, validation set accuracy = 0.7869\n",
      "model estimators = 3, depth = 11, training set accuracy = 0.8911, validation set accuracy = 0.7745\n",
      "model estimators = 3, depth = 12, training set accuracy = 0.8999, validation set accuracy = 0.7776\n",
      "model estimators = 3, depth = 13, training set accuracy = 0.9087, validation set accuracy = 0.7838\n",
      "model estimators = 3, depth = 14, training set accuracy = 0.9015, validation set accuracy = 0.7792\n",
      "model estimators = 3, depth = 15, training set accuracy = 0.9191, validation set accuracy = 0.7807\n",
      "model estimators = 3, depth = 16, training set accuracy = 0.9279, validation set accuracy = 0.7807\n",
      "model estimators = 3, depth = 17, training set accuracy = 0.9378, validation set accuracy = 0.7621\n",
      "model estimators = 3, depth = 18, training set accuracy = 0.9383, validation set accuracy = 0.7667\n",
      "model estimators = 3, depth = 19, training set accuracy = 0.9440, validation set accuracy = 0.7605\n",
      "model estimators = 3, depth = 20, training set accuracy = 0.9466, validation set accuracy = 0.7714\n",
      "model estimators = 3, depth = 21, training set accuracy = 0.9549, validation set accuracy = 0.7729\n",
      "model estimators = 3, depth = 22, training set accuracy = 0.9523, validation set accuracy = 0.7652\n",
      "model estimators = 3, depth = 23, training set accuracy = 0.9595, validation set accuracy = 0.7589\n",
      "model estimators = 3, depth = 24, training set accuracy = 0.9559, validation set accuracy = 0.7527\n",
      "model estimators = 3, depth = 25, training set accuracy = 0.9590, validation set accuracy = 0.7449\n",
      "model estimators = 3, depth = 26, training set accuracy = 0.9590, validation set accuracy = 0.7449\n",
      "model estimators = 3, depth = 27, training set accuracy = 0.9590, validation set accuracy = 0.7449\n"
     ]
    },
    {
     "name": "stdout",
     "output_type": "stream",
     "text": [
      "model estimators = 3, depth = 28, training set accuracy = 0.9590, validation set accuracy = 0.7449\n",
      "model estimators = 3, depth = 29, training set accuracy = 0.9590, validation set accuracy = 0.7449\n",
      "model estimators = 3, depth = 30, training set accuracy = 0.9590, validation set accuracy = 0.7449\n",
      "model estimators = 4, depth = 1, training set accuracy = 0.7469, validation set accuracy = 0.7263\n",
      "model estimators = 4, depth = 2, training set accuracy = 0.7962, validation set accuracy = 0.7621\n",
      "model estimators = 4, depth = 3, training set accuracy = 0.7951, validation set accuracy = 0.7605\n",
      "model estimators = 4, depth = 4, training set accuracy = 0.8034, validation set accuracy = 0.7652\n",
      "model estimators = 4, depth = 5, training set accuracy = 0.8252, validation set accuracy = 0.7621\n",
      "model estimators = 4, depth = 6, training set accuracy = 0.8408, validation set accuracy = 0.7776\n",
      "model estimators = 4, depth = 7, training set accuracy = 0.8558, validation set accuracy = 0.7776\n",
      "model estimators = 4, depth = 8, training set accuracy = 0.8620, validation set accuracy = 0.7932\n",
      "model estimators = 4, depth = 9, training set accuracy = 0.8667, validation set accuracy = 0.7947\n",
      "model estimators = 4, depth = 10, training set accuracy = 0.8823, validation set accuracy = 0.7947\n",
      "model estimators = 4, depth = 11, training set accuracy = 0.8900, validation set accuracy = 0.7760\n",
      "model estimators = 4, depth = 12, training set accuracy = 0.9051, validation set accuracy = 0.7776\n",
      "model estimators = 4, depth = 13, training set accuracy = 0.9108, validation set accuracy = 0.7838\n",
      "model estimators = 4, depth = 14, training set accuracy = 0.9149, validation set accuracy = 0.7683\n",
      "model estimators = 4, depth = 15, training set accuracy = 0.9331, validation set accuracy = 0.7760\n",
      "model estimators = 4, depth = 16, training set accuracy = 0.9357, validation set accuracy = 0.7589\n",
      "model estimators = 4, depth = 17, training set accuracy = 0.9424, validation set accuracy = 0.7667\n",
      "model estimators = 4, depth = 18, training set accuracy = 0.9409, validation set accuracy = 0.7745\n",
      "model estimators = 4, depth = 19, training set accuracy = 0.9481, validation set accuracy = 0.7667\n",
      "model estimators = 4, depth = 20, training set accuracy = 0.9476, validation set accuracy = 0.7776\n",
      "model estimators = 4, depth = 21, training set accuracy = 0.9544, validation set accuracy = 0.7714\n",
      "model estimators = 4, depth = 22, training set accuracy = 0.9497, validation set accuracy = 0.7729\n",
      "model estimators = 4, depth = 23, training set accuracy = 0.9492, validation set accuracy = 0.7683\n",
      "model estimators = 4, depth = 24, training set accuracy = 0.9461, validation set accuracy = 0.7667\n",
      "model estimators = 4, depth = 25, training set accuracy = 0.9481, validation set accuracy = 0.7652\n",
      "model estimators = 4, depth = 26, training set accuracy = 0.9481, validation set accuracy = 0.7652\n",
      "model estimators = 4, depth = 27, training set accuracy = 0.9481, validation set accuracy = 0.7652\n",
      "model estimators = 4, depth = 28, training set accuracy = 0.9481, validation set accuracy = 0.7652\n",
      "model estimators = 4, depth = 29, training set accuracy = 0.9481, validation set accuracy = 0.7652\n",
      "model estimators = 4, depth = 30, training set accuracy = 0.9481, validation set accuracy = 0.7652\n",
      "model estimators = 5, depth = 1, training set accuracy = 0.7469, validation set accuracy = 0.7263\n",
      "model estimators = 5, depth = 2, training set accuracy = 0.7573, validation set accuracy = 0.7356\n",
      "model estimators = 5, depth = 3, training set accuracy = 0.7956, validation set accuracy = 0.7605\n",
      "model estimators = 5, depth = 4, training set accuracy = 0.8050, validation set accuracy = 0.7667\n",
      "model estimators = 5, depth = 5, training set accuracy = 0.8252, validation set accuracy = 0.7698\n",
      "model estimators = 5, depth = 6, training set accuracy = 0.8428, validation set accuracy = 0.7854\n",
      "model estimators = 5, depth = 7, training set accuracy = 0.8553, validation set accuracy = 0.7807\n",
      "model estimators = 5, depth = 8, training set accuracy = 0.8657, validation set accuracy = 0.7823\n",
      "model estimators = 5, depth = 9, training set accuracy = 0.8672, validation set accuracy = 0.7900\n",
      "model estimators = 5, depth = 10, training set accuracy = 0.8802, validation set accuracy = 0.7963\n",
      "model estimators = 5, depth = 11, training set accuracy = 0.8983, validation set accuracy = 0.7807\n",
      "model estimators = 5, depth = 12, training set accuracy = 0.9061, validation set accuracy = 0.7885\n",
      "model estimators = 5, depth = 13, training set accuracy = 0.9113, validation set accuracy = 0.7916\n",
      "model estimators = 5, depth = 14, training set accuracy = 0.9222, validation set accuracy = 0.7714\n",
      "model estimators = 5, depth = 15, training set accuracy = 0.9305, validation set accuracy = 0.7963\n",
      "model estimators = 5, depth = 16, training set accuracy = 0.9357, validation set accuracy = 0.7792\n",
      "model estimators = 5, depth = 17, training set accuracy = 0.9461, validation set accuracy = 0.7745\n",
      "model estimators = 5, depth = 18, training set accuracy = 0.9487, validation set accuracy = 0.7652\n",
      "model estimators = 5, depth = 19, training set accuracy = 0.9595, validation set accuracy = 0.7574\n",
      "model estimators = 5, depth = 20, training set accuracy = 0.9616, validation set accuracy = 0.7776\n",
      "model estimators = 5, depth = 21, training set accuracy = 0.9678, validation set accuracy = 0.7636\n",
      "model estimators = 5, depth = 22, training set accuracy = 0.9694, validation set accuracy = 0.7652\n",
      "model estimators = 5, depth = 23, training set accuracy = 0.9704, validation set accuracy = 0.7667\n",
      "model estimators = 5, depth = 24, training set accuracy = 0.9684, validation set accuracy = 0.7667\n",
      "model estimators = 5, depth = 25, training set accuracy = 0.9725, validation set accuracy = 0.7589\n",
      "model estimators = 5, depth = 26, training set accuracy = 0.9710, validation set accuracy = 0.7621\n",
      "model estimators = 5, depth = 27, training set accuracy = 0.9710, validation set accuracy = 0.7621\n",
      "model estimators = 5, depth = 28, training set accuracy = 0.9710, validation set accuracy = 0.7621\n",
      "model estimators = 5, depth = 29, training set accuracy = 0.9710, validation set accuracy = 0.7621\n",
      "model estimators = 5, depth = 30, training set accuracy = 0.9710, validation set accuracy = 0.7621\n",
      "model estimators = 6, depth = 1, training set accuracy = 0.7464, validation set accuracy = 0.7278\n",
      "model estimators = 6, depth = 2, training set accuracy = 0.7982, validation set accuracy = 0.7652\n",
      "model estimators = 6, depth = 3, training set accuracy = 0.7988, validation set accuracy = 0.7652\n",
      "model estimators = 6, depth = 4, training set accuracy = 0.8050, validation set accuracy = 0.7714\n",
      "model estimators = 6, depth = 5, training set accuracy = 0.8294, validation set accuracy = 0.7698\n",
      "model estimators = 6, depth = 6, training set accuracy = 0.8428, validation set accuracy = 0.7900\n",
      "model estimators = 6, depth = 7, training set accuracy = 0.8568, validation set accuracy = 0.7854\n",
      "model estimators = 6, depth = 8, training set accuracy = 0.8636, validation set accuracy = 0.7869\n",
      "model estimators = 6, depth = 9, training set accuracy = 0.8734, validation set accuracy = 0.7947\n",
      "model estimators = 6, depth = 10, training set accuracy = 0.8859, validation set accuracy = 0.7885\n",
      "model estimators = 6, depth = 11, training set accuracy = 0.8968, validation set accuracy = 0.7823\n",
      "model estimators = 6, depth = 12, training set accuracy = 0.9077, validation set accuracy = 0.7823\n",
      "model estimators = 6, depth = 13, training set accuracy = 0.9129, validation set accuracy = 0.7776\n",
      "model estimators = 6, depth = 14, training set accuracy = 0.9274, validation set accuracy = 0.7667\n",
      "model estimators = 6, depth = 15, training set accuracy = 0.9367, validation set accuracy = 0.7854\n",
      "model estimators = 6, depth = 16, training set accuracy = 0.9492, validation set accuracy = 0.7714\n",
      "model estimators = 6, depth = 17, training set accuracy = 0.9523, validation set accuracy = 0.7776\n",
      "model estimators = 6, depth = 18, training set accuracy = 0.9538, validation set accuracy = 0.7745\n",
      "model estimators = 6, depth = 19, training set accuracy = 0.9642, validation set accuracy = 0.7574\n",
      "model estimators = 6, depth = 20, training set accuracy = 0.9647, validation set accuracy = 0.7729\n",
      "model estimators = 6, depth = 21, training set accuracy = 0.9673, validation set accuracy = 0.7652\n",
      "model estimators = 6, depth = 22, training set accuracy = 0.9673, validation set accuracy = 0.7745\n"
     ]
    },
    {
     "name": "stdout",
     "output_type": "stream",
     "text": [
      "model estimators = 6, depth = 23, training set accuracy = 0.9673, validation set accuracy = 0.7698\n",
      "model estimators = 6, depth = 24, training set accuracy = 0.9658, validation set accuracy = 0.7714\n",
      "model estimators = 6, depth = 25, training set accuracy = 0.9658, validation set accuracy = 0.7745\n",
      "model estimators = 6, depth = 26, training set accuracy = 0.9652, validation set accuracy = 0.7698\n",
      "model estimators = 6, depth = 27, training set accuracy = 0.9652, validation set accuracy = 0.7698\n",
      "model estimators = 6, depth = 28, training set accuracy = 0.9652, validation set accuracy = 0.7698\n",
      "model estimators = 6, depth = 29, training set accuracy = 0.9652, validation set accuracy = 0.7698\n",
      "model estimators = 6, depth = 30, training set accuracy = 0.9652, validation set accuracy = 0.7698\n",
      "model estimators = 7, depth = 1, training set accuracy = 0.7459, validation set accuracy = 0.7294\n",
      "model estimators = 7, depth = 2, training set accuracy = 0.7573, validation set accuracy = 0.7372\n",
      "model estimators = 7, depth = 3, training set accuracy = 0.7998, validation set accuracy = 0.7683\n",
      "model estimators = 7, depth = 4, training set accuracy = 0.8226, validation set accuracy = 0.7760\n",
      "model estimators = 7, depth = 5, training set accuracy = 0.8299, validation set accuracy = 0.7760\n",
      "model estimators = 7, depth = 6, training set accuracy = 0.8454, validation set accuracy = 0.7854\n",
      "model estimators = 7, depth = 7, training set accuracy = 0.8574, validation set accuracy = 0.7823\n",
      "model estimators = 7, depth = 8, training set accuracy = 0.8662, validation set accuracy = 0.7869\n",
      "model estimators = 7, depth = 9, training set accuracy = 0.8755, validation set accuracy = 0.7885\n",
      "model estimators = 7, depth = 10, training set accuracy = 0.8911, validation set accuracy = 0.7947\n",
      "model estimators = 7, depth = 11, training set accuracy = 0.8999, validation set accuracy = 0.7900\n",
      "model estimators = 7, depth = 12, training set accuracy = 0.9108, validation set accuracy = 0.7947\n",
      "model estimators = 7, depth = 13, training set accuracy = 0.9196, validation set accuracy = 0.7947\n",
      "model estimators = 7, depth = 14, training set accuracy = 0.9300, validation set accuracy = 0.7854\n",
      "model estimators = 7, depth = 15, training set accuracy = 0.9383, validation set accuracy = 0.7994\n",
      "model estimators = 7, depth = 16, training set accuracy = 0.9435, validation set accuracy = 0.7916\n",
      "model estimators = 7, depth = 17, training set accuracy = 0.9559, validation set accuracy = 0.7807\n",
      "model estimators = 7, depth = 18, training set accuracy = 0.9575, validation set accuracy = 0.7854\n",
      "model estimators = 7, depth = 19, training set accuracy = 0.9710, validation set accuracy = 0.7698\n",
      "model estimators = 7, depth = 20, training set accuracy = 0.9699, validation set accuracy = 0.7869\n",
      "model estimators = 7, depth = 21, training set accuracy = 0.9735, validation set accuracy = 0.7807\n",
      "model estimators = 7, depth = 22, training set accuracy = 0.9777, validation set accuracy = 0.7714\n",
      "model estimators = 7, depth = 23, training set accuracy = 0.9777, validation set accuracy = 0.7667\n",
      "model estimators = 7, depth = 24, training set accuracy = 0.9767, validation set accuracy = 0.7792\n",
      "model estimators = 7, depth = 25, training set accuracy = 0.9787, validation set accuracy = 0.7745\n",
      "model estimators = 7, depth = 26, training set accuracy = 0.9793, validation set accuracy = 0.7714\n",
      "model estimators = 7, depth = 27, training set accuracy = 0.9793, validation set accuracy = 0.7714\n",
      "model estimators = 7, depth = 28, training set accuracy = 0.9793, validation set accuracy = 0.7714\n",
      "model estimators = 7, depth = 29, training set accuracy = 0.9793, validation set accuracy = 0.7714\n",
      "model estimators = 7, depth = 30, training set accuracy = 0.9793, validation set accuracy = 0.7714\n",
      "model estimators = 8, depth = 1, training set accuracy = 0.7453, validation set accuracy = 0.7309\n",
      "model estimators = 8, depth = 2, training set accuracy = 0.7930, validation set accuracy = 0.7621\n",
      "model estimators = 8, depth = 3, training set accuracy = 0.8013, validation set accuracy = 0.7698\n",
      "model estimators = 8, depth = 4, training set accuracy = 0.8211, validation set accuracy = 0.7760\n",
      "model estimators = 8, depth = 5, training set accuracy = 0.8278, validation set accuracy = 0.7776\n",
      "model estimators = 8, depth = 6, training set accuracy = 0.8428, validation set accuracy = 0.7854\n",
      "model estimators = 8, depth = 7, training set accuracy = 0.8600, validation set accuracy = 0.7838\n",
      "model estimators = 8, depth = 8, training set accuracy = 0.8641, validation set accuracy = 0.7885\n",
      "model estimators = 8, depth = 9, training set accuracy = 0.8740, validation set accuracy = 0.7885\n",
      "model estimators = 8, depth = 10, training set accuracy = 0.8895, validation set accuracy = 0.7963\n",
      "model estimators = 8, depth = 11, training set accuracy = 0.8937, validation set accuracy = 0.7854\n",
      "model estimators = 8, depth = 12, training set accuracy = 0.9134, validation set accuracy = 0.7900\n",
      "model estimators = 8, depth = 13, training set accuracy = 0.9206, validation set accuracy = 0.7963\n",
      "model estimators = 8, depth = 14, training set accuracy = 0.9289, validation set accuracy = 0.7792\n",
      "model estimators = 8, depth = 15, training set accuracy = 0.9424, validation set accuracy = 0.7900\n",
      "model estimators = 8, depth = 16, training set accuracy = 0.9481, validation set accuracy = 0.7838\n",
      "model estimators = 8, depth = 17, training set accuracy = 0.9585, validation set accuracy = 0.7838\n",
      "model estimators = 8, depth = 18, training set accuracy = 0.9585, validation set accuracy = 0.7823\n",
      "model estimators = 8, depth = 19, training set accuracy = 0.9710, validation set accuracy = 0.7792\n",
      "model estimators = 8, depth = 20, training set accuracy = 0.9735, validation set accuracy = 0.7838\n",
      "model estimators = 8, depth = 21, training set accuracy = 0.9741, validation set accuracy = 0.7745\n",
      "model estimators = 8, depth = 22, training set accuracy = 0.9761, validation set accuracy = 0.7807\n",
      "model estimators = 8, depth = 23, training set accuracy = 0.9751, validation set accuracy = 0.7776\n",
      "model estimators = 8, depth = 24, training set accuracy = 0.9725, validation set accuracy = 0.7869\n",
      "model estimators = 8, depth = 25, training set accuracy = 0.9730, validation set accuracy = 0.7900\n",
      "model estimators = 8, depth = 26, training set accuracy = 0.9720, validation set accuracy = 0.7869\n",
      "model estimators = 8, depth = 27, training set accuracy = 0.9720, validation set accuracy = 0.7869\n",
      "model estimators = 8, depth = 28, training set accuracy = 0.9720, validation set accuracy = 0.7869\n",
      "model estimators = 8, depth = 29, training set accuracy = 0.9720, validation set accuracy = 0.7869\n",
      "model estimators = 8, depth = 30, training set accuracy = 0.9720, validation set accuracy = 0.7869\n",
      "model estimators = 9, depth = 1, training set accuracy = 0.7453, validation set accuracy = 0.7309\n",
      "model estimators = 9, depth = 2, training set accuracy = 0.7599, validation set accuracy = 0.7387\n",
      "model estimators = 9, depth = 3, training set accuracy = 0.7988, validation set accuracy = 0.7683\n",
      "model estimators = 9, depth = 4, training set accuracy = 0.8226, validation set accuracy = 0.7760\n",
      "model estimators = 9, depth = 5, training set accuracy = 0.8283, validation set accuracy = 0.7776\n",
      "model estimators = 9, depth = 6, training set accuracy = 0.8428, validation set accuracy = 0.7838\n",
      "model estimators = 9, depth = 7, training set accuracy = 0.8558, validation set accuracy = 0.7854\n",
      "model estimators = 9, depth = 8, training set accuracy = 0.8631, validation set accuracy = 0.7869\n",
      "model estimators = 9, depth = 9, training set accuracy = 0.8750, validation set accuracy = 0.7900\n",
      "model estimators = 9, depth = 10, training set accuracy = 0.8874, validation set accuracy = 0.7963\n",
      "model estimators = 9, depth = 11, training set accuracy = 0.8957, validation set accuracy = 0.7869\n",
      "model estimators = 9, depth = 12, training set accuracy = 0.9129, validation set accuracy = 0.7900\n",
      "model estimators = 9, depth = 13, training set accuracy = 0.9222, validation set accuracy = 0.8009\n",
      "model estimators = 9, depth = 14, training set accuracy = 0.9295, validation set accuracy = 0.7916\n",
      "model estimators = 9, depth = 15, training set accuracy = 0.9419, validation set accuracy = 0.7869\n",
      "model estimators = 9, depth = 16, training set accuracy = 0.9518, validation set accuracy = 0.7869\n",
      "model estimators = 9, depth = 17, training set accuracy = 0.9585, validation set accuracy = 0.7807\n",
      "model estimators = 9, depth = 18, training set accuracy = 0.9637, validation set accuracy = 0.7838\n",
      "model estimators = 9, depth = 19, training set accuracy = 0.9730, validation set accuracy = 0.7729\n"
     ]
    },
    {
     "name": "stdout",
     "output_type": "stream",
     "text": [
      "model estimators = 9, depth = 20, training set accuracy = 0.9746, validation set accuracy = 0.7776\n",
      "model estimators = 9, depth = 21, training set accuracy = 0.9772, validation set accuracy = 0.7807\n",
      "model estimators = 9, depth = 22, training set accuracy = 0.9808, validation set accuracy = 0.7807\n",
      "model estimators = 9, depth = 23, training set accuracy = 0.9824, validation set accuracy = 0.7776\n",
      "model estimators = 9, depth = 24, training set accuracy = 0.9818, validation set accuracy = 0.7838\n",
      "model estimators = 9, depth = 25, training set accuracy = 0.9834, validation set accuracy = 0.7854\n",
      "model estimators = 9, depth = 26, training set accuracy = 0.9818, validation set accuracy = 0.7838\n",
      "model estimators = 9, depth = 27, training set accuracy = 0.9818, validation set accuracy = 0.7838\n",
      "model estimators = 9, depth = 28, training set accuracy = 0.9818, validation set accuracy = 0.7838\n",
      "model estimators = 9, depth = 29, training set accuracy = 0.9818, validation set accuracy = 0.7838\n",
      "model estimators = 9, depth = 30, training set accuracy = 0.9818, validation set accuracy = 0.7838\n",
      "model estimators = 10, depth = 1, training set accuracy = 0.7484, validation set accuracy = 0.7309\n",
      "model estimators = 10, depth = 2, training set accuracy = 0.7915, validation set accuracy = 0.7636\n",
      "model estimators = 10, depth = 3, training set accuracy = 0.8045, validation set accuracy = 0.7714\n",
      "model estimators = 10, depth = 4, training set accuracy = 0.8242, validation set accuracy = 0.7776\n",
      "model estimators = 10, depth = 5, training set accuracy = 0.8283, validation set accuracy = 0.7776\n",
      "model estimators = 10, depth = 6, training set accuracy = 0.8428, validation set accuracy = 0.7854\n",
      "model estimators = 10, depth = 7, training set accuracy = 0.8594, validation set accuracy = 0.7869\n",
      "model estimators = 10, depth = 8, training set accuracy = 0.8646, validation set accuracy = 0.7854\n",
      "model estimators = 10, depth = 9, training set accuracy = 0.8766, validation set accuracy = 0.7947\n",
      "model estimators = 10, depth = 10, training set accuracy = 0.8885, validation set accuracy = 0.7900\n",
      "model estimators = 10, depth = 11, training set accuracy = 0.8989, validation set accuracy = 0.7885\n",
      "model estimators = 10, depth = 12, training set accuracy = 0.9170, validation set accuracy = 0.7916\n",
      "model estimators = 10, depth = 13, training set accuracy = 0.9212, validation set accuracy = 0.7932\n",
      "model estimators = 10, depth = 14, training set accuracy = 0.9326, validation set accuracy = 0.7885\n",
      "model estimators = 10, depth = 15, training set accuracy = 0.9398, validation set accuracy = 0.7900\n",
      "model estimators = 10, depth = 16, training set accuracy = 0.9538, validation set accuracy = 0.7854\n",
      "model estimators = 10, depth = 17, training set accuracy = 0.9632, validation set accuracy = 0.7854\n",
      "model estimators = 10, depth = 18, training set accuracy = 0.9663, validation set accuracy = 0.7854\n",
      "model estimators = 10, depth = 19, training set accuracy = 0.9746, validation set accuracy = 0.7807\n",
      "model estimators = 10, depth = 20, training set accuracy = 0.9782, validation set accuracy = 0.7776\n",
      "model estimators = 10, depth = 21, training set accuracy = 0.9803, validation set accuracy = 0.7869\n",
      "model estimators = 10, depth = 22, training set accuracy = 0.9829, validation set accuracy = 0.7854\n",
      "model estimators = 10, depth = 23, training set accuracy = 0.9803, validation set accuracy = 0.7823\n",
      "model estimators = 10, depth = 24, training set accuracy = 0.9803, validation set accuracy = 0.7869\n",
      "model estimators = 10, depth = 25, training set accuracy = 0.9798, validation set accuracy = 0.7869\n",
      "model estimators = 10, depth = 26, training set accuracy = 0.9798, validation set accuracy = 0.7885\n",
      "model estimators = 10, depth = 27, training set accuracy = 0.9798, validation set accuracy = 0.7885\n",
      "model estimators = 10, depth = 28, training set accuracy = 0.9798, validation set accuracy = 0.7885\n",
      "model estimators = 10, depth = 29, training set accuracy = 0.9798, validation set accuracy = 0.7885\n",
      "model estimators = 10, depth = 30, training set accuracy = 0.9798, validation set accuracy = 0.7885\n",
      "model estimators = 11, depth = 1, training set accuracy = 0.7490, validation set accuracy = 0.7309\n",
      "model estimators = 11, depth = 2, training set accuracy = 0.7910, validation set accuracy = 0.7652\n",
      "model estimators = 11, depth = 3, training set accuracy = 0.8159, validation set accuracy = 0.7745\n",
      "model estimators = 11, depth = 4, training set accuracy = 0.8237, validation set accuracy = 0.7776\n",
      "model estimators = 11, depth = 5, training set accuracy = 0.8299, validation set accuracy = 0.7760\n",
      "model estimators = 11, depth = 6, training set accuracy = 0.8434, validation set accuracy = 0.7807\n",
      "model estimators = 11, depth = 7, training set accuracy = 0.8605, validation set accuracy = 0.7869\n",
      "model estimators = 11, depth = 8, training set accuracy = 0.8636, validation set accuracy = 0.7885\n",
      "model estimators = 11, depth = 9, training set accuracy = 0.8755, validation set accuracy = 0.7947\n",
      "model estimators = 11, depth = 10, training set accuracy = 0.8900, validation set accuracy = 0.7900\n",
      "model estimators = 11, depth = 11, training set accuracy = 0.8983, validation set accuracy = 0.7854\n",
      "model estimators = 11, depth = 12, training set accuracy = 0.9175, validation set accuracy = 0.7885\n",
      "model estimators = 11, depth = 13, training set accuracy = 0.9227, validation set accuracy = 0.7978\n",
      "model estimators = 11, depth = 14, training set accuracy = 0.9326, validation set accuracy = 0.7885\n",
      "model estimators = 11, depth = 15, training set accuracy = 0.9367, validation set accuracy = 0.7869\n",
      "model estimators = 11, depth = 16, training set accuracy = 0.9538, validation set accuracy = 0.7885\n",
      "model estimators = 11, depth = 17, training set accuracy = 0.9606, validation set accuracy = 0.7776\n",
      "model estimators = 11, depth = 18, training set accuracy = 0.9606, validation set accuracy = 0.7932\n",
      "model estimators = 11, depth = 19, training set accuracy = 0.9715, validation set accuracy = 0.7823\n",
      "model estimators = 11, depth = 20, training set accuracy = 0.9782, validation set accuracy = 0.7838\n",
      "model estimators = 11, depth = 21, training set accuracy = 0.9824, validation set accuracy = 0.7838\n",
      "model estimators = 11, depth = 22, training set accuracy = 0.9839, validation set accuracy = 0.7823\n",
      "model estimators = 11, depth = 23, training set accuracy = 0.9860, validation set accuracy = 0.7838\n",
      "model estimators = 11, depth = 24, training set accuracy = 0.9870, validation set accuracy = 0.7900\n",
      "model estimators = 11, depth = 25, training set accuracy = 0.9870, validation set accuracy = 0.7838\n",
      "model estimators = 11, depth = 26, training set accuracy = 0.9881, validation set accuracy = 0.7807\n",
      "model estimators = 11, depth = 27, training set accuracy = 0.9881, validation set accuracy = 0.7807\n",
      "model estimators = 11, depth = 28, training set accuracy = 0.9881, validation set accuracy = 0.7807\n",
      "model estimators = 11, depth = 29, training set accuracy = 0.9881, validation set accuracy = 0.7807\n",
      "model estimators = 11, depth = 30, training set accuracy = 0.9881, validation set accuracy = 0.7807\n",
      "model estimators = 12, depth = 1, training set accuracy = 0.7490, validation set accuracy = 0.7309\n",
      "model estimators = 12, depth = 2, training set accuracy = 0.7915, validation set accuracy = 0.7652\n",
      "model estimators = 12, depth = 3, training set accuracy = 0.8117, validation set accuracy = 0.7683\n",
      "model estimators = 12, depth = 4, training set accuracy = 0.8231, validation set accuracy = 0.7776\n",
      "model estimators = 12, depth = 5, training set accuracy = 0.8309, validation set accuracy = 0.7792\n",
      "model estimators = 12, depth = 6, training set accuracy = 0.8439, validation set accuracy = 0.7792\n",
      "model estimators = 12, depth = 7, training set accuracy = 0.8579, validation set accuracy = 0.7838\n",
      "model estimators = 12, depth = 8, training set accuracy = 0.8677, validation set accuracy = 0.7854\n",
      "model estimators = 12, depth = 9, training set accuracy = 0.8802, validation set accuracy = 0.7947\n",
      "model estimators = 12, depth = 10, training set accuracy = 0.8911, validation set accuracy = 0.7932\n",
      "model estimators = 12, depth = 11, training set accuracy = 0.8989, validation set accuracy = 0.7885\n",
      "model estimators = 12, depth = 12, training set accuracy = 0.9165, validation set accuracy = 0.7869\n",
      "model estimators = 12, depth = 13, training set accuracy = 0.9217, validation set accuracy = 0.7916\n",
      "model estimators = 12, depth = 14, training set accuracy = 0.9300, validation set accuracy = 0.7869\n"
     ]
    },
    {
     "name": "stdout",
     "output_type": "stream",
     "text": [
      "model estimators = 12, depth = 15, training set accuracy = 0.9372, validation set accuracy = 0.7869\n",
      "model estimators = 12, depth = 16, training set accuracy = 0.9554, validation set accuracy = 0.7854\n",
      "model estimators = 12, depth = 17, training set accuracy = 0.9637, validation set accuracy = 0.7838\n",
      "model estimators = 12, depth = 18, training set accuracy = 0.9621, validation set accuracy = 0.7885\n",
      "model estimators = 12, depth = 19, training set accuracy = 0.9730, validation set accuracy = 0.7869\n",
      "model estimators = 12, depth = 20, training set accuracy = 0.9803, validation set accuracy = 0.7869\n",
      "model estimators = 12, depth = 21, training set accuracy = 0.9798, validation set accuracy = 0.7854\n",
      "model estimators = 12, depth = 22, training set accuracy = 0.9829, validation set accuracy = 0.7885\n",
      "model estimators = 12, depth = 23, training set accuracy = 0.9839, validation set accuracy = 0.7807\n",
      "model estimators = 12, depth = 24, training set accuracy = 0.9834, validation set accuracy = 0.7885\n",
      "model estimators = 12, depth = 25, training set accuracy = 0.9829, validation set accuracy = 0.7885\n",
      "model estimators = 12, depth = 26, training set accuracy = 0.9839, validation set accuracy = 0.7869\n",
      "model estimators = 12, depth = 27, training set accuracy = 0.9839, validation set accuracy = 0.7838\n",
      "model estimators = 12, depth = 28, training set accuracy = 0.9839, validation set accuracy = 0.7823\n",
      "model estimators = 12, depth = 29, training set accuracy = 0.9839, validation set accuracy = 0.7823\n",
      "model estimators = 12, depth = 30, training set accuracy = 0.9839, validation set accuracy = 0.7823\n",
      "model estimators = 13, depth = 1, training set accuracy = 0.7490, validation set accuracy = 0.7309\n",
      "model estimators = 13, depth = 2, training set accuracy = 0.7930, validation set accuracy = 0.7652\n",
      "model estimators = 13, depth = 3, training set accuracy = 0.8185, validation set accuracy = 0.7745\n",
      "model estimators = 13, depth = 4, training set accuracy = 0.8237, validation set accuracy = 0.7745\n",
      "model estimators = 13, depth = 5, training set accuracy = 0.8325, validation set accuracy = 0.7776\n",
      "model estimators = 13, depth = 6, training set accuracy = 0.8454, validation set accuracy = 0.7792\n",
      "model estimators = 13, depth = 7, training set accuracy = 0.8600, validation set accuracy = 0.7885\n",
      "model estimators = 13, depth = 8, training set accuracy = 0.8672, validation set accuracy = 0.7854\n",
      "model estimators = 13, depth = 9, training set accuracy = 0.8797, validation set accuracy = 0.7900\n",
      "model estimators = 13, depth = 10, training set accuracy = 0.8895, validation set accuracy = 0.7885\n",
      "model estimators = 13, depth = 11, training set accuracy = 0.8978, validation set accuracy = 0.7916\n",
      "model estimators = 13, depth = 12, training set accuracy = 0.9191, validation set accuracy = 0.7900\n",
      "model estimators = 13, depth = 13, training set accuracy = 0.9217, validation set accuracy = 0.7978\n",
      "model estimators = 13, depth = 14, training set accuracy = 0.9315, validation set accuracy = 0.7900\n",
      "model estimators = 13, depth = 15, training set accuracy = 0.9404, validation set accuracy = 0.7807\n",
      "model estimators = 13, depth = 16, training set accuracy = 0.9549, validation set accuracy = 0.7869\n",
      "model estimators = 13, depth = 17, training set accuracy = 0.9611, validation set accuracy = 0.7869\n",
      "model estimators = 13, depth = 18, training set accuracy = 0.9611, validation set accuracy = 0.7807\n",
      "model estimators = 13, depth = 19, training set accuracy = 0.9756, validation set accuracy = 0.7823\n",
      "model estimators = 13, depth = 20, training set accuracy = 0.9808, validation set accuracy = 0.7792\n",
      "model estimators = 13, depth = 21, training set accuracy = 0.9824, validation set accuracy = 0.7792\n",
      "model estimators = 13, depth = 22, training set accuracy = 0.9855, validation set accuracy = 0.7838\n",
      "model estimators = 13, depth = 23, training set accuracy = 0.9870, validation set accuracy = 0.7792\n",
      "model estimators = 13, depth = 24, training set accuracy = 0.9881, validation set accuracy = 0.7854\n",
      "model estimators = 13, depth = 25, training set accuracy = 0.9891, validation set accuracy = 0.7792\n",
      "model estimators = 13, depth = 26, training set accuracy = 0.9896, validation set accuracy = 0.7776\n",
      "model estimators = 13, depth = 27, training set accuracy = 0.9901, validation set accuracy = 0.7807\n",
      "model estimators = 13, depth = 28, training set accuracy = 0.9901, validation set accuracy = 0.7776\n",
      "model estimators = 13, depth = 29, training set accuracy = 0.9901, validation set accuracy = 0.7776\n",
      "model estimators = 13, depth = 30, training set accuracy = 0.9901, validation set accuracy = 0.7776\n",
      "model estimators = 14, depth = 1, training set accuracy = 0.7505, validation set accuracy = 0.7309\n",
      "model estimators = 14, depth = 2, training set accuracy = 0.7925, validation set accuracy = 0.7652\n",
      "model estimators = 14, depth = 3, training set accuracy = 0.8128, validation set accuracy = 0.7698\n",
      "model estimators = 14, depth = 4, training set accuracy = 0.8237, validation set accuracy = 0.7792\n",
      "model estimators = 14, depth = 5, training set accuracy = 0.8294, validation set accuracy = 0.7792\n",
      "model estimators = 14, depth = 6, training set accuracy = 0.8428, validation set accuracy = 0.7792\n",
      "model estimators = 14, depth = 7, training set accuracy = 0.8594, validation set accuracy = 0.7854\n",
      "model estimators = 14, depth = 8, training set accuracy = 0.8672, validation set accuracy = 0.7869\n",
      "model estimators = 14, depth = 9, training set accuracy = 0.8791, validation set accuracy = 0.7963\n",
      "model estimators = 14, depth = 10, training set accuracy = 0.8906, validation set accuracy = 0.7900\n",
      "model estimators = 14, depth = 11, training set accuracy = 0.8994, validation set accuracy = 0.7885\n",
      "model estimators = 14, depth = 12, training set accuracy = 0.9201, validation set accuracy = 0.7885\n",
      "model estimators = 14, depth = 13, training set accuracy = 0.9222, validation set accuracy = 0.7947\n",
      "model estimators = 14, depth = 14, training set accuracy = 0.9331, validation set accuracy = 0.7900\n",
      "model estimators = 14, depth = 15, training set accuracy = 0.9409, validation set accuracy = 0.7900\n",
      "model estimators = 14, depth = 16, training set accuracy = 0.9559, validation set accuracy = 0.7900\n",
      "model estimators = 14, depth = 17, training set accuracy = 0.9637, validation set accuracy = 0.7807\n",
      "model estimators = 14, depth = 18, training set accuracy = 0.9663, validation set accuracy = 0.7900\n",
      "model estimators = 14, depth = 19, training set accuracy = 0.9777, validation set accuracy = 0.7823\n",
      "model estimators = 14, depth = 20, training set accuracy = 0.9844, validation set accuracy = 0.7854\n",
      "model estimators = 14, depth = 21, training set accuracy = 0.9844, validation set accuracy = 0.7823\n",
      "model estimators = 14, depth = 22, training set accuracy = 0.9870, validation set accuracy = 0.7885\n",
      "model estimators = 14, depth = 23, training set accuracy = 0.9865, validation set accuracy = 0.7854\n",
      "model estimators = 14, depth = 24, training set accuracy = 0.9860, validation set accuracy = 0.7916\n",
      "model estimators = 14, depth = 25, training set accuracy = 0.9870, validation set accuracy = 0.7885\n",
      "model estimators = 14, depth = 26, training set accuracy = 0.9870, validation set accuracy = 0.7823\n",
      "model estimators = 14, depth = 27, training set accuracy = 0.9870, validation set accuracy = 0.7838\n",
      "model estimators = 14, depth = 28, training set accuracy = 0.9870, validation set accuracy = 0.7854\n",
      "model estimators = 14, depth = 29, training set accuracy = 0.9870, validation set accuracy = 0.7854\n",
      "model estimators = 14, depth = 30, training set accuracy = 0.9870, validation set accuracy = 0.7854\n",
      "model estimators = 15, depth = 1, training set accuracy = 0.7505, validation set accuracy = 0.7309\n",
      "model estimators = 15, depth = 2, training set accuracy = 0.7925, validation set accuracy = 0.7636\n",
      "model estimators = 15, depth = 3, training set accuracy = 0.8169, validation set accuracy = 0.7776\n",
      "model estimators = 15, depth = 4, training set accuracy = 0.8216, validation set accuracy = 0.7776\n",
      "model estimators = 15, depth = 5, training set accuracy = 0.8288, validation set accuracy = 0.7776\n",
      "model estimators = 15, depth = 6, training set accuracy = 0.8434, validation set accuracy = 0.7854\n",
      "model estimators = 15, depth = 7, training set accuracy = 0.8589, validation set accuracy = 0.7854\n",
      "model estimators = 15, depth = 8, training set accuracy = 0.8657, validation set accuracy = 0.7823\n"
     ]
    },
    {
     "name": "stdout",
     "output_type": "stream",
     "text": [
      "model estimators = 15, depth = 9, training set accuracy = 0.8791, validation set accuracy = 0.7932\n",
      "model estimators = 15, depth = 10, training set accuracy = 0.8880, validation set accuracy = 0.7916\n",
      "model estimators = 15, depth = 11, training set accuracy = 0.9004, validation set accuracy = 0.7994\n",
      "model estimators = 15, depth = 12, training set accuracy = 0.9191, validation set accuracy = 0.7900\n",
      "model estimators = 15, depth = 13, training set accuracy = 0.9238, validation set accuracy = 0.7947\n",
      "model estimators = 15, depth = 14, training set accuracy = 0.9331, validation set accuracy = 0.7823\n",
      "model estimators = 15, depth = 15, training set accuracy = 0.9429, validation set accuracy = 0.7885\n",
      "model estimators = 15, depth = 16, training set accuracy = 0.9507, validation set accuracy = 0.7869\n",
      "model estimators = 15, depth = 17, training set accuracy = 0.9611, validation set accuracy = 0.7885\n",
      "model estimators = 15, depth = 18, training set accuracy = 0.9647, validation set accuracy = 0.7885\n",
      "model estimators = 15, depth = 19, training set accuracy = 0.9761, validation set accuracy = 0.7838\n",
      "model estimators = 15, depth = 20, training set accuracy = 0.9839, validation set accuracy = 0.7900\n",
      "model estimators = 15, depth = 21, training set accuracy = 0.9850, validation set accuracy = 0.7838\n",
      "model estimators = 15, depth = 22, training set accuracy = 0.9886, validation set accuracy = 0.7916\n",
      "model estimators = 15, depth = 23, training set accuracy = 0.9896, validation set accuracy = 0.7900\n",
      "model estimators = 15, depth = 24, training set accuracy = 0.9891, validation set accuracy = 0.7885\n",
      "model estimators = 15, depth = 25, training set accuracy = 0.9917, validation set accuracy = 0.7869\n",
      "model estimators = 15, depth = 26, training set accuracy = 0.9917, validation set accuracy = 0.7838\n",
      "model estimators = 15, depth = 27, training set accuracy = 0.9917, validation set accuracy = 0.7885\n",
      "model estimators = 15, depth = 28, training set accuracy = 0.9917, validation set accuracy = 0.7838\n",
      "model estimators = 15, depth = 29, training set accuracy = 0.9917, validation set accuracy = 0.7838\n",
      "model estimators = 15, depth = 30, training set accuracy = 0.9917, validation set accuracy = 0.7838\n",
      "model estimators = 16, depth = 1, training set accuracy = 0.7505, validation set accuracy = 0.7309\n",
      "model estimators = 16, depth = 2, training set accuracy = 0.7930, validation set accuracy = 0.7636\n",
      "model estimators = 16, depth = 3, training set accuracy = 0.8122, validation set accuracy = 0.7683\n",
      "model estimators = 16, depth = 4, training set accuracy = 0.8221, validation set accuracy = 0.7792\n",
      "model estimators = 16, depth = 5, training set accuracy = 0.8299, validation set accuracy = 0.7745\n",
      "model estimators = 16, depth = 6, training set accuracy = 0.8434, validation set accuracy = 0.7823\n",
      "model estimators = 16, depth = 7, training set accuracy = 0.8589, validation set accuracy = 0.7823\n",
      "model estimators = 16, depth = 8, training set accuracy = 0.8657, validation set accuracy = 0.7823\n",
      "model estimators = 16, depth = 9, training set accuracy = 0.8797, validation set accuracy = 0.7932\n",
      "model estimators = 16, depth = 10, training set accuracy = 0.8900, validation set accuracy = 0.7916\n",
      "model estimators = 16, depth = 11, training set accuracy = 0.8983, validation set accuracy = 0.7916\n",
      "model estimators = 16, depth = 12, training set accuracy = 0.9196, validation set accuracy = 0.7947\n",
      "model estimators = 16, depth = 13, training set accuracy = 0.9217, validation set accuracy = 0.7963\n",
      "model estimators = 16, depth = 14, training set accuracy = 0.9326, validation set accuracy = 0.7932\n",
      "model estimators = 16, depth = 15, training set accuracy = 0.9398, validation set accuracy = 0.7900\n",
      "model estimators = 16, depth = 16, training set accuracy = 0.9518, validation set accuracy = 0.7869\n",
      "model estimators = 16, depth = 17, training set accuracy = 0.9632, validation set accuracy = 0.7885\n",
      "model estimators = 16, depth = 18, training set accuracy = 0.9652, validation set accuracy = 0.7854\n",
      "model estimators = 16, depth = 19, training set accuracy = 0.9777, validation set accuracy = 0.7869\n",
      "model estimators = 16, depth = 20, training set accuracy = 0.9855, validation set accuracy = 0.7885\n",
      "model estimators = 16, depth = 21, training set accuracy = 0.9886, validation set accuracy = 0.7854\n",
      "model estimators = 16, depth = 22, training set accuracy = 0.9881, validation set accuracy = 0.7916\n",
      "model estimators = 16, depth = 23, training set accuracy = 0.9901, validation set accuracy = 0.7823\n",
      "model estimators = 16, depth = 24, training set accuracy = 0.9891, validation set accuracy = 0.7854\n",
      "model estimators = 16, depth = 25, training set accuracy = 0.9901, validation set accuracy = 0.7869\n",
      "model estimators = 16, depth = 26, training set accuracy = 0.9907, validation set accuracy = 0.7869\n",
      "model estimators = 16, depth = 27, training set accuracy = 0.9901, validation set accuracy = 0.7869\n",
      "model estimators = 16, depth = 28, training set accuracy = 0.9901, validation set accuracy = 0.7838\n",
      "model estimators = 16, depth = 29, training set accuracy = 0.9901, validation set accuracy = 0.7838\n",
      "model estimators = 16, depth = 30, training set accuracy = 0.9901, validation set accuracy = 0.7838\n",
      "model estimators = 17, depth = 1, training set accuracy = 0.7490, validation set accuracy = 0.7309\n",
      "model estimators = 17, depth = 2, training set accuracy = 0.7936, validation set accuracy = 0.7636\n",
      "model estimators = 17, depth = 3, training set accuracy = 0.8128, validation set accuracy = 0.7729\n",
      "model estimators = 17, depth = 4, training set accuracy = 0.8231, validation set accuracy = 0.7792\n",
      "model estimators = 17, depth = 5, training set accuracy = 0.8299, validation set accuracy = 0.7745\n",
      "model estimators = 17, depth = 6, training set accuracy = 0.8470, validation set accuracy = 0.7823\n",
      "model estimators = 17, depth = 7, training set accuracy = 0.8584, validation set accuracy = 0.7823\n",
      "model estimators = 17, depth = 8, training set accuracy = 0.8683, validation set accuracy = 0.7854\n",
      "model estimators = 17, depth = 9, training set accuracy = 0.8807, validation set accuracy = 0.7900\n",
      "model estimators = 17, depth = 10, training set accuracy = 0.8885, validation set accuracy = 0.7869\n",
      "model estimators = 17, depth = 11, training set accuracy = 0.8968, validation set accuracy = 0.7916\n",
      "model estimators = 17, depth = 12, training set accuracy = 0.9196, validation set accuracy = 0.7916\n",
      "model estimators = 17, depth = 13, training set accuracy = 0.9238, validation set accuracy = 0.7963\n",
      "model estimators = 17, depth = 14, training set accuracy = 0.9331, validation set accuracy = 0.7900\n",
      "model estimators = 17, depth = 15, training set accuracy = 0.9419, validation set accuracy = 0.7885\n",
      "model estimators = 17, depth = 16, training set accuracy = 0.9523, validation set accuracy = 0.7869\n",
      "model estimators = 17, depth = 17, training set accuracy = 0.9621, validation set accuracy = 0.7823\n",
      "model estimators = 17, depth = 18, training set accuracy = 0.9642, validation set accuracy = 0.7900\n",
      "model estimators = 17, depth = 19, training set accuracy = 0.9782, validation set accuracy = 0.7838\n",
      "model estimators = 17, depth = 20, training set accuracy = 0.9844, validation set accuracy = 0.7916\n",
      "model estimators = 17, depth = 21, training set accuracy = 0.9865, validation set accuracy = 0.7823\n",
      "model estimators = 17, depth = 22, training set accuracy = 0.9876, validation set accuracy = 0.7869\n",
      "model estimators = 17, depth = 23, training set accuracy = 0.9912, validation set accuracy = 0.7854\n",
      "model estimators = 17, depth = 24, training set accuracy = 0.9917, validation set accuracy = 0.7854\n",
      "model estimators = 17, depth = 25, training set accuracy = 0.9922, validation set accuracy = 0.7838\n",
      "model estimators = 17, depth = 26, training set accuracy = 0.9922, validation set accuracy = 0.7823\n",
      "model estimators = 17, depth = 27, training set accuracy = 0.9927, validation set accuracy = 0.7823\n",
      "model estimators = 17, depth = 28, training set accuracy = 0.9927, validation set accuracy = 0.7776\n",
      "model estimators = 17, depth = 29, training set accuracy = 0.9927, validation set accuracy = 0.7776\n",
      "model estimators = 17, depth = 30, training set accuracy = 0.9927, validation set accuracy = 0.7776\n",
      "model estimators = 18, depth = 1, training set accuracy = 0.7505, validation set accuracy = 0.7309\n",
      "model estimators = 18, depth = 2, training set accuracy = 0.7925, validation set accuracy = 0.7636\n",
      "model estimators = 18, depth = 3, training set accuracy = 0.8122, validation set accuracy = 0.7698\n",
      "model estimators = 18, depth = 4, training set accuracy = 0.8231, validation set accuracy = 0.7776\n"
     ]
    },
    {
     "name": "stdout",
     "output_type": "stream",
     "text": [
      "model estimators = 18, depth = 5, training set accuracy = 0.8314, validation set accuracy = 0.7760\n",
      "model estimators = 18, depth = 6, training set accuracy = 0.8454, validation set accuracy = 0.7838\n",
      "model estimators = 18, depth = 7, training set accuracy = 0.8594, validation set accuracy = 0.7869\n",
      "model estimators = 18, depth = 8, training set accuracy = 0.8683, validation set accuracy = 0.7854\n",
      "model estimators = 18, depth = 9, training set accuracy = 0.8812, validation set accuracy = 0.7947\n",
      "model estimators = 18, depth = 10, training set accuracy = 0.8906, validation set accuracy = 0.7916\n",
      "model estimators = 18, depth = 11, training set accuracy = 0.8973, validation set accuracy = 0.7932\n",
      "model estimators = 18, depth = 12, training set accuracy = 0.9217, validation set accuracy = 0.7932\n",
      "model estimators = 18, depth = 13, training set accuracy = 0.9238, validation set accuracy = 0.7978\n",
      "model estimators = 18, depth = 14, training set accuracy = 0.9341, validation set accuracy = 0.7869\n",
      "model estimators = 18, depth = 15, training set accuracy = 0.9445, validation set accuracy = 0.7963\n",
      "model estimators = 18, depth = 16, training set accuracy = 0.9549, validation set accuracy = 0.7900\n",
      "model estimators = 18, depth = 17, training set accuracy = 0.9652, validation set accuracy = 0.7885\n",
      "model estimators = 18, depth = 18, training set accuracy = 0.9684, validation set accuracy = 0.7900\n",
      "model estimators = 18, depth = 19, training set accuracy = 0.9793, validation set accuracy = 0.7900\n",
      "model estimators = 18, depth = 20, training set accuracy = 0.9891, validation set accuracy = 0.7916\n",
      "model estimators = 18, depth = 21, training set accuracy = 0.9901, validation set accuracy = 0.7838\n",
      "model estimators = 18, depth = 22, training set accuracy = 0.9907, validation set accuracy = 0.7854\n",
      "model estimators = 18, depth = 23, training set accuracy = 0.9912, validation set accuracy = 0.7869\n",
      "model estimators = 18, depth = 24, training set accuracy = 0.9912, validation set accuracy = 0.7885\n",
      "model estimators = 18, depth = 25, training set accuracy = 0.9912, validation set accuracy = 0.7885\n",
      "model estimators = 18, depth = 26, training set accuracy = 0.9912, validation set accuracy = 0.7885\n",
      "model estimators = 18, depth = 27, training set accuracy = 0.9917, validation set accuracy = 0.7900\n",
      "model estimators = 18, depth = 28, training set accuracy = 0.9917, validation set accuracy = 0.7869\n",
      "model estimators = 18, depth = 29, training set accuracy = 0.9917, validation set accuracy = 0.7869\n",
      "model estimators = 18, depth = 30, training set accuracy = 0.9917, validation set accuracy = 0.7869\n",
      "model estimators = 19, depth = 1, training set accuracy = 0.7505, validation set accuracy = 0.7325\n",
      "model estimators = 19, depth = 2, training set accuracy = 0.7920, validation set accuracy = 0.7621\n",
      "model estimators = 19, depth = 3, training set accuracy = 0.8128, validation set accuracy = 0.7729\n",
      "model estimators = 19, depth = 4, training set accuracy = 0.8216, validation set accuracy = 0.7776\n",
      "model estimators = 19, depth = 5, training set accuracy = 0.8314, validation set accuracy = 0.7776\n",
      "model estimators = 19, depth = 6, training set accuracy = 0.8460, validation set accuracy = 0.7838\n",
      "model estimators = 19, depth = 7, training set accuracy = 0.8574, validation set accuracy = 0.7869\n",
      "model estimators = 19, depth = 8, training set accuracy = 0.8667, validation set accuracy = 0.7838\n",
      "model estimators = 19, depth = 9, training set accuracy = 0.8781, validation set accuracy = 0.7947\n",
      "model estimators = 19, depth = 10, training set accuracy = 0.8890, validation set accuracy = 0.7932\n",
      "model estimators = 19, depth = 11, training set accuracy = 0.8968, validation set accuracy = 0.7900\n",
      "model estimators = 19, depth = 12, training set accuracy = 0.9165, validation set accuracy = 0.7916\n",
      "model estimators = 19, depth = 13, training set accuracy = 0.9217, validation set accuracy = 0.7978\n",
      "model estimators = 19, depth = 14, training set accuracy = 0.9321, validation set accuracy = 0.7963\n",
      "model estimators = 19, depth = 15, training set accuracy = 0.9414, validation set accuracy = 0.7994\n",
      "model estimators = 19, depth = 16, training set accuracy = 0.9559, validation set accuracy = 0.7869\n",
      "model estimators = 19, depth = 17, training set accuracy = 0.9647, validation set accuracy = 0.7885\n",
      "model estimators = 19, depth = 18, training set accuracy = 0.9704, validation set accuracy = 0.7900\n",
      "model estimators = 19, depth = 19, training set accuracy = 0.9818, validation set accuracy = 0.7885\n",
      "model estimators = 19, depth = 20, training set accuracy = 0.9886, validation set accuracy = 0.7885\n",
      "model estimators = 19, depth = 21, training set accuracy = 0.9912, validation set accuracy = 0.7838\n",
      "model estimators = 19, depth = 22, training set accuracy = 0.9917, validation set accuracy = 0.7854\n",
      "model estimators = 19, depth = 23, training set accuracy = 0.9938, validation set accuracy = 0.7854\n",
      "model estimators = 19, depth = 24, training set accuracy = 0.9933, validation set accuracy = 0.7885\n",
      "model estimators = 19, depth = 25, training set accuracy = 0.9943, validation set accuracy = 0.7932\n",
      "model estimators = 19, depth = 26, training set accuracy = 0.9943, validation set accuracy = 0.7885\n",
      "model estimators = 19, depth = 27, training set accuracy = 0.9948, validation set accuracy = 0.7885\n",
      "model estimators = 19, depth = 28, training set accuracy = 0.9948, validation set accuracy = 0.7869\n",
      "model estimators = 19, depth = 29, training set accuracy = 0.9948, validation set accuracy = 0.7869\n",
      "model estimators = 19, depth = 30, training set accuracy = 0.9948, validation set accuracy = 0.7869\n",
      "model estimators = 20, depth = 1, training set accuracy = 0.7521, validation set accuracy = 0.7325\n",
      "model estimators = 20, depth = 2, training set accuracy = 0.7925, validation set accuracy = 0.7621\n",
      "model estimators = 20, depth = 3, training set accuracy = 0.8128, validation set accuracy = 0.7714\n",
      "model estimators = 20, depth = 4, training set accuracy = 0.8221, validation set accuracy = 0.7760\n",
      "model estimators = 20, depth = 5, training set accuracy = 0.8320, validation set accuracy = 0.7792\n",
      "model estimators = 20, depth = 6, training set accuracy = 0.8434, validation set accuracy = 0.7854\n",
      "model estimators = 20, depth = 7, training set accuracy = 0.8589, validation set accuracy = 0.7854\n",
      "model estimators = 20, depth = 8, training set accuracy = 0.8693, validation set accuracy = 0.7869\n",
      "model estimators = 20, depth = 9, training set accuracy = 0.8786, validation set accuracy = 0.7916\n",
      "model estimators = 20, depth = 10, training set accuracy = 0.8890, validation set accuracy = 0.7963\n",
      "model estimators = 20, depth = 11, training set accuracy = 0.8994, validation set accuracy = 0.7916\n",
      "model estimators = 20, depth = 12, training set accuracy = 0.9160, validation set accuracy = 0.7916\n",
      "model estimators = 20, depth = 13, training set accuracy = 0.9212, validation set accuracy = 0.7963\n",
      "model estimators = 20, depth = 14, training set accuracy = 0.9336, validation set accuracy = 0.7994\n",
      "model estimators = 20, depth = 15, training set accuracy = 0.9424, validation set accuracy = 0.8025\n",
      "model estimators = 20, depth = 16, training set accuracy = 0.9575, validation set accuracy = 0.7838\n",
      "model estimators = 20, depth = 17, training set accuracy = 0.9673, validation set accuracy = 0.7900\n",
      "model estimators = 20, depth = 18, training set accuracy = 0.9756, validation set accuracy = 0.7838\n",
      "model estimators = 20, depth = 19, training set accuracy = 0.9839, validation set accuracy = 0.7885\n",
      "model estimators = 20, depth = 20, training set accuracy = 0.9912, validation set accuracy = 0.7869\n",
      "model estimators = 20, depth = 21, training set accuracy = 0.9933, validation set accuracy = 0.7838\n",
      "model estimators = 20, depth = 22, training set accuracy = 0.9927, validation set accuracy = 0.7900\n",
      "model estimators = 20, depth = 23, training set accuracy = 0.9943, validation set accuracy = 0.7885\n",
      "model estimators = 20, depth = 24, training set accuracy = 0.9938, validation set accuracy = 0.7900\n",
      "model estimators = 20, depth = 25, training set accuracy = 0.9943, validation set accuracy = 0.7900\n",
      "model estimators = 20, depth = 26, training set accuracy = 0.9948, validation set accuracy = 0.7885\n",
      "model estimators = 20, depth = 27, training set accuracy = 0.9948, validation set accuracy = 0.7900\n",
      "model estimators = 20, depth = 28, training set accuracy = 0.9948, validation set accuracy = 0.7900\n",
      "model estimators = 20, depth = 29, training set accuracy = 0.9948, validation set accuracy = 0.7900\n"
     ]
    },
    {
     "name": "stdout",
     "output_type": "stream",
     "text": [
      "model estimators = 20, depth = 30, training set accuracy = 0.9948, validation set accuracy = 0.7900\n",
      "model estimators = 21, depth = 1, training set accuracy = 0.7505, validation set accuracy = 0.7309\n",
      "model estimators = 21, depth = 2, training set accuracy = 0.7920, validation set accuracy = 0.7621\n",
      "model estimators = 21, depth = 3, training set accuracy = 0.8122, validation set accuracy = 0.7729\n",
      "model estimators = 21, depth = 4, training set accuracy = 0.8226, validation set accuracy = 0.7760\n",
      "model estimators = 21, depth = 5, training set accuracy = 0.8356, validation set accuracy = 0.7838\n",
      "model estimators = 21, depth = 6, training set accuracy = 0.8460, validation set accuracy = 0.7838\n",
      "model estimators = 21, depth = 7, training set accuracy = 0.8610, validation set accuracy = 0.7885\n",
      "model estimators = 21, depth = 8, training set accuracy = 0.8703, validation set accuracy = 0.7854\n",
      "model estimators = 21, depth = 9, training set accuracy = 0.8771, validation set accuracy = 0.7916\n",
      "model estimators = 21, depth = 10, training set accuracy = 0.8885, validation set accuracy = 0.7900\n",
      "model estimators = 21, depth = 11, training set accuracy = 0.8978, validation set accuracy = 0.7932\n",
      "model estimators = 21, depth = 12, training set accuracy = 0.9144, validation set accuracy = 0.7916\n",
      "model estimators = 21, depth = 13, training set accuracy = 0.9206, validation set accuracy = 0.7963\n",
      "model estimators = 21, depth = 14, training set accuracy = 0.9315, validation set accuracy = 0.7978\n",
      "model estimators = 21, depth = 15, training set accuracy = 0.9450, validation set accuracy = 0.8009\n",
      "model estimators = 21, depth = 16, training set accuracy = 0.9595, validation set accuracy = 0.7869\n",
      "model estimators = 21, depth = 17, training set accuracy = 0.9663, validation set accuracy = 0.7916\n",
      "model estimators = 21, depth = 18, training set accuracy = 0.9761, validation set accuracy = 0.7963\n",
      "model estimators = 21, depth = 19, training set accuracy = 0.9818, validation set accuracy = 0.7869\n",
      "model estimators = 21, depth = 20, training set accuracy = 0.9912, validation set accuracy = 0.7900\n",
      "model estimators = 21, depth = 21, training set accuracy = 0.9943, validation set accuracy = 0.7823\n",
      "model estimators = 21, depth = 22, training set accuracy = 0.9938, validation set accuracy = 0.7885\n",
      "model estimators = 21, depth = 23, training set accuracy = 0.9964, validation set accuracy = 0.7854\n",
      "model estimators = 21, depth = 24, training set accuracy = 0.9969, validation set accuracy = 0.7932\n",
      "model estimators = 21, depth = 25, training set accuracy = 0.9969, validation set accuracy = 0.7947\n",
      "model estimators = 21, depth = 26, training set accuracy = 0.9969, validation set accuracy = 0.7900\n",
      "model estimators = 21, depth = 27, training set accuracy = 0.9974, validation set accuracy = 0.7900\n",
      "model estimators = 21, depth = 28, training set accuracy = 0.9974, validation set accuracy = 0.7885\n",
      "model estimators = 21, depth = 29, training set accuracy = 0.9974, validation set accuracy = 0.7885\n",
      "model estimators = 21, depth = 30, training set accuracy = 0.9974, validation set accuracy = 0.7885\n",
      "model estimators = 22, depth = 1, training set accuracy = 0.7505, validation set accuracy = 0.7309\n",
      "model estimators = 22, depth = 2, training set accuracy = 0.7920, validation set accuracy = 0.7621\n",
      "model estimators = 22, depth = 3, training set accuracy = 0.8122, validation set accuracy = 0.7714\n",
      "model estimators = 22, depth = 4, training set accuracy = 0.8226, validation set accuracy = 0.7760\n",
      "model estimators = 22, depth = 5, training set accuracy = 0.8345, validation set accuracy = 0.7823\n",
      "model estimators = 22, depth = 6, training set accuracy = 0.8465, validation set accuracy = 0.7838\n",
      "model estimators = 22, depth = 7, training set accuracy = 0.8631, validation set accuracy = 0.7885\n",
      "model estimators = 22, depth = 8, training set accuracy = 0.8703, validation set accuracy = 0.7885\n",
      "model estimators = 22, depth = 9, training set accuracy = 0.8781, validation set accuracy = 0.7916\n",
      "model estimators = 22, depth = 10, training set accuracy = 0.8906, validation set accuracy = 0.7916\n",
      "model estimators = 22, depth = 11, training set accuracy = 0.8999, validation set accuracy = 0.7947\n",
      "model estimators = 22, depth = 12, training set accuracy = 0.9149, validation set accuracy = 0.7900\n",
      "model estimators = 22, depth = 13, training set accuracy = 0.9212, validation set accuracy = 0.7947\n",
      "model estimators = 22, depth = 14, training set accuracy = 0.9346, validation set accuracy = 0.7963\n",
      "model estimators = 22, depth = 15, training set accuracy = 0.9440, validation set accuracy = 0.7963\n",
      "model estimators = 22, depth = 16, training set accuracy = 0.9590, validation set accuracy = 0.7916\n",
      "model estimators = 22, depth = 17, training set accuracy = 0.9689, validation set accuracy = 0.7885\n",
      "model estimators = 22, depth = 18, training set accuracy = 0.9756, validation set accuracy = 0.7932\n",
      "model estimators = 22, depth = 19, training set accuracy = 0.9808, validation set accuracy = 0.7885\n",
      "model estimators = 22, depth = 20, training set accuracy = 0.9912, validation set accuracy = 0.7885\n",
      "model estimators = 22, depth = 21, training set accuracy = 0.9938, validation set accuracy = 0.7838\n",
      "model estimators = 22, depth = 22, training set accuracy = 0.9938, validation set accuracy = 0.7869\n",
      "model estimators = 22, depth = 23, training set accuracy = 0.9959, validation set accuracy = 0.7900\n",
      "model estimators = 22, depth = 24, training set accuracy = 0.9953, validation set accuracy = 0.7900\n",
      "model estimators = 22, depth = 25, training set accuracy = 0.9953, validation set accuracy = 0.7963\n",
      "model estimators = 22, depth = 26, training set accuracy = 0.9953, validation set accuracy = 0.7947\n",
      "model estimators = 22, depth = 27, training set accuracy = 0.9953, validation set accuracy = 0.7932\n",
      "model estimators = 22, depth = 28, training set accuracy = 0.9953, validation set accuracy = 0.7932\n",
      "model estimators = 22, depth = 29, training set accuracy = 0.9953, validation set accuracy = 0.7932\n",
      "model estimators = 22, depth = 30, training set accuracy = 0.9953, validation set accuracy = 0.7932\n",
      "model estimators = 23, depth = 1, training set accuracy = 0.7495, validation set accuracy = 0.7294\n",
      "model estimators = 23, depth = 2, training set accuracy = 0.7920, validation set accuracy = 0.7621\n",
      "model estimators = 23, depth = 3, training set accuracy = 0.8117, validation set accuracy = 0.7714\n",
      "model estimators = 23, depth = 4, training set accuracy = 0.8226, validation set accuracy = 0.7745\n",
      "model estimators = 23, depth = 5, training set accuracy = 0.8330, validation set accuracy = 0.7838\n",
      "model estimators = 23, depth = 6, training set accuracy = 0.8460, validation set accuracy = 0.7838\n",
      "model estimators = 23, depth = 7, training set accuracy = 0.8605, validation set accuracy = 0.7900\n",
      "model estimators = 23, depth = 8, training set accuracy = 0.8698, validation set accuracy = 0.7807\n",
      "model estimators = 23, depth = 9, training set accuracy = 0.8791, validation set accuracy = 0.7916\n",
      "model estimators = 23, depth = 10, training set accuracy = 0.8895, validation set accuracy = 0.7900\n",
      "model estimators = 23, depth = 11, training set accuracy = 0.9009, validation set accuracy = 0.7932\n",
      "model estimators = 23, depth = 12, training set accuracy = 0.9149, validation set accuracy = 0.7947\n",
      "model estimators = 23, depth = 13, training set accuracy = 0.9217, validation set accuracy = 0.7978\n",
      "model estimators = 23, depth = 14, training set accuracy = 0.9321, validation set accuracy = 0.7916\n",
      "model estimators = 23, depth = 15, training set accuracy = 0.9476, validation set accuracy = 0.7994\n",
      "model estimators = 23, depth = 16, training set accuracy = 0.9611, validation set accuracy = 0.7854\n",
      "model estimators = 23, depth = 17, training set accuracy = 0.9668, validation set accuracy = 0.7900\n",
      "model estimators = 23, depth = 18, training set accuracy = 0.9741, validation set accuracy = 0.7978\n",
      "model estimators = 23, depth = 19, training set accuracy = 0.9803, validation set accuracy = 0.7869\n",
      "model estimators = 23, depth = 20, training set accuracy = 0.9907, validation set accuracy = 0.7916\n",
      "model estimators = 23, depth = 21, training set accuracy = 0.9938, validation set accuracy = 0.7869\n",
      "model estimators = 23, depth = 22, training set accuracy = 0.9948, validation set accuracy = 0.7869\n",
      "model estimators = 23, depth = 23, training set accuracy = 0.9964, validation set accuracy = 0.7869\n",
      "model estimators = 23, depth = 24, training set accuracy = 0.9959, validation set accuracy = 0.7900\n"
     ]
    },
    {
     "name": "stdout",
     "output_type": "stream",
     "text": [
      "model estimators = 23, depth = 25, training set accuracy = 0.9959, validation set accuracy = 0.7947\n",
      "model estimators = 23, depth = 26, training set accuracy = 0.9964, validation set accuracy = 0.7885\n",
      "model estimators = 23, depth = 27, training set accuracy = 0.9974, validation set accuracy = 0.7885\n",
      "model estimators = 23, depth = 28, training set accuracy = 0.9974, validation set accuracy = 0.7885\n",
      "model estimators = 23, depth = 29, training set accuracy = 0.9974, validation set accuracy = 0.7885\n",
      "model estimators = 23, depth = 30, training set accuracy = 0.9974, validation set accuracy = 0.7885\n",
      "model estimators = 24, depth = 1, training set accuracy = 0.7495, validation set accuracy = 0.7294\n",
      "model estimators = 24, depth = 2, training set accuracy = 0.7920, validation set accuracy = 0.7621\n",
      "model estimators = 24, depth = 3, training set accuracy = 0.8117, validation set accuracy = 0.7698\n",
      "model estimators = 24, depth = 4, training set accuracy = 0.8226, validation set accuracy = 0.7745\n",
      "model estimators = 24, depth = 5, training set accuracy = 0.8325, validation set accuracy = 0.7776\n",
      "model estimators = 24, depth = 6, training set accuracy = 0.8465, validation set accuracy = 0.7838\n",
      "model estimators = 24, depth = 7, training set accuracy = 0.8605, validation set accuracy = 0.7900\n",
      "model estimators = 24, depth = 8, training set accuracy = 0.8698, validation set accuracy = 0.7838\n",
      "model estimators = 24, depth = 9, training set accuracy = 0.8786, validation set accuracy = 0.7916\n",
      "model estimators = 24, depth = 10, training set accuracy = 0.8895, validation set accuracy = 0.7916\n",
      "model estimators = 24, depth = 11, training set accuracy = 0.8994, validation set accuracy = 0.7932\n",
      "model estimators = 24, depth = 12, training set accuracy = 0.9160, validation set accuracy = 0.7869\n",
      "model estimators = 24, depth = 13, training set accuracy = 0.9217, validation set accuracy = 0.7947\n",
      "model estimators = 24, depth = 14, training set accuracy = 0.9346, validation set accuracy = 0.7932\n",
      "model estimators = 24, depth = 15, training set accuracy = 0.9471, validation set accuracy = 0.7963\n",
      "model estimators = 24, depth = 16, training set accuracy = 0.9585, validation set accuracy = 0.7885\n",
      "model estimators = 24, depth = 17, training set accuracy = 0.9668, validation set accuracy = 0.7823\n",
      "model estimators = 24, depth = 18, training set accuracy = 0.9751, validation set accuracy = 0.7978\n",
      "model estimators = 24, depth = 19, training set accuracy = 0.9808, validation set accuracy = 0.7823\n",
      "model estimators = 24, depth = 20, training set accuracy = 0.9912, validation set accuracy = 0.7854\n",
      "model estimators = 24, depth = 21, training set accuracy = 0.9943, validation set accuracy = 0.7807\n",
      "model estimators = 24, depth = 22, training set accuracy = 0.9938, validation set accuracy = 0.7838\n",
      "model estimators = 24, depth = 23, training set accuracy = 0.9943, validation set accuracy = 0.7916\n",
      "model estimators = 24, depth = 24, training set accuracy = 0.9964, validation set accuracy = 0.7885\n",
      "model estimators = 24, depth = 25, training set accuracy = 0.9953, validation set accuracy = 0.7932\n",
      "model estimators = 24, depth = 26, training set accuracy = 0.9959, validation set accuracy = 0.7932\n",
      "model estimators = 24, depth = 27, training set accuracy = 0.9959, validation set accuracy = 0.7932\n",
      "model estimators = 24, depth = 28, training set accuracy = 0.9959, validation set accuracy = 0.7900\n",
      "model estimators = 24, depth = 29, training set accuracy = 0.9959, validation set accuracy = 0.7900\n",
      "model estimators = 24, depth = 30, training set accuracy = 0.9959, validation set accuracy = 0.7900\n",
      "model estimators = 25, depth = 1, training set accuracy = 0.7495, validation set accuracy = 0.7294\n",
      "model estimators = 25, depth = 2, training set accuracy = 0.7915, validation set accuracy = 0.7621\n",
      "model estimators = 25, depth = 3, training set accuracy = 0.8122, validation set accuracy = 0.7714\n",
      "model estimators = 25, depth = 4, training set accuracy = 0.8221, validation set accuracy = 0.7760\n",
      "model estimators = 25, depth = 5, training set accuracy = 0.8340, validation set accuracy = 0.7807\n",
      "model estimators = 25, depth = 6, training set accuracy = 0.8449, validation set accuracy = 0.7838\n",
      "model estimators = 25, depth = 7, training set accuracy = 0.8620, validation set accuracy = 0.7900\n",
      "model estimators = 25, depth = 8, training set accuracy = 0.8709, validation set accuracy = 0.7854\n",
      "model estimators = 25, depth = 9, training set accuracy = 0.8797, validation set accuracy = 0.7900\n",
      "model estimators = 25, depth = 10, training set accuracy = 0.8890, validation set accuracy = 0.7900\n",
      "model estimators = 25, depth = 11, training set accuracy = 0.8978, validation set accuracy = 0.7947\n",
      "model estimators = 25, depth = 12, training set accuracy = 0.9155, validation set accuracy = 0.7885\n",
      "model estimators = 25, depth = 13, training set accuracy = 0.9217, validation set accuracy = 0.7994\n",
      "model estimators = 25, depth = 14, training set accuracy = 0.9341, validation set accuracy = 0.7932\n",
      "model estimators = 25, depth = 15, training set accuracy = 0.9476, validation set accuracy = 0.7947\n",
      "model estimators = 25, depth = 16, training set accuracy = 0.9590, validation set accuracy = 0.7885\n",
      "model estimators = 25, depth = 17, training set accuracy = 0.9673, validation set accuracy = 0.7838\n",
      "model estimators = 25, depth = 18, training set accuracy = 0.9751, validation set accuracy = 0.7947\n",
      "model estimators = 25, depth = 19, training set accuracy = 0.9824, validation set accuracy = 0.7869\n",
      "model estimators = 25, depth = 20, training set accuracy = 0.9896, validation set accuracy = 0.7838\n",
      "model estimators = 25, depth = 21, training set accuracy = 0.9938, validation set accuracy = 0.7823\n",
      "model estimators = 25, depth = 22, training set accuracy = 0.9948, validation set accuracy = 0.7838\n",
      "model estimators = 25, depth = 23, training set accuracy = 0.9959, validation set accuracy = 0.7885\n",
      "model estimators = 25, depth = 24, training set accuracy = 0.9969, validation set accuracy = 0.7885\n",
      "model estimators = 25, depth = 25, training set accuracy = 0.9959, validation set accuracy = 0.7885\n",
      "model estimators = 25, depth = 26, training set accuracy = 0.9959, validation set accuracy = 0.7916\n",
      "model estimators = 25, depth = 27, training set accuracy = 0.9969, validation set accuracy = 0.7885\n",
      "model estimators = 25, depth = 28, training set accuracy = 0.9969, validation set accuracy = 0.7885\n",
      "model estimators = 25, depth = 29, training set accuracy = 0.9969, validation set accuracy = 0.7885\n",
      "model estimators = 25, depth = 30, training set accuracy = 0.9969, validation set accuracy = 0.7885\n",
      "model estimators = 26, depth = 1, training set accuracy = 0.7500, validation set accuracy = 0.7309\n",
      "model estimators = 26, depth = 2, training set accuracy = 0.7920, validation set accuracy = 0.7605\n",
      "model estimators = 26, depth = 3, training set accuracy = 0.8128, validation set accuracy = 0.7745\n",
      "model estimators = 26, depth = 4, training set accuracy = 0.8226, validation set accuracy = 0.7760\n",
      "model estimators = 26, depth = 5, training set accuracy = 0.8345, validation set accuracy = 0.7823\n",
      "model estimators = 26, depth = 6, training set accuracy = 0.8470, validation set accuracy = 0.7854\n",
      "model estimators = 26, depth = 7, training set accuracy = 0.8615, validation set accuracy = 0.7885\n",
      "model estimators = 26, depth = 8, training set accuracy = 0.8724, validation set accuracy = 0.7838\n",
      "model estimators = 26, depth = 9, training set accuracy = 0.8791, validation set accuracy = 0.7900\n",
      "model estimators = 26, depth = 10, training set accuracy = 0.8921, validation set accuracy = 0.7885\n",
      "model estimators = 26, depth = 11, training set accuracy = 0.8973, validation set accuracy = 0.7963\n",
      "model estimators = 26, depth = 12, training set accuracy = 0.9160, validation set accuracy = 0.7932\n",
      "model estimators = 26, depth = 13, training set accuracy = 0.9243, validation set accuracy = 0.7963\n",
      "model estimators = 26, depth = 14, training set accuracy = 0.9357, validation set accuracy = 0.7900\n",
      "model estimators = 26, depth = 15, training set accuracy = 0.9487, validation set accuracy = 0.7932\n",
      "model estimators = 26, depth = 16, training set accuracy = 0.9601, validation set accuracy = 0.7900\n",
      "model estimators = 26, depth = 17, training set accuracy = 0.9673, validation set accuracy = 0.7838\n",
      "model estimators = 26, depth = 18, training set accuracy = 0.9746, validation set accuracy = 0.7932\n"
     ]
    },
    {
     "name": "stdout",
     "output_type": "stream",
     "text": [
      "model estimators = 26, depth = 19, training set accuracy = 0.9808, validation set accuracy = 0.7854\n",
      "model estimators = 26, depth = 20, training set accuracy = 0.9912, validation set accuracy = 0.7838\n",
      "model estimators = 26, depth = 21, training set accuracy = 0.9933, validation set accuracy = 0.7838\n",
      "model estimators = 26, depth = 22, training set accuracy = 0.9943, validation set accuracy = 0.7823\n",
      "model estimators = 26, depth = 23, training set accuracy = 0.9964, validation set accuracy = 0.7885\n",
      "model estimators = 26, depth = 24, training set accuracy = 0.9969, validation set accuracy = 0.7900\n",
      "model estimators = 26, depth = 25, training set accuracy = 0.9959, validation set accuracy = 0.7885\n",
      "model estimators = 26, depth = 26, training set accuracy = 0.9959, validation set accuracy = 0.7885\n",
      "model estimators = 26, depth = 27, training set accuracy = 0.9964, validation set accuracy = 0.7900\n",
      "model estimators = 26, depth = 28, training set accuracy = 0.9964, validation set accuracy = 0.7838\n",
      "model estimators = 26, depth = 29, training set accuracy = 0.9964, validation set accuracy = 0.7838\n",
      "model estimators = 26, depth = 30, training set accuracy = 0.9964, validation set accuracy = 0.7838\n",
      "model estimators = 27, depth = 1, training set accuracy = 0.7516, validation set accuracy = 0.7325\n",
      "model estimators = 27, depth = 2, training set accuracy = 0.7920, validation set accuracy = 0.7605\n",
      "model estimators = 27, depth = 3, training set accuracy = 0.8117, validation set accuracy = 0.7714\n",
      "model estimators = 27, depth = 4, training set accuracy = 0.8221, validation set accuracy = 0.7760\n",
      "model estimators = 27, depth = 5, training set accuracy = 0.8356, validation set accuracy = 0.7792\n",
      "model estimators = 27, depth = 6, training set accuracy = 0.8470, validation set accuracy = 0.7854\n",
      "model estimators = 27, depth = 7, training set accuracy = 0.8626, validation set accuracy = 0.7869\n",
      "model estimators = 27, depth = 8, training set accuracy = 0.8698, validation set accuracy = 0.7823\n",
      "model estimators = 27, depth = 9, training set accuracy = 0.8781, validation set accuracy = 0.7932\n",
      "model estimators = 27, depth = 10, training set accuracy = 0.8926, validation set accuracy = 0.7932\n",
      "model estimators = 27, depth = 11, training set accuracy = 0.9004, validation set accuracy = 0.7963\n",
      "model estimators = 27, depth = 12, training set accuracy = 0.9149, validation set accuracy = 0.7869\n",
      "model estimators = 27, depth = 13, training set accuracy = 0.9243, validation set accuracy = 0.7963\n",
      "model estimators = 27, depth = 14, training set accuracy = 0.9372, validation set accuracy = 0.7916\n",
      "model estimators = 27, depth = 15, training set accuracy = 0.9481, validation set accuracy = 0.7963\n",
      "model estimators = 27, depth = 16, training set accuracy = 0.9606, validation set accuracy = 0.7885\n",
      "model estimators = 27, depth = 17, training set accuracy = 0.9673, validation set accuracy = 0.7838\n",
      "model estimators = 27, depth = 18, training set accuracy = 0.9730, validation set accuracy = 0.7947\n",
      "model estimators = 27, depth = 19, training set accuracy = 0.9818, validation set accuracy = 0.7885\n",
      "model estimators = 27, depth = 20, training set accuracy = 0.9917, validation set accuracy = 0.7807\n",
      "model estimators = 27, depth = 21, training set accuracy = 0.9933, validation set accuracy = 0.7807\n",
      "model estimators = 27, depth = 22, training set accuracy = 0.9959, validation set accuracy = 0.7823\n",
      "model estimators = 27, depth = 23, training set accuracy = 0.9979, validation set accuracy = 0.7869\n",
      "model estimators = 27, depth = 24, training set accuracy = 0.9974, validation set accuracy = 0.7900\n",
      "model estimators = 27, depth = 25, training set accuracy = 0.9974, validation set accuracy = 0.7869\n",
      "model estimators = 27, depth = 26, training set accuracy = 0.9974, validation set accuracy = 0.7854\n",
      "model estimators = 27, depth = 27, training set accuracy = 0.9979, validation set accuracy = 0.7885\n",
      "model estimators = 27, depth = 28, training set accuracy = 0.9979, validation set accuracy = 0.7823\n",
      "model estimators = 27, depth = 29, training set accuracy = 0.9979, validation set accuracy = 0.7823\n",
      "model estimators = 27, depth = 30, training set accuracy = 0.9979, validation set accuracy = 0.7823\n",
      "model estimators = 28, depth = 1, training set accuracy = 0.7567, validation set accuracy = 0.7372\n",
      "model estimators = 28, depth = 2, training set accuracy = 0.7915, validation set accuracy = 0.7605\n",
      "model estimators = 28, depth = 3, training set accuracy = 0.8122, validation set accuracy = 0.7714\n",
      "model estimators = 28, depth = 4, training set accuracy = 0.8226, validation set accuracy = 0.7745\n",
      "model estimators = 28, depth = 5, training set accuracy = 0.8345, validation set accuracy = 0.7807\n",
      "model estimators = 28, depth = 6, training set accuracy = 0.8475, validation set accuracy = 0.7854\n",
      "model estimators = 28, depth = 7, training set accuracy = 0.8620, validation set accuracy = 0.7885\n",
      "model estimators = 28, depth = 8, training set accuracy = 0.8724, validation set accuracy = 0.7823\n",
      "model estimators = 28, depth = 9, training set accuracy = 0.8791, validation set accuracy = 0.7916\n",
      "model estimators = 28, depth = 10, training set accuracy = 0.8921, validation set accuracy = 0.7932\n",
      "model estimators = 28, depth = 11, training set accuracy = 0.9004, validation set accuracy = 0.7963\n",
      "model estimators = 28, depth = 12, training set accuracy = 0.9149, validation set accuracy = 0.7916\n",
      "model estimators = 28, depth = 13, training set accuracy = 0.9238, validation set accuracy = 0.7947\n",
      "model estimators = 28, depth = 14, training set accuracy = 0.9352, validation set accuracy = 0.7885\n",
      "model estimators = 28, depth = 15, training set accuracy = 0.9497, validation set accuracy = 0.7947\n",
      "model estimators = 28, depth = 16, training set accuracy = 0.9590, validation set accuracy = 0.7900\n",
      "model estimators = 28, depth = 17, training set accuracy = 0.9689, validation set accuracy = 0.7807\n",
      "model estimators = 28, depth = 18, training set accuracy = 0.9725, validation set accuracy = 0.7900\n",
      "model estimators = 28, depth = 19, training set accuracy = 0.9824, validation set accuracy = 0.7838\n",
      "model estimators = 28, depth = 20, training set accuracy = 0.9912, validation set accuracy = 0.7792\n",
      "model estimators = 28, depth = 21, training set accuracy = 0.9948, validation set accuracy = 0.7807\n",
      "model estimators = 28, depth = 22, training set accuracy = 0.9953, validation set accuracy = 0.7854\n",
      "model estimators = 28, depth = 23, training set accuracy = 0.9969, validation set accuracy = 0.7807\n",
      "model estimators = 28, depth = 24, training set accuracy = 0.9969, validation set accuracy = 0.7854\n",
      "model estimators = 28, depth = 25, training set accuracy = 0.9969, validation set accuracy = 0.7823\n",
      "model estimators = 28, depth = 26, training set accuracy = 0.9969, validation set accuracy = 0.7823\n",
      "model estimators = 28, depth = 27, training set accuracy = 0.9969, validation set accuracy = 0.7838\n",
      "model estimators = 28, depth = 28, training set accuracy = 0.9969, validation set accuracy = 0.7823\n",
      "model estimators = 28, depth = 29, training set accuracy = 0.9969, validation set accuracy = 0.7823\n",
      "model estimators = 28, depth = 30, training set accuracy = 0.9969, validation set accuracy = 0.7823\n",
      "model estimators = 29, depth = 1, training set accuracy = 0.7583, validation set accuracy = 0.7387\n",
      "model estimators = 29, depth = 2, training set accuracy = 0.7920, validation set accuracy = 0.7621\n",
      "model estimators = 29, depth = 3, training set accuracy = 0.8122, validation set accuracy = 0.7729\n",
      "model estimators = 29, depth = 4, training set accuracy = 0.8221, validation set accuracy = 0.7760\n",
      "model estimators = 29, depth = 5, training set accuracy = 0.8345, validation set accuracy = 0.7807\n",
      "model estimators = 29, depth = 6, training set accuracy = 0.8517, validation set accuracy = 0.7854\n",
      "model estimators = 29, depth = 7, training set accuracy = 0.8626, validation set accuracy = 0.7900\n",
      "model estimators = 29, depth = 8, training set accuracy = 0.8709, validation set accuracy = 0.7823\n",
      "model estimators = 29, depth = 9, training set accuracy = 0.8786, validation set accuracy = 0.7916\n",
      "model estimators = 29, depth = 10, training set accuracy = 0.8926, validation set accuracy = 0.7932\n",
      "model estimators = 29, depth = 11, training set accuracy = 0.9004, validation set accuracy = 0.7963\n",
      "model estimators = 29, depth = 12, training set accuracy = 0.9155, validation set accuracy = 0.7885\n",
      "model estimators = 29, depth = 13, training set accuracy = 0.9253, validation set accuracy = 0.7978\n"
     ]
    },
    {
     "name": "stdout",
     "output_type": "stream",
     "text": [
      "model estimators = 29, depth = 14, training set accuracy = 0.9352, validation set accuracy = 0.7932\n",
      "model estimators = 29, depth = 15, training set accuracy = 0.9492, validation set accuracy = 0.7932\n",
      "model estimators = 29, depth = 16, training set accuracy = 0.9601, validation set accuracy = 0.7916\n",
      "model estimators = 29, depth = 17, training set accuracy = 0.9678, validation set accuracy = 0.7823\n",
      "model estimators = 29, depth = 18, training set accuracy = 0.9735, validation set accuracy = 0.7916\n",
      "model estimators = 29, depth = 19, training set accuracy = 0.9834, validation set accuracy = 0.7854\n",
      "model estimators = 29, depth = 20, training set accuracy = 0.9917, validation set accuracy = 0.7838\n",
      "model estimators = 29, depth = 21, training set accuracy = 0.9948, validation set accuracy = 0.7776\n",
      "model estimators = 29, depth = 22, training set accuracy = 0.9969, validation set accuracy = 0.7838\n",
      "model estimators = 29, depth = 23, training set accuracy = 0.9974, validation set accuracy = 0.7885\n",
      "model estimators = 29, depth = 24, training set accuracy = 0.9974, validation set accuracy = 0.7916\n",
      "model estimators = 29, depth = 25, training set accuracy = 0.9974, validation set accuracy = 0.7869\n",
      "model estimators = 29, depth = 26, training set accuracy = 0.9974, validation set accuracy = 0.7869\n",
      "model estimators = 29, depth = 27, training set accuracy = 0.9974, validation set accuracy = 0.7869\n",
      "model estimators = 29, depth = 28, training set accuracy = 0.9974, validation set accuracy = 0.7854\n",
      "model estimators = 29, depth = 29, training set accuracy = 0.9974, validation set accuracy = 0.7854\n",
      "model estimators = 29, depth = 30, training set accuracy = 0.9974, validation set accuracy = 0.7854\n",
      "model estimators = 30, depth = 1, training set accuracy = 0.7588, validation set accuracy = 0.7387\n",
      "model estimators = 30, depth = 2, training set accuracy = 0.7920, validation set accuracy = 0.7605\n",
      "model estimators = 30, depth = 3, training set accuracy = 0.8122, validation set accuracy = 0.7698\n",
      "model estimators = 30, depth = 4, training set accuracy = 0.8221, validation set accuracy = 0.7760\n",
      "model estimators = 30, depth = 5, training set accuracy = 0.8320, validation set accuracy = 0.7792\n",
      "model estimators = 30, depth = 6, training set accuracy = 0.8501, validation set accuracy = 0.7838\n",
      "model estimators = 30, depth = 7, training set accuracy = 0.8626, validation set accuracy = 0.7854\n",
      "model estimators = 30, depth = 8, training set accuracy = 0.8698, validation set accuracy = 0.7838\n",
      "model estimators = 30, depth = 9, training set accuracy = 0.8771, validation set accuracy = 0.7916\n",
      "model estimators = 30, depth = 10, training set accuracy = 0.8916, validation set accuracy = 0.7916\n",
      "model estimators = 30, depth = 11, training set accuracy = 0.8999, validation set accuracy = 0.7947\n",
      "model estimators = 30, depth = 12, training set accuracy = 0.9155, validation set accuracy = 0.7885\n",
      "model estimators = 30, depth = 13, training set accuracy = 0.9243, validation set accuracy = 0.7978\n",
      "model estimators = 30, depth = 14, training set accuracy = 0.9336, validation set accuracy = 0.7932\n",
      "model estimators = 30, depth = 15, training set accuracy = 0.9481, validation set accuracy = 0.7932\n",
      "model estimators = 30, depth = 16, training set accuracy = 0.9590, validation set accuracy = 0.7963\n",
      "model estimators = 30, depth = 17, training set accuracy = 0.9673, validation set accuracy = 0.7823\n",
      "model estimators = 30, depth = 18, training set accuracy = 0.9741, validation set accuracy = 0.7869\n",
      "model estimators = 30, depth = 19, training set accuracy = 0.9834, validation set accuracy = 0.7823\n",
      "model estimators = 30, depth = 20, training set accuracy = 0.9922, validation set accuracy = 0.7792\n",
      "model estimators = 30, depth = 21, training set accuracy = 0.9943, validation set accuracy = 0.7854\n",
      "model estimators = 30, depth = 22, training set accuracy = 0.9959, validation set accuracy = 0.7838\n",
      "model estimators = 30, depth = 23, training set accuracy = 0.9974, validation set accuracy = 0.7854\n",
      "model estimators = 30, depth = 24, training set accuracy = 0.9974, validation set accuracy = 0.7885\n",
      "model estimators = 30, depth = 25, training set accuracy = 0.9969, validation set accuracy = 0.7854\n",
      "model estimators = 30, depth = 26, training set accuracy = 0.9969, validation set accuracy = 0.7916\n",
      "model estimators = 30, depth = 27, training set accuracy = 0.9969, validation set accuracy = 0.7916\n",
      "model estimators = 30, depth = 28, training set accuracy = 0.9969, validation set accuracy = 0.7885\n",
      "model estimators = 30, depth = 29, training set accuracy = 0.9969, validation set accuracy = 0.7885\n",
      "model estimators = 30, depth = 30, training set accuracy = 0.9969, validation set accuracy = 0.7885\n",
      "model estimators = 31, depth = 1, training set accuracy = 0.7588, validation set accuracy = 0.7387\n",
      "model estimators = 31, depth = 2, training set accuracy = 0.7915, validation set accuracy = 0.7636\n",
      "model estimators = 31, depth = 3, training set accuracy = 0.8122, validation set accuracy = 0.7698\n",
      "model estimators = 31, depth = 4, training set accuracy = 0.8221, validation set accuracy = 0.7760\n",
      "model estimators = 31, depth = 5, training set accuracy = 0.8325, validation set accuracy = 0.7807\n",
      "model estimators = 31, depth = 6, training set accuracy = 0.8485, validation set accuracy = 0.7838\n",
      "model estimators = 31, depth = 7, training set accuracy = 0.8641, validation set accuracy = 0.7885\n",
      "model estimators = 31, depth = 8, training set accuracy = 0.8709, validation set accuracy = 0.7838\n",
      "model estimators = 31, depth = 9, training set accuracy = 0.8776, validation set accuracy = 0.7916\n",
      "model estimators = 31, depth = 10, training set accuracy = 0.8921, validation set accuracy = 0.7947\n",
      "model estimators = 31, depth = 11, training set accuracy = 0.8999, validation set accuracy = 0.7916\n",
      "model estimators = 31, depth = 12, training set accuracy = 0.9149, validation set accuracy = 0.7900\n",
      "model estimators = 31, depth = 13, training set accuracy = 0.9243, validation set accuracy = 0.7978\n",
      "model estimators = 31, depth = 14, training set accuracy = 0.9315, validation set accuracy = 0.7900\n",
      "model estimators = 31, depth = 15, training set accuracy = 0.9481, validation set accuracy = 0.7932\n",
      "model estimators = 31, depth = 16, training set accuracy = 0.9585, validation set accuracy = 0.7947\n",
      "model estimators = 31, depth = 17, training set accuracy = 0.9678, validation set accuracy = 0.7854\n",
      "model estimators = 31, depth = 18, training set accuracy = 0.9746, validation set accuracy = 0.7900\n",
      "model estimators = 31, depth = 19, training set accuracy = 0.9834, validation set accuracy = 0.7792\n",
      "model estimators = 31, depth = 20, training set accuracy = 0.9917, validation set accuracy = 0.7823\n",
      "model estimators = 31, depth = 21, training set accuracy = 0.9943, validation set accuracy = 0.7869\n",
      "model estimators = 31, depth = 22, training set accuracy = 0.9959, validation set accuracy = 0.7807\n",
      "model estimators = 31, depth = 23, training set accuracy = 0.9979, validation set accuracy = 0.7900\n",
      "model estimators = 31, depth = 24, training set accuracy = 0.9974, validation set accuracy = 0.7869\n",
      "model estimators = 31, depth = 25, training set accuracy = 0.9979, validation set accuracy = 0.7885\n",
      "model estimators = 31, depth = 26, training set accuracy = 0.9979, validation set accuracy = 0.7885\n",
      "model estimators = 31, depth = 27, training set accuracy = 0.9979, validation set accuracy = 0.7916\n",
      "model estimators = 31, depth = 28, training set accuracy = 0.9979, validation set accuracy = 0.7869\n",
      "model estimators = 31, depth = 29, training set accuracy = 0.9979, validation set accuracy = 0.7869\n",
      "model estimators = 31, depth = 30, training set accuracy = 0.9979, validation set accuracy = 0.7869\n",
      "model estimators = 32, depth = 1, training set accuracy = 0.7588, validation set accuracy = 0.7387\n",
      "model estimators = 32, depth = 2, training set accuracy = 0.7915, validation set accuracy = 0.7605\n",
      "model estimators = 32, depth = 3, training set accuracy = 0.8122, validation set accuracy = 0.7714\n",
      "model estimators = 32, depth = 4, training set accuracy = 0.8226, validation set accuracy = 0.7776\n",
      "model estimators = 32, depth = 5, training set accuracy = 0.8314, validation set accuracy = 0.7792\n",
      "model estimators = 32, depth = 6, training set accuracy = 0.8506, validation set accuracy = 0.7838\n"
     ]
    },
    {
     "name": "stdout",
     "output_type": "stream",
     "text": [
      "model estimators = 32, depth = 7, training set accuracy = 0.8626, validation set accuracy = 0.7869\n",
      "model estimators = 32, depth = 8, training set accuracy = 0.8709, validation set accuracy = 0.7854\n",
      "model estimators = 32, depth = 9, training set accuracy = 0.8776, validation set accuracy = 0.7916\n",
      "model estimators = 32, depth = 10, training set accuracy = 0.8916, validation set accuracy = 0.7916\n",
      "model estimators = 32, depth = 11, training set accuracy = 0.9009, validation set accuracy = 0.7885\n",
      "model estimators = 32, depth = 12, training set accuracy = 0.9155, validation set accuracy = 0.7916\n",
      "model estimators = 32, depth = 13, training set accuracy = 0.9238, validation set accuracy = 0.7963\n",
      "model estimators = 32, depth = 14, training set accuracy = 0.9321, validation set accuracy = 0.7900\n",
      "model estimators = 32, depth = 15, training set accuracy = 0.9466, validation set accuracy = 0.7963\n",
      "model estimators = 32, depth = 16, training set accuracy = 0.9580, validation set accuracy = 0.7947\n",
      "model estimators = 32, depth = 17, training set accuracy = 0.9663, validation set accuracy = 0.7838\n",
      "model estimators = 32, depth = 18, training set accuracy = 0.9741, validation set accuracy = 0.7885\n",
      "model estimators = 32, depth = 19, training set accuracy = 0.9829, validation set accuracy = 0.7823\n",
      "model estimators = 32, depth = 20, training set accuracy = 0.9922, validation set accuracy = 0.7807\n",
      "model estimators = 32, depth = 21, training set accuracy = 0.9948, validation set accuracy = 0.7869\n",
      "model estimators = 32, depth = 22, training set accuracy = 0.9959, validation set accuracy = 0.7807\n",
      "model estimators = 32, depth = 23, training set accuracy = 0.9974, validation set accuracy = 0.7885\n",
      "model estimators = 32, depth = 24, training set accuracy = 0.9969, validation set accuracy = 0.7869\n",
      "model estimators = 32, depth = 25, training set accuracy = 0.9969, validation set accuracy = 0.7869\n",
      "model estimators = 32, depth = 26, training set accuracy = 0.9964, validation set accuracy = 0.7869\n",
      "model estimators = 32, depth = 27, training set accuracy = 0.9964, validation set accuracy = 0.7869\n",
      "model estimators = 32, depth = 28, training set accuracy = 0.9964, validation set accuracy = 0.7838\n",
      "model estimators = 32, depth = 29, training set accuracy = 0.9964, validation set accuracy = 0.7838\n",
      "model estimators = 32, depth = 30, training set accuracy = 0.9964, validation set accuracy = 0.7838\n",
      "model estimators = 33, depth = 1, training set accuracy = 0.7588, validation set accuracy = 0.7387\n",
      "model estimators = 33, depth = 2, training set accuracy = 0.7915, validation set accuracy = 0.7636\n",
      "model estimators = 33, depth = 3, training set accuracy = 0.8122, validation set accuracy = 0.7698\n",
      "model estimators = 33, depth = 4, training set accuracy = 0.8226, validation set accuracy = 0.7760\n",
      "model estimators = 33, depth = 5, training set accuracy = 0.8309, validation set accuracy = 0.7792\n",
      "model estimators = 33, depth = 6, training set accuracy = 0.8491, validation set accuracy = 0.7823\n",
      "model estimators = 33, depth = 7, training set accuracy = 0.8620, validation set accuracy = 0.7854\n",
      "model estimators = 33, depth = 8, training set accuracy = 0.8709, validation set accuracy = 0.7838\n",
      "model estimators = 33, depth = 9, training set accuracy = 0.8776, validation set accuracy = 0.7900\n",
      "model estimators = 33, depth = 10, training set accuracy = 0.8926, validation set accuracy = 0.7963\n",
      "model estimators = 33, depth = 11, training set accuracy = 0.9004, validation set accuracy = 0.7885\n",
      "model estimators = 33, depth = 12, training set accuracy = 0.9160, validation set accuracy = 0.7900\n",
      "model estimators = 33, depth = 13, training set accuracy = 0.9227, validation set accuracy = 0.7994\n",
      "model estimators = 33, depth = 14, training set accuracy = 0.9315, validation set accuracy = 0.7947\n",
      "model estimators = 33, depth = 15, training set accuracy = 0.9466, validation set accuracy = 0.7994\n",
      "model estimators = 33, depth = 16, training set accuracy = 0.9575, validation set accuracy = 0.7932\n",
      "model estimators = 33, depth = 17, training set accuracy = 0.9658, validation set accuracy = 0.7807\n",
      "model estimators = 33, depth = 18, training set accuracy = 0.9741, validation set accuracy = 0.7900\n",
      "model estimators = 33, depth = 19, training set accuracy = 0.9844, validation set accuracy = 0.7869\n",
      "model estimators = 33, depth = 20, training set accuracy = 0.9912, validation set accuracy = 0.7854\n",
      "model estimators = 33, depth = 21, training set accuracy = 0.9948, validation set accuracy = 0.7885\n",
      "model estimators = 33, depth = 22, training set accuracy = 0.9959, validation set accuracy = 0.7807\n",
      "model estimators = 33, depth = 23, training set accuracy = 0.9969, validation set accuracy = 0.7900\n",
      "model estimators = 33, depth = 24, training set accuracy = 0.9969, validation set accuracy = 0.7932\n",
      "model estimators = 33, depth = 25, training set accuracy = 0.9969, validation set accuracy = 0.7854\n",
      "model estimators = 33, depth = 26, training set accuracy = 0.9964, validation set accuracy = 0.7869\n",
      "model estimators = 33, depth = 27, training set accuracy = 0.9964, validation set accuracy = 0.7900\n",
      "model estimators = 33, depth = 28, training set accuracy = 0.9964, validation set accuracy = 0.7869\n",
      "model estimators = 33, depth = 29, training set accuracy = 0.9969, validation set accuracy = 0.7869\n",
      "model estimators = 33, depth = 30, training set accuracy = 0.9969, validation set accuracy = 0.7869\n",
      "model estimators = 34, depth = 1, training set accuracy = 0.7588, validation set accuracy = 0.7387\n",
      "model estimators = 34, depth = 2, training set accuracy = 0.7910, validation set accuracy = 0.7621\n",
      "model estimators = 34, depth = 3, training set accuracy = 0.8122, validation set accuracy = 0.7698\n",
      "model estimators = 34, depth = 4, training set accuracy = 0.8226, validation set accuracy = 0.7776\n",
      "model estimators = 34, depth = 5, training set accuracy = 0.8304, validation set accuracy = 0.7792\n",
      "model estimators = 34, depth = 6, training set accuracy = 0.8491, validation set accuracy = 0.7838\n",
      "model estimators = 34, depth = 7, training set accuracy = 0.8626, validation set accuracy = 0.7838\n",
      "model estimators = 34, depth = 8, training set accuracy = 0.8698, validation set accuracy = 0.7854\n",
      "model estimators = 34, depth = 9, training set accuracy = 0.8791, validation set accuracy = 0.7885\n",
      "model estimators = 34, depth = 10, training set accuracy = 0.8937, validation set accuracy = 0.7978\n",
      "model estimators = 34, depth = 11, training set accuracy = 0.9025, validation set accuracy = 0.7885\n",
      "model estimators = 34, depth = 12, training set accuracy = 0.9160, validation set accuracy = 0.7900\n",
      "model estimators = 34, depth = 13, training set accuracy = 0.9232, validation set accuracy = 0.7978\n",
      "model estimators = 34, depth = 14, training set accuracy = 0.9326, validation set accuracy = 0.7916\n",
      "model estimators = 34, depth = 15, training set accuracy = 0.9481, validation set accuracy = 0.7963\n",
      "model estimators = 34, depth = 16, training set accuracy = 0.9575, validation set accuracy = 0.7947\n",
      "model estimators = 34, depth = 17, training set accuracy = 0.9658, validation set accuracy = 0.7838\n",
      "model estimators = 34, depth = 18, training set accuracy = 0.9735, validation set accuracy = 0.7916\n",
      "model estimators = 34, depth = 19, training set accuracy = 0.9834, validation set accuracy = 0.7869\n",
      "model estimators = 34, depth = 20, training set accuracy = 0.9922, validation set accuracy = 0.7900\n",
      "model estimators = 34, depth = 21, training set accuracy = 0.9948, validation set accuracy = 0.7885\n",
      "model estimators = 34, depth = 22, training set accuracy = 0.9964, validation set accuracy = 0.7838\n",
      "model estimators = 34, depth = 23, training set accuracy = 0.9974, validation set accuracy = 0.7869\n",
      "model estimators = 34, depth = 24, training set accuracy = 0.9974, validation set accuracy = 0.7900\n",
      "model estimators = 34, depth = 25, training set accuracy = 0.9974, validation set accuracy = 0.7807\n",
      "model estimators = 34, depth = 26, training set accuracy = 0.9974, validation set accuracy = 0.7869\n",
      "model estimators = 34, depth = 27, training set accuracy = 0.9974, validation set accuracy = 0.7885\n",
      "model estimators = 34, depth = 28, training set accuracy = 0.9974, validation set accuracy = 0.7869\n",
      "model estimators = 34, depth = 29, training set accuracy = 0.9974, validation set accuracy = 0.7869\n",
      "model estimators = 34, depth = 30, training set accuracy = 0.9974, validation set accuracy = 0.7869\n",
      "model estimators = 35, depth = 1, training set accuracy = 0.7588, validation set accuracy = 0.7387\n"
     ]
    },
    {
     "name": "stdout",
     "output_type": "stream",
     "text": [
      "model estimators = 35, depth = 2, training set accuracy = 0.7910, validation set accuracy = 0.7621\n",
      "model estimators = 35, depth = 3, training set accuracy = 0.8128, validation set accuracy = 0.7683\n",
      "model estimators = 35, depth = 4, training set accuracy = 0.8216, validation set accuracy = 0.7776\n",
      "model estimators = 35, depth = 5, training set accuracy = 0.8304, validation set accuracy = 0.7807\n",
      "model estimators = 35, depth = 6, training set accuracy = 0.8485, validation set accuracy = 0.7823\n",
      "model estimators = 35, depth = 7, training set accuracy = 0.8620, validation set accuracy = 0.7838\n",
      "model estimators = 35, depth = 8, training set accuracy = 0.8698, validation set accuracy = 0.7854\n",
      "model estimators = 35, depth = 9, training set accuracy = 0.8786, validation set accuracy = 0.7900\n",
      "model estimators = 35, depth = 10, training set accuracy = 0.8937, validation set accuracy = 0.7978\n",
      "model estimators = 35, depth = 11, training set accuracy = 0.9020, validation set accuracy = 0.7869\n",
      "model estimators = 35, depth = 12, training set accuracy = 0.9144, validation set accuracy = 0.7932\n",
      "model estimators = 35, depth = 13, training set accuracy = 0.9232, validation set accuracy = 0.7932\n",
      "model estimators = 35, depth = 14, training set accuracy = 0.9336, validation set accuracy = 0.7978\n",
      "model estimators = 35, depth = 15, training set accuracy = 0.9466, validation set accuracy = 0.7932\n",
      "model estimators = 35, depth = 16, training set accuracy = 0.9575, validation set accuracy = 0.7947\n",
      "model estimators = 35, depth = 17, training set accuracy = 0.9658, validation set accuracy = 0.7838\n",
      "model estimators = 35, depth = 18, training set accuracy = 0.9730, validation set accuracy = 0.7932\n",
      "model estimators = 35, depth = 19, training set accuracy = 0.9834, validation set accuracy = 0.7823\n",
      "model estimators = 35, depth = 20, training set accuracy = 0.9917, validation set accuracy = 0.7869\n",
      "model estimators = 35, depth = 21, training set accuracy = 0.9948, validation set accuracy = 0.7900\n",
      "model estimators = 35, depth = 22, training set accuracy = 0.9959, validation set accuracy = 0.7823\n",
      "model estimators = 35, depth = 23, training set accuracy = 0.9974, validation set accuracy = 0.7900\n",
      "model estimators = 35, depth = 24, training set accuracy = 0.9974, validation set accuracy = 0.7838\n",
      "model estimators = 35, depth = 25, training set accuracy = 0.9974, validation set accuracy = 0.7838\n",
      "model estimators = 35, depth = 26, training set accuracy = 0.9969, validation set accuracy = 0.7838\n",
      "model estimators = 35, depth = 27, training set accuracy = 0.9969, validation set accuracy = 0.7885\n",
      "model estimators = 35, depth = 28, training set accuracy = 0.9969, validation set accuracy = 0.7854\n",
      "model estimators = 35, depth = 29, training set accuracy = 0.9974, validation set accuracy = 0.7854\n",
      "model estimators = 35, depth = 30, training set accuracy = 0.9974, validation set accuracy = 0.7854\n",
      "model estimators = 36, depth = 1, training set accuracy = 0.7588, validation set accuracy = 0.7387\n",
      "model estimators = 36, depth = 2, training set accuracy = 0.7915, validation set accuracy = 0.7621\n",
      "model estimators = 36, depth = 3, training set accuracy = 0.8128, validation set accuracy = 0.7683\n",
      "model estimators = 36, depth = 4, training set accuracy = 0.8211, validation set accuracy = 0.7776\n",
      "model estimators = 36, depth = 5, training set accuracy = 0.8304, validation set accuracy = 0.7792\n",
      "model estimators = 36, depth = 6, training set accuracy = 0.8485, validation set accuracy = 0.7823\n",
      "model estimators = 36, depth = 7, training set accuracy = 0.8626, validation set accuracy = 0.7807\n",
      "model estimators = 36, depth = 8, training set accuracy = 0.8698, validation set accuracy = 0.7854\n",
      "model estimators = 36, depth = 9, training set accuracy = 0.8781, validation set accuracy = 0.7885\n",
      "model estimators = 36, depth = 10, training set accuracy = 0.8937, validation set accuracy = 0.7994\n",
      "model estimators = 36, depth = 11, training set accuracy = 0.9030, validation set accuracy = 0.7900\n",
      "model estimators = 36, depth = 12, training set accuracy = 0.9155, validation set accuracy = 0.7916\n",
      "model estimators = 36, depth = 13, training set accuracy = 0.9232, validation set accuracy = 0.7963\n",
      "model estimators = 36, depth = 14, training set accuracy = 0.9336, validation set accuracy = 0.7963\n",
      "model estimators = 36, depth = 15, training set accuracy = 0.9481, validation set accuracy = 0.7947\n",
      "model estimators = 36, depth = 16, training set accuracy = 0.9580, validation set accuracy = 0.7932\n",
      "model estimators = 36, depth = 17, training set accuracy = 0.9673, validation set accuracy = 0.7854\n",
      "model estimators = 36, depth = 18, training set accuracy = 0.9746, validation set accuracy = 0.7932\n",
      "model estimators = 36, depth = 19, training set accuracy = 0.9834, validation set accuracy = 0.7823\n",
      "model estimators = 36, depth = 20, training set accuracy = 0.9933, validation set accuracy = 0.7932\n",
      "model estimators = 36, depth = 21, training set accuracy = 0.9953, validation set accuracy = 0.7885\n",
      "model estimators = 36, depth = 22, training set accuracy = 0.9964, validation set accuracy = 0.7792\n",
      "model estimators = 36, depth = 23, training set accuracy = 0.9974, validation set accuracy = 0.7854\n",
      "model estimators = 36, depth = 24, training set accuracy = 0.9969, validation set accuracy = 0.7823\n",
      "model estimators = 36, depth = 25, training set accuracy = 0.9979, validation set accuracy = 0.7838\n",
      "model estimators = 36, depth = 26, training set accuracy = 0.9974, validation set accuracy = 0.7854\n",
      "model estimators = 36, depth = 27, training set accuracy = 0.9974, validation set accuracy = 0.7900\n",
      "model estimators = 36, depth = 28, training set accuracy = 0.9974, validation set accuracy = 0.7885\n",
      "model estimators = 36, depth = 29, training set accuracy = 0.9974, validation set accuracy = 0.7885\n",
      "model estimators = 36, depth = 30, training set accuracy = 0.9974, validation set accuracy = 0.7885\n",
      "model estimators = 37, depth = 1, training set accuracy = 0.7588, validation set accuracy = 0.7387\n",
      "model estimators = 37, depth = 2, training set accuracy = 0.7920, validation set accuracy = 0.7621\n",
      "model estimators = 37, depth = 3, training set accuracy = 0.8122, validation set accuracy = 0.7683\n",
      "model estimators = 37, depth = 4, training set accuracy = 0.8205, validation set accuracy = 0.7776\n",
      "model estimators = 37, depth = 5, training set accuracy = 0.8314, validation set accuracy = 0.7792\n",
      "model estimators = 37, depth = 6, training set accuracy = 0.8485, validation set accuracy = 0.7823\n",
      "model estimators = 37, depth = 7, training set accuracy = 0.8610, validation set accuracy = 0.7838\n",
      "model estimators = 37, depth = 8, training set accuracy = 0.8703, validation set accuracy = 0.7854\n",
      "model estimators = 37, depth = 9, training set accuracy = 0.8776, validation set accuracy = 0.7932\n",
      "model estimators = 37, depth = 10, training set accuracy = 0.8937, validation set accuracy = 0.7978\n",
      "model estimators = 37, depth = 11, training set accuracy = 0.9035, validation set accuracy = 0.7869\n",
      "model estimators = 37, depth = 12, training set accuracy = 0.9160, validation set accuracy = 0.7900\n",
      "model estimators = 37, depth = 13, training set accuracy = 0.9232, validation set accuracy = 0.7963\n",
      "model estimators = 37, depth = 14, training set accuracy = 0.9331, validation set accuracy = 0.7963\n",
      "model estimators = 37, depth = 15, training set accuracy = 0.9476, validation set accuracy = 0.7978\n",
      "model estimators = 37, depth = 16, training set accuracy = 0.9580, validation set accuracy = 0.7932\n",
      "model estimators = 37, depth = 17, training set accuracy = 0.9663, validation set accuracy = 0.7854\n",
      "model estimators = 37, depth = 18, training set accuracy = 0.9746, validation set accuracy = 0.7963\n",
      "model estimators = 37, depth = 19, training set accuracy = 0.9839, validation set accuracy = 0.7854\n",
      "model estimators = 37, depth = 20, training set accuracy = 0.9912, validation set accuracy = 0.7900\n",
      "model estimators = 37, depth = 21, training set accuracy = 0.9948, validation set accuracy = 0.7869\n",
      "model estimators = 37, depth = 22, training set accuracy = 0.9948, validation set accuracy = 0.7823\n",
      "model estimators = 37, depth = 23, training set accuracy = 0.9969, validation set accuracy = 0.7932\n",
      "model estimators = 37, depth = 24, training set accuracy = 0.9974, validation set accuracy = 0.7869\n",
      "model estimators = 37, depth = 25, training set accuracy = 0.9974, validation set accuracy = 0.7838\n"
     ]
    },
    {
     "name": "stdout",
     "output_type": "stream",
     "text": [
      "model estimators = 37, depth = 26, training set accuracy = 0.9969, validation set accuracy = 0.7854\n",
      "model estimators = 37, depth = 27, training set accuracy = 0.9969, validation set accuracy = 0.7916\n",
      "model estimators = 37, depth = 28, training set accuracy = 0.9969, validation set accuracy = 0.7900\n",
      "model estimators = 37, depth = 29, training set accuracy = 0.9974, validation set accuracy = 0.7900\n",
      "model estimators = 37, depth = 30, training set accuracy = 0.9974, validation set accuracy = 0.7900\n",
      "model estimators = 38, depth = 1, training set accuracy = 0.7593, validation set accuracy = 0.7387\n",
      "model estimators = 38, depth = 2, training set accuracy = 0.7920, validation set accuracy = 0.7621\n",
      "model estimators = 38, depth = 3, training set accuracy = 0.8117, validation set accuracy = 0.7683\n",
      "model estimators = 38, depth = 4, training set accuracy = 0.8205, validation set accuracy = 0.7792\n",
      "model estimators = 38, depth = 5, training set accuracy = 0.8325, validation set accuracy = 0.7807\n",
      "model estimators = 38, depth = 6, training set accuracy = 0.8480, validation set accuracy = 0.7823\n",
      "model estimators = 38, depth = 7, training set accuracy = 0.8620, validation set accuracy = 0.7854\n",
      "model estimators = 38, depth = 8, training set accuracy = 0.8703, validation set accuracy = 0.7854\n",
      "model estimators = 38, depth = 9, training set accuracy = 0.8781, validation set accuracy = 0.7900\n",
      "model estimators = 38, depth = 10, training set accuracy = 0.8926, validation set accuracy = 0.7994\n",
      "model estimators = 38, depth = 11, training set accuracy = 0.9025, validation set accuracy = 0.7900\n",
      "model estimators = 38, depth = 12, training set accuracy = 0.9155, validation set accuracy = 0.7900\n",
      "model estimators = 38, depth = 13, training set accuracy = 0.9227, validation set accuracy = 0.7978\n",
      "model estimators = 38, depth = 14, training set accuracy = 0.9321, validation set accuracy = 0.7947\n",
      "model estimators = 38, depth = 15, training set accuracy = 0.9481, validation set accuracy = 0.7947\n",
      "model estimators = 38, depth = 16, training set accuracy = 0.9585, validation set accuracy = 0.7947\n",
      "model estimators = 38, depth = 17, training set accuracy = 0.9663, validation set accuracy = 0.7792\n",
      "model estimators = 38, depth = 18, training set accuracy = 0.9735, validation set accuracy = 0.7916\n",
      "model estimators = 38, depth = 19, training set accuracy = 0.9834, validation set accuracy = 0.7869\n",
      "model estimators = 38, depth = 20, training set accuracy = 0.9922, validation set accuracy = 0.7900\n",
      "model estimators = 38, depth = 21, training set accuracy = 0.9948, validation set accuracy = 0.7869\n",
      "model estimators = 38, depth = 22, training set accuracy = 0.9953, validation set accuracy = 0.7807\n",
      "model estimators = 38, depth = 23, training set accuracy = 0.9964, validation set accuracy = 0.7916\n",
      "model estimators = 38, depth = 24, training set accuracy = 0.9964, validation set accuracy = 0.7838\n",
      "model estimators = 38, depth = 25, training set accuracy = 0.9969, validation set accuracy = 0.7807\n",
      "model estimators = 38, depth = 26, training set accuracy = 0.9964, validation set accuracy = 0.7854\n",
      "model estimators = 38, depth = 27, training set accuracy = 0.9964, validation set accuracy = 0.7885\n",
      "model estimators = 38, depth = 28, training set accuracy = 0.9964, validation set accuracy = 0.7854\n",
      "model estimators = 38, depth = 29, training set accuracy = 0.9964, validation set accuracy = 0.7854\n",
      "model estimators = 38, depth = 30, training set accuracy = 0.9964, validation set accuracy = 0.7854\n",
      "model estimators = 39, depth = 1, training set accuracy = 0.7567, validation set accuracy = 0.7387\n",
      "model estimators = 39, depth = 2, training set accuracy = 0.7915, validation set accuracy = 0.7621\n",
      "model estimators = 39, depth = 3, training set accuracy = 0.8128, validation set accuracy = 0.7683\n",
      "model estimators = 39, depth = 4, training set accuracy = 0.8205, validation set accuracy = 0.7776\n",
      "model estimators = 39, depth = 5, training set accuracy = 0.8314, validation set accuracy = 0.7807\n",
      "model estimators = 39, depth = 6, training set accuracy = 0.8465, validation set accuracy = 0.7838\n",
      "model estimators = 39, depth = 7, training set accuracy = 0.8631, validation set accuracy = 0.7854\n",
      "model estimators = 39, depth = 8, training set accuracy = 0.8703, validation set accuracy = 0.7885\n",
      "model estimators = 39, depth = 9, training set accuracy = 0.8776, validation set accuracy = 0.7916\n",
      "model estimators = 39, depth = 10, training set accuracy = 0.8926, validation set accuracy = 0.7978\n",
      "model estimators = 39, depth = 11, training set accuracy = 0.9004, validation set accuracy = 0.7900\n",
      "model estimators = 39, depth = 12, training set accuracy = 0.9134, validation set accuracy = 0.7900\n",
      "model estimators = 39, depth = 13, training set accuracy = 0.9217, validation set accuracy = 0.7963\n",
      "model estimators = 39, depth = 14, training set accuracy = 0.9326, validation set accuracy = 0.7932\n",
      "model estimators = 39, depth = 15, training set accuracy = 0.9497, validation set accuracy = 0.7947\n",
      "model estimators = 39, depth = 16, training set accuracy = 0.9575, validation set accuracy = 0.7932\n",
      "model estimators = 39, depth = 17, training set accuracy = 0.9668, validation set accuracy = 0.7776\n",
      "model estimators = 39, depth = 18, training set accuracy = 0.9751, validation set accuracy = 0.7947\n",
      "model estimators = 39, depth = 19, training set accuracy = 0.9829, validation set accuracy = 0.7854\n",
      "model estimators = 39, depth = 20, training set accuracy = 0.9922, validation set accuracy = 0.7916\n",
      "model estimators = 39, depth = 21, training set accuracy = 0.9943, validation set accuracy = 0.7854\n",
      "model estimators = 39, depth = 22, training set accuracy = 0.9964, validation set accuracy = 0.7823\n",
      "model estimators = 39, depth = 23, training set accuracy = 0.9974, validation set accuracy = 0.7916\n",
      "model estimators = 39, depth = 24, training set accuracy = 0.9964, validation set accuracy = 0.7854\n",
      "model estimators = 39, depth = 25, training set accuracy = 0.9974, validation set accuracy = 0.7854\n",
      "model estimators = 39, depth = 26, training set accuracy = 0.9969, validation set accuracy = 0.7838\n",
      "model estimators = 39, depth = 27, training set accuracy = 0.9969, validation set accuracy = 0.7854\n",
      "model estimators = 39, depth = 28, training set accuracy = 0.9969, validation set accuracy = 0.7823\n",
      "model estimators = 39, depth = 29, training set accuracy = 0.9974, validation set accuracy = 0.7823\n",
      "model estimators = 39, depth = 30, training set accuracy = 0.9974, validation set accuracy = 0.7823\n",
      "model estimators = 40, depth = 1, training set accuracy = 0.7573, validation set accuracy = 0.7387\n",
      "model estimators = 40, depth = 2, training set accuracy = 0.7920, validation set accuracy = 0.7621\n",
      "model estimators = 40, depth = 3, training set accuracy = 0.8143, validation set accuracy = 0.7714\n",
      "model estimators = 40, depth = 4, training set accuracy = 0.8195, validation set accuracy = 0.7792\n",
      "model estimators = 40, depth = 5, training set accuracy = 0.8320, validation set accuracy = 0.7807\n",
      "model estimators = 40, depth = 6, training set accuracy = 0.8491, validation set accuracy = 0.7807\n",
      "model estimators = 40, depth = 7, training set accuracy = 0.8615, validation set accuracy = 0.7838\n",
      "model estimators = 40, depth = 8, training set accuracy = 0.8709, validation set accuracy = 0.7869\n",
      "model estimators = 40, depth = 9, training set accuracy = 0.8786, validation set accuracy = 0.7900\n",
      "model estimators = 40, depth = 10, training set accuracy = 0.8921, validation set accuracy = 0.7963\n",
      "model estimators = 40, depth = 11, training set accuracy = 0.9015, validation set accuracy = 0.7963\n",
      "model estimators = 40, depth = 12, training set accuracy = 0.9134, validation set accuracy = 0.7947\n",
      "model estimators = 40, depth = 13, training set accuracy = 0.9206, validation set accuracy = 0.7947\n",
      "model estimators = 40, depth = 14, training set accuracy = 0.9331, validation set accuracy = 0.7916\n",
      "model estimators = 40, depth = 15, training set accuracy = 0.9492, validation set accuracy = 0.7963\n",
      "model estimators = 40, depth = 16, training set accuracy = 0.9590, validation set accuracy = 0.7947\n",
      "model estimators = 40, depth = 17, training set accuracy = 0.9668, validation set accuracy = 0.7854\n",
      "model estimators = 40, depth = 18, training set accuracy = 0.9756, validation set accuracy = 0.7947\n",
      "model estimators = 40, depth = 19, training set accuracy = 0.9824, validation set accuracy = 0.7838\n"
     ]
    },
    {
     "name": "stdout",
     "output_type": "stream",
     "text": [
      "model estimators = 40, depth = 20, training set accuracy = 0.9922, validation set accuracy = 0.7900\n",
      "model estimators = 40, depth = 21, training set accuracy = 0.9948, validation set accuracy = 0.7823\n",
      "model estimators = 40, depth = 22, training set accuracy = 0.9948, validation set accuracy = 0.7823\n",
      "model estimators = 40, depth = 23, training set accuracy = 0.9959, validation set accuracy = 0.7900\n",
      "model estimators = 40, depth = 24, training set accuracy = 0.9964, validation set accuracy = 0.7885\n",
      "model estimators = 40, depth = 25, training set accuracy = 0.9964, validation set accuracy = 0.7854\n",
      "model estimators = 40, depth = 26, training set accuracy = 0.9964, validation set accuracy = 0.7869\n",
      "model estimators = 40, depth = 27, training set accuracy = 0.9964, validation set accuracy = 0.7900\n",
      "model estimators = 40, depth = 28, training set accuracy = 0.9964, validation set accuracy = 0.7869\n",
      "model estimators = 40, depth = 29, training set accuracy = 0.9964, validation set accuracy = 0.7869\n",
      "model estimators = 40, depth = 30, training set accuracy = 0.9964, validation set accuracy = 0.7869\n",
      "model estimators = 41, depth = 1, training set accuracy = 0.7573, validation set accuracy = 0.7387\n",
      "model estimators = 41, depth = 2, training set accuracy = 0.7920, validation set accuracy = 0.7621\n",
      "model estimators = 41, depth = 3, training set accuracy = 0.8128, validation set accuracy = 0.7698\n",
      "model estimators = 41, depth = 4, training set accuracy = 0.8211, validation set accuracy = 0.7776\n",
      "model estimators = 41, depth = 5, training set accuracy = 0.8325, validation set accuracy = 0.7792\n",
      "model estimators = 41, depth = 6, training set accuracy = 0.8480, validation set accuracy = 0.7807\n",
      "model estimators = 41, depth = 7, training set accuracy = 0.8631, validation set accuracy = 0.7854\n",
      "model estimators = 41, depth = 8, training set accuracy = 0.8714, validation set accuracy = 0.7900\n",
      "model estimators = 41, depth = 9, training set accuracy = 0.8791, validation set accuracy = 0.7916\n",
      "model estimators = 41, depth = 10, training set accuracy = 0.8921, validation set accuracy = 0.7994\n",
      "model estimators = 41, depth = 11, training set accuracy = 0.9009, validation set accuracy = 0.7932\n",
      "model estimators = 41, depth = 12, training set accuracy = 0.9123, validation set accuracy = 0.7947\n",
      "model estimators = 41, depth = 13, training set accuracy = 0.9222, validation set accuracy = 0.7963\n",
      "model estimators = 41, depth = 14, training set accuracy = 0.9321, validation set accuracy = 0.7916\n",
      "model estimators = 41, depth = 15, training set accuracy = 0.9481, validation set accuracy = 0.7947\n",
      "model estimators = 41, depth = 16, training set accuracy = 0.9595, validation set accuracy = 0.7963\n",
      "model estimators = 41, depth = 17, training set accuracy = 0.9663, validation set accuracy = 0.7854\n",
      "model estimators = 41, depth = 18, training set accuracy = 0.9756, validation set accuracy = 0.7963\n",
      "model estimators = 41, depth = 19, training set accuracy = 0.9829, validation set accuracy = 0.7838\n",
      "model estimators = 41, depth = 20, training set accuracy = 0.9912, validation set accuracy = 0.7900\n",
      "model estimators = 41, depth = 21, training set accuracy = 0.9948, validation set accuracy = 0.7885\n",
      "model estimators = 41, depth = 22, training set accuracy = 0.9953, validation set accuracy = 0.7838\n",
      "model estimators = 41, depth = 23, training set accuracy = 0.9964, validation set accuracy = 0.7916\n",
      "model estimators = 41, depth = 24, training set accuracy = 0.9964, validation set accuracy = 0.7885\n",
      "model estimators = 41, depth = 25, training set accuracy = 0.9964, validation set accuracy = 0.7869\n",
      "model estimators = 41, depth = 26, training set accuracy = 0.9959, validation set accuracy = 0.7854\n",
      "model estimators = 41, depth = 27, training set accuracy = 0.9959, validation set accuracy = 0.7900\n",
      "model estimators = 41, depth = 28, training set accuracy = 0.9959, validation set accuracy = 0.7869\n",
      "model estimators = 41, depth = 29, training set accuracy = 0.9964, validation set accuracy = 0.7869\n",
      "model estimators = 41, depth = 30, training set accuracy = 0.9964, validation set accuracy = 0.7869\n",
      "model estimators = 42, depth = 1, training set accuracy = 0.7573, validation set accuracy = 0.7387\n",
      "model estimators = 42, depth = 2, training set accuracy = 0.7920, validation set accuracy = 0.7636\n",
      "model estimators = 42, depth = 3, training set accuracy = 0.8143, validation set accuracy = 0.7698\n",
      "model estimators = 42, depth = 4, training set accuracy = 0.8205, validation set accuracy = 0.7760\n",
      "model estimators = 42, depth = 5, training set accuracy = 0.8325, validation set accuracy = 0.7807\n",
      "model estimators = 42, depth = 6, training set accuracy = 0.8496, validation set accuracy = 0.7823\n",
      "model estimators = 42, depth = 7, training set accuracy = 0.8620, validation set accuracy = 0.7869\n",
      "model estimators = 42, depth = 8, training set accuracy = 0.8709, validation set accuracy = 0.7885\n",
      "model estimators = 42, depth = 9, training set accuracy = 0.8807, validation set accuracy = 0.7916\n",
      "model estimators = 42, depth = 10, training set accuracy = 0.8921, validation set accuracy = 0.7963\n",
      "model estimators = 42, depth = 11, training set accuracy = 0.9009, validation set accuracy = 0.7916\n",
      "model estimators = 42, depth = 12, training set accuracy = 0.9149, validation set accuracy = 0.7932\n",
      "model estimators = 42, depth = 13, training set accuracy = 0.9222, validation set accuracy = 0.7916\n",
      "model estimators = 42, depth = 14, training set accuracy = 0.9331, validation set accuracy = 0.7947\n",
      "model estimators = 42, depth = 15, training set accuracy = 0.9502, validation set accuracy = 0.7978\n",
      "model estimators = 42, depth = 16, training set accuracy = 0.9606, validation set accuracy = 0.7932\n",
      "model estimators = 42, depth = 17, training set accuracy = 0.9678, validation set accuracy = 0.7854\n",
      "model estimators = 42, depth = 18, training set accuracy = 0.9746, validation set accuracy = 0.7947\n",
      "model estimators = 42, depth = 19, training set accuracy = 0.9844, validation set accuracy = 0.7854\n",
      "model estimators = 42, depth = 20, training set accuracy = 0.9922, validation set accuracy = 0.7885\n",
      "model estimators = 42, depth = 21, training set accuracy = 0.9948, validation set accuracy = 0.7885\n",
      "model estimators = 42, depth = 22, training set accuracy = 0.9953, validation set accuracy = 0.7838\n",
      "model estimators = 42, depth = 23, training set accuracy = 0.9964, validation set accuracy = 0.7900\n",
      "model estimators = 42, depth = 24, training set accuracy = 0.9964, validation set accuracy = 0.7916\n",
      "model estimators = 42, depth = 25, training set accuracy = 0.9969, validation set accuracy = 0.7885\n",
      "model estimators = 42, depth = 26, training set accuracy = 0.9969, validation set accuracy = 0.7885\n",
      "model estimators = 42, depth = 27, training set accuracy = 0.9969, validation set accuracy = 0.7916\n",
      "model estimators = 42, depth = 28, training set accuracy = 0.9969, validation set accuracy = 0.7869\n",
      "model estimators = 42, depth = 29, training set accuracy = 0.9969, validation set accuracy = 0.7869\n",
      "model estimators = 42, depth = 30, training set accuracy = 0.9969, validation set accuracy = 0.7885\n",
      "model estimators = 43, depth = 1, training set accuracy = 0.7573, validation set accuracy = 0.7387\n",
      "model estimators = 43, depth = 2, training set accuracy = 0.7920, validation set accuracy = 0.7636\n",
      "model estimators = 43, depth = 3, training set accuracy = 0.8148, validation set accuracy = 0.7714\n",
      "model estimators = 43, depth = 4, training set accuracy = 0.8211, validation set accuracy = 0.7745\n",
      "model estimators = 43, depth = 5, training set accuracy = 0.8325, validation set accuracy = 0.7792\n",
      "model estimators = 43, depth = 6, training set accuracy = 0.8480, validation set accuracy = 0.7823\n",
      "model estimators = 43, depth = 7, training set accuracy = 0.8620, validation set accuracy = 0.7869\n",
      "model estimators = 43, depth = 8, training set accuracy = 0.8698, validation set accuracy = 0.7885\n",
      "model estimators = 43, depth = 9, training set accuracy = 0.8791, validation set accuracy = 0.7916\n",
      "model estimators = 43, depth = 10, training set accuracy = 0.8937, validation set accuracy = 0.7947\n",
      "model estimators = 43, depth = 11, training set accuracy = 0.9020, validation set accuracy = 0.7916\n",
      "model estimators = 43, depth = 12, training set accuracy = 0.9160, validation set accuracy = 0.7932\n",
      "model estimators = 43, depth = 13, training set accuracy = 0.9232, validation set accuracy = 0.7947\n"
     ]
    },
    {
     "name": "stdout",
     "output_type": "stream",
     "text": [
      "model estimators = 43, depth = 14, training set accuracy = 0.9357, validation set accuracy = 0.7963\n",
      "model estimators = 43, depth = 15, training set accuracy = 0.9507, validation set accuracy = 0.7978\n",
      "model estimators = 43, depth = 16, training set accuracy = 0.9611, validation set accuracy = 0.7947\n",
      "model estimators = 43, depth = 17, training set accuracy = 0.9684, validation set accuracy = 0.7885\n",
      "model estimators = 43, depth = 18, training set accuracy = 0.9751, validation set accuracy = 0.8009\n",
      "model estimators = 43, depth = 19, training set accuracy = 0.9839, validation set accuracy = 0.7869\n",
      "model estimators = 43, depth = 20, training set accuracy = 0.9927, validation set accuracy = 0.7869\n",
      "model estimators = 43, depth = 21, training set accuracy = 0.9948, validation set accuracy = 0.7900\n",
      "model estimators = 43, depth = 22, training set accuracy = 0.9964, validation set accuracy = 0.7854\n",
      "model estimators = 43, depth = 23, training set accuracy = 0.9979, validation set accuracy = 0.7932\n",
      "model estimators = 43, depth = 24, training set accuracy = 0.9969, validation set accuracy = 0.7900\n",
      "model estimators = 43, depth = 25, training set accuracy = 0.9979, validation set accuracy = 0.7885\n",
      "model estimators = 43, depth = 26, training set accuracy = 0.9979, validation set accuracy = 0.7869\n",
      "model estimators = 43, depth = 27, training set accuracy = 0.9979, validation set accuracy = 0.7947\n",
      "model estimators = 43, depth = 28, training set accuracy = 0.9979, validation set accuracy = 0.7869\n",
      "model estimators = 43, depth = 29, training set accuracy = 0.9979, validation set accuracy = 0.7869\n",
      "model estimators = 43, depth = 30, training set accuracy = 0.9979, validation set accuracy = 0.7900\n",
      "model estimators = 44, depth = 1, training set accuracy = 0.7619, validation set accuracy = 0.7403\n",
      "model estimators = 44, depth = 2, training set accuracy = 0.7920, validation set accuracy = 0.7621\n",
      "model estimators = 44, depth = 3, training set accuracy = 0.8164, validation set accuracy = 0.7760\n",
      "model estimators = 44, depth = 4, training set accuracy = 0.8211, validation set accuracy = 0.7745\n",
      "model estimators = 44, depth = 5, training set accuracy = 0.8335, validation set accuracy = 0.7792\n",
      "model estimators = 44, depth = 6, training set accuracy = 0.8485, validation set accuracy = 0.7823\n",
      "model estimators = 44, depth = 7, training set accuracy = 0.8620, validation set accuracy = 0.7869\n",
      "model estimators = 44, depth = 8, training set accuracy = 0.8703, validation set accuracy = 0.7869\n",
      "model estimators = 44, depth = 9, training set accuracy = 0.8802, validation set accuracy = 0.7900\n",
      "model estimators = 44, depth = 10, training set accuracy = 0.8942, validation set accuracy = 0.7963\n",
      "model estimators = 44, depth = 11, training set accuracy = 0.9025, validation set accuracy = 0.7963\n",
      "model estimators = 44, depth = 12, training set accuracy = 0.9149, validation set accuracy = 0.7916\n",
      "model estimators = 44, depth = 13, training set accuracy = 0.9227, validation set accuracy = 0.7916\n",
      "model estimators = 44, depth = 14, training set accuracy = 0.9346, validation set accuracy = 0.7932\n",
      "model estimators = 44, depth = 15, training set accuracy = 0.9497, validation set accuracy = 0.7978\n",
      "model estimators = 44, depth = 16, training set accuracy = 0.9590, validation set accuracy = 0.7963\n",
      "model estimators = 44, depth = 17, training set accuracy = 0.9684, validation set accuracy = 0.7869\n",
      "model estimators = 44, depth = 18, training set accuracy = 0.9751, validation set accuracy = 0.7978\n",
      "model estimators = 44, depth = 19, training set accuracy = 0.9844, validation set accuracy = 0.7869\n",
      "model estimators = 44, depth = 20, training set accuracy = 0.9933, validation set accuracy = 0.7869\n",
      "model estimators = 44, depth = 21, training set accuracy = 0.9948, validation set accuracy = 0.7885\n",
      "model estimators = 44, depth = 22, training set accuracy = 0.9974, validation set accuracy = 0.7869\n",
      "model estimators = 44, depth = 23, training set accuracy = 0.9984, validation set accuracy = 0.7947\n",
      "model estimators = 44, depth = 24, training set accuracy = 0.9974, validation set accuracy = 0.7885\n",
      "model estimators = 44, depth = 25, training set accuracy = 0.9984, validation set accuracy = 0.7885\n",
      "model estimators = 44, depth = 26, training set accuracy = 0.9979, validation set accuracy = 0.7900\n",
      "model estimators = 44, depth = 27, training set accuracy = 0.9979, validation set accuracy = 0.7947\n",
      "model estimators = 44, depth = 28, training set accuracy = 0.9979, validation set accuracy = 0.7916\n",
      "model estimators = 44, depth = 29, training set accuracy = 0.9979, validation set accuracy = 0.7916\n",
      "model estimators = 44, depth = 30, training set accuracy = 0.9979, validation set accuracy = 0.7947\n",
      "model estimators = 45, depth = 1, training set accuracy = 0.7873, validation set accuracy = 0.7621\n",
      "model estimators = 45, depth = 2, training set accuracy = 0.7920, validation set accuracy = 0.7621\n",
      "model estimators = 45, depth = 3, training set accuracy = 0.8164, validation set accuracy = 0.7745\n",
      "model estimators = 45, depth = 4, training set accuracy = 0.8211, validation set accuracy = 0.7745\n",
      "model estimators = 45, depth = 5, training set accuracy = 0.8335, validation set accuracy = 0.7807\n",
      "model estimators = 45, depth = 6, training set accuracy = 0.8475, validation set accuracy = 0.7823\n",
      "model estimators = 45, depth = 7, training set accuracy = 0.8636, validation set accuracy = 0.7854\n",
      "model estimators = 45, depth = 8, training set accuracy = 0.8703, validation set accuracy = 0.7854\n",
      "model estimators = 45, depth = 9, training set accuracy = 0.8802, validation set accuracy = 0.7900\n",
      "model estimators = 45, depth = 10, training set accuracy = 0.8947, validation set accuracy = 0.7963\n",
      "model estimators = 45, depth = 11, training set accuracy = 0.9015, validation set accuracy = 0.7947\n",
      "model estimators = 45, depth = 12, training set accuracy = 0.9160, validation set accuracy = 0.7932\n",
      "model estimators = 45, depth = 13, training set accuracy = 0.9227, validation set accuracy = 0.7916\n",
      "model estimators = 45, depth = 14, training set accuracy = 0.9336, validation set accuracy = 0.7963\n",
      "model estimators = 45, depth = 15, training set accuracy = 0.9512, validation set accuracy = 0.7947\n",
      "model estimators = 45, depth = 16, training set accuracy = 0.9601, validation set accuracy = 0.7932\n",
      "model estimators = 45, depth = 17, training set accuracy = 0.9684, validation set accuracy = 0.7900\n",
      "model estimators = 45, depth = 18, training set accuracy = 0.9756, validation set accuracy = 0.7963\n",
      "model estimators = 45, depth = 19, training set accuracy = 0.9834, validation set accuracy = 0.7869\n",
      "model estimators = 45, depth = 20, training set accuracy = 0.9933, validation set accuracy = 0.7885\n",
      "model estimators = 45, depth = 21, training set accuracy = 0.9953, validation set accuracy = 0.7932\n",
      "model estimators = 45, depth = 22, training set accuracy = 0.9969, validation set accuracy = 0.7869\n",
      "model estimators = 45, depth = 23, training set accuracy = 0.9984, validation set accuracy = 0.7947\n",
      "model estimators = 45, depth = 24, training set accuracy = 0.9974, validation set accuracy = 0.7885\n",
      "model estimators = 45, depth = 25, training set accuracy = 0.9984, validation set accuracy = 0.7916\n",
      "model estimators = 45, depth = 26, training set accuracy = 0.9984, validation set accuracy = 0.7900\n",
      "model estimators = 45, depth = 27, training set accuracy = 0.9984, validation set accuracy = 0.7916\n",
      "model estimators = 45, depth = 28, training set accuracy = 0.9984, validation set accuracy = 0.7869\n",
      "model estimators = 45, depth = 29, training set accuracy = 0.9984, validation set accuracy = 0.7869\n",
      "model estimators = 45, depth = 30, training set accuracy = 0.9984, validation set accuracy = 0.7932\n",
      "model estimators = 46, depth = 1, training set accuracy = 0.7650, validation set accuracy = 0.7481\n",
      "model estimators = 46, depth = 2, training set accuracy = 0.7915, validation set accuracy = 0.7605\n",
      "model estimators = 46, depth = 3, training set accuracy = 0.8138, validation set accuracy = 0.7683\n",
      "model estimators = 46, depth = 4, training set accuracy = 0.8211, validation set accuracy = 0.7745\n",
      "model estimators = 46, depth = 5, training set accuracy = 0.8340, validation set accuracy = 0.7807\n",
      "model estimators = 46, depth = 6, training set accuracy = 0.8480, validation set accuracy = 0.7807\n"
     ]
    },
    {
     "name": "stdout",
     "output_type": "stream",
     "text": [
      "model estimators = 46, depth = 7, training set accuracy = 0.8631, validation set accuracy = 0.7869\n",
      "model estimators = 46, depth = 8, training set accuracy = 0.8693, validation set accuracy = 0.7869\n",
      "model estimators = 46, depth = 9, training set accuracy = 0.8812, validation set accuracy = 0.7900\n",
      "model estimators = 46, depth = 10, training set accuracy = 0.8947, validation set accuracy = 0.7963\n",
      "model estimators = 46, depth = 11, training set accuracy = 0.9015, validation set accuracy = 0.7947\n",
      "model estimators = 46, depth = 12, training set accuracy = 0.9165, validation set accuracy = 0.7963\n",
      "model estimators = 46, depth = 13, training set accuracy = 0.9232, validation set accuracy = 0.7932\n",
      "model estimators = 46, depth = 14, training set accuracy = 0.9341, validation set accuracy = 0.7932\n",
      "model estimators = 46, depth = 15, training set accuracy = 0.9507, validation set accuracy = 0.7963\n",
      "model estimators = 46, depth = 16, training set accuracy = 0.9595, validation set accuracy = 0.7947\n",
      "model estimators = 46, depth = 17, training set accuracy = 0.9668, validation set accuracy = 0.7869\n",
      "model estimators = 46, depth = 18, training set accuracy = 0.9761, validation set accuracy = 0.7994\n",
      "model estimators = 46, depth = 19, training set accuracy = 0.9839, validation set accuracy = 0.7900\n",
      "model estimators = 46, depth = 20, training set accuracy = 0.9938, validation set accuracy = 0.7869\n",
      "model estimators = 46, depth = 21, training set accuracy = 0.9953, validation set accuracy = 0.7900\n",
      "model estimators = 46, depth = 22, training set accuracy = 0.9974, validation set accuracy = 0.7869\n",
      "model estimators = 46, depth = 23, training set accuracy = 0.9984, validation set accuracy = 0.7947\n",
      "model estimators = 46, depth = 24, training set accuracy = 0.9979, validation set accuracy = 0.7932\n",
      "model estimators = 46, depth = 25, training set accuracy = 0.9984, validation set accuracy = 0.7900\n",
      "model estimators = 46, depth = 26, training set accuracy = 0.9984, validation set accuracy = 0.7916\n",
      "model estimators = 46, depth = 27, training set accuracy = 0.9984, validation set accuracy = 0.7932\n",
      "model estimators = 46, depth = 28, training set accuracy = 0.9984, validation set accuracy = 0.7916\n",
      "model estimators = 46, depth = 29, training set accuracy = 0.9984, validation set accuracy = 0.7916\n",
      "model estimators = 46, depth = 30, training set accuracy = 0.9984, validation set accuracy = 0.7932\n",
      "model estimators = 47, depth = 1, training set accuracy = 0.7868, validation set accuracy = 0.7621\n",
      "model estimators = 47, depth = 2, training set accuracy = 0.7910, validation set accuracy = 0.7605\n",
      "model estimators = 47, depth = 3, training set accuracy = 0.8159, validation set accuracy = 0.7729\n",
      "model estimators = 47, depth = 4, training set accuracy = 0.8211, validation set accuracy = 0.7745\n",
      "model estimators = 47, depth = 5, training set accuracy = 0.8330, validation set accuracy = 0.7807\n",
      "model estimators = 47, depth = 6, training set accuracy = 0.8491, validation set accuracy = 0.7823\n",
      "model estimators = 47, depth = 7, training set accuracy = 0.8631, validation set accuracy = 0.7869\n",
      "model estimators = 47, depth = 8, training set accuracy = 0.8703, validation set accuracy = 0.7885\n",
      "model estimators = 47, depth = 9, training set accuracy = 0.8812, validation set accuracy = 0.7900\n",
      "model estimators = 47, depth = 10, training set accuracy = 0.8952, validation set accuracy = 0.7916\n",
      "model estimators = 47, depth = 11, training set accuracy = 0.9020, validation set accuracy = 0.7947\n",
      "model estimators = 47, depth = 12, training set accuracy = 0.9160, validation set accuracy = 0.7932\n",
      "model estimators = 47, depth = 13, training set accuracy = 0.9232, validation set accuracy = 0.7947\n",
      "model estimators = 47, depth = 14, training set accuracy = 0.9357, validation set accuracy = 0.7978\n",
      "model estimators = 47, depth = 15, training set accuracy = 0.9512, validation set accuracy = 0.7916\n",
      "model estimators = 47, depth = 16, training set accuracy = 0.9601, validation set accuracy = 0.7978\n",
      "model estimators = 47, depth = 17, training set accuracy = 0.9678, validation set accuracy = 0.7885\n",
      "model estimators = 47, depth = 18, training set accuracy = 0.9761, validation set accuracy = 0.8009\n",
      "model estimators = 47, depth = 19, training set accuracy = 0.9844, validation set accuracy = 0.7885\n",
      "model estimators = 47, depth = 20, training set accuracy = 0.9938, validation set accuracy = 0.7932\n",
      "model estimators = 47, depth = 21, training set accuracy = 0.9959, validation set accuracy = 0.7916\n",
      "model estimators = 47, depth = 22, training set accuracy = 0.9974, validation set accuracy = 0.7885\n",
      "model estimators = 47, depth = 23, training set accuracy = 0.9984, validation set accuracy = 0.7947\n",
      "model estimators = 47, depth = 24, training set accuracy = 0.9979, validation set accuracy = 0.7916\n",
      "model estimators = 47, depth = 25, training set accuracy = 0.9984, validation set accuracy = 0.7885\n",
      "model estimators = 47, depth = 26, training set accuracy = 0.9984, validation set accuracy = 0.7885\n",
      "model estimators = 47, depth = 27, training set accuracy = 0.9984, validation set accuracy = 0.7932\n",
      "model estimators = 47, depth = 28, training set accuracy = 0.9984, validation set accuracy = 0.7869\n",
      "model estimators = 47, depth = 29, training set accuracy = 0.9984, validation set accuracy = 0.7869\n",
      "model estimators = 47, depth = 30, training set accuracy = 0.9984, validation set accuracy = 0.7916\n",
      "model estimators = 48, depth = 1, training set accuracy = 0.7650, validation set accuracy = 0.7481\n",
      "model estimators = 48, depth = 2, training set accuracy = 0.7915, validation set accuracy = 0.7605\n",
      "model estimators = 48, depth = 3, training set accuracy = 0.8185, validation set accuracy = 0.7729\n",
      "model estimators = 48, depth = 4, training set accuracy = 0.8211, validation set accuracy = 0.7745\n",
      "model estimators = 48, depth = 5, training set accuracy = 0.8335, validation set accuracy = 0.7792\n",
      "model estimators = 48, depth = 6, training set accuracy = 0.8480, validation set accuracy = 0.7807\n",
      "model estimators = 48, depth = 7, training set accuracy = 0.8631, validation set accuracy = 0.7869\n",
      "model estimators = 48, depth = 8, training set accuracy = 0.8688, validation set accuracy = 0.7885\n",
      "model estimators = 48, depth = 9, training set accuracy = 0.8807, validation set accuracy = 0.7916\n",
      "model estimators = 48, depth = 10, training set accuracy = 0.8947, validation set accuracy = 0.7963\n",
      "model estimators = 48, depth = 11, training set accuracy = 0.9025, validation set accuracy = 0.7900\n",
      "model estimators = 48, depth = 12, training set accuracy = 0.9149, validation set accuracy = 0.7963\n",
      "model estimators = 48, depth = 13, training set accuracy = 0.9248, validation set accuracy = 0.7963\n",
      "model estimators = 48, depth = 14, training set accuracy = 0.9357, validation set accuracy = 0.7947\n",
      "model estimators = 48, depth = 15, training set accuracy = 0.9518, validation set accuracy = 0.7947\n",
      "model estimators = 48, depth = 16, training set accuracy = 0.9601, validation set accuracy = 0.7932\n",
      "model estimators = 48, depth = 17, training set accuracy = 0.9684, validation set accuracy = 0.7885\n",
      "model estimators = 48, depth = 18, training set accuracy = 0.9767, validation set accuracy = 0.7994\n",
      "model estimators = 48, depth = 19, training set accuracy = 0.9850, validation set accuracy = 0.7947\n",
      "model estimators = 48, depth = 20, training set accuracy = 0.9933, validation set accuracy = 0.7885\n",
      "model estimators = 48, depth = 21, training set accuracy = 0.9959, validation set accuracy = 0.7869\n",
      "model estimators = 48, depth = 22, training set accuracy = 0.9974, validation set accuracy = 0.7838\n",
      "model estimators = 48, depth = 23, training set accuracy = 0.9984, validation set accuracy = 0.7916\n",
      "model estimators = 48, depth = 24, training set accuracy = 0.9974, validation set accuracy = 0.7900\n",
      "model estimators = 48, depth = 25, training set accuracy = 0.9984, validation set accuracy = 0.7854\n",
      "model estimators = 48, depth = 26, training set accuracy = 0.9984, validation set accuracy = 0.7869\n",
      "model estimators = 48, depth = 27, training set accuracy = 0.9984, validation set accuracy = 0.7885\n",
      "model estimators = 48, depth = 28, training set accuracy = 0.9984, validation set accuracy = 0.7869\n",
      "model estimators = 48, depth = 29, training set accuracy = 0.9984, validation set accuracy = 0.7869\n",
      "model estimators = 48, depth = 30, training set accuracy = 0.9984, validation set accuracy = 0.7900\n"
     ]
    },
    {
     "name": "stdout",
     "output_type": "stream",
     "text": [
      "model estimators = 49, depth = 1, training set accuracy = 0.7650, validation set accuracy = 0.7465\n",
      "model estimators = 49, depth = 2, training set accuracy = 0.7905, validation set accuracy = 0.7605\n",
      "model estimators = 49, depth = 3, training set accuracy = 0.8159, validation set accuracy = 0.7729\n",
      "model estimators = 49, depth = 4, training set accuracy = 0.8211, validation set accuracy = 0.7745\n",
      "model estimators = 49, depth = 5, training set accuracy = 0.8330, validation set accuracy = 0.7792\n",
      "model estimators = 49, depth = 6, training set accuracy = 0.8465, validation set accuracy = 0.7807\n",
      "model estimators = 49, depth = 7, training set accuracy = 0.8631, validation set accuracy = 0.7854\n",
      "model estimators = 49, depth = 8, training set accuracy = 0.8703, validation set accuracy = 0.7869\n",
      "model estimators = 49, depth = 9, training set accuracy = 0.8797, validation set accuracy = 0.7885\n",
      "model estimators = 49, depth = 10, training set accuracy = 0.8947, validation set accuracy = 0.7963\n",
      "model estimators = 49, depth = 11, training set accuracy = 0.9015, validation set accuracy = 0.7932\n",
      "model estimators = 49, depth = 12, training set accuracy = 0.9139, validation set accuracy = 0.7916\n",
      "model estimators = 49, depth = 13, training set accuracy = 0.9243, validation set accuracy = 0.7963\n",
      "model estimators = 49, depth = 14, training set accuracy = 0.9352, validation set accuracy = 0.7900\n",
      "model estimators = 49, depth = 15, training set accuracy = 0.9518, validation set accuracy = 0.7900\n",
      "model estimators = 49, depth = 16, training set accuracy = 0.9585, validation set accuracy = 0.7932\n",
      "model estimators = 49, depth = 17, training set accuracy = 0.9678, validation set accuracy = 0.7869\n",
      "model estimators = 49, depth = 18, training set accuracy = 0.9767, validation set accuracy = 0.8025\n",
      "model estimators = 49, depth = 19, training set accuracy = 0.9839, validation set accuracy = 0.7869\n",
      "model estimators = 49, depth = 20, training set accuracy = 0.9933, validation set accuracy = 0.7885\n",
      "model estimators = 49, depth = 21, training set accuracy = 0.9953, validation set accuracy = 0.7869\n",
      "model estimators = 49, depth = 22, training set accuracy = 0.9964, validation set accuracy = 0.7854\n",
      "model estimators = 49, depth = 23, training set accuracy = 0.9974, validation set accuracy = 0.7900\n",
      "model estimators = 49, depth = 24, training set accuracy = 0.9969, validation set accuracy = 0.7900\n",
      "model estimators = 49, depth = 25, training set accuracy = 0.9984, validation set accuracy = 0.7838\n",
      "model estimators = 49, depth = 26, training set accuracy = 0.9979, validation set accuracy = 0.7869\n",
      "model estimators = 49, depth = 27, training set accuracy = 0.9979, validation set accuracy = 0.7869\n",
      "model estimators = 49, depth = 28, training set accuracy = 0.9979, validation set accuracy = 0.7823\n",
      "model estimators = 49, depth = 29, training set accuracy = 0.9984, validation set accuracy = 0.7869\n",
      "model estimators = 49, depth = 30, training set accuracy = 0.9984, validation set accuracy = 0.7916\n",
      "model estimators = 50, depth = 1, training set accuracy = 0.7645, validation set accuracy = 0.7465\n",
      "model estimators = 50, depth = 2, training set accuracy = 0.7905, validation set accuracy = 0.7605\n",
      "model estimators = 50, depth = 3, training set accuracy = 0.8133, validation set accuracy = 0.7667\n",
      "model estimators = 50, depth = 4, training set accuracy = 0.8205, validation set accuracy = 0.7745\n",
      "model estimators = 50, depth = 5, training set accuracy = 0.8325, validation set accuracy = 0.7792\n",
      "model estimators = 50, depth = 6, training set accuracy = 0.8470, validation set accuracy = 0.7807\n",
      "model estimators = 50, depth = 7, training set accuracy = 0.8636, validation set accuracy = 0.7869\n",
      "model estimators = 50, depth = 8, training set accuracy = 0.8698, validation set accuracy = 0.7869\n",
      "model estimators = 50, depth = 9, training set accuracy = 0.8812, validation set accuracy = 0.7885\n",
      "model estimators = 50, depth = 10, training set accuracy = 0.8947, validation set accuracy = 0.7978\n",
      "model estimators = 50, depth = 11, training set accuracy = 0.9025, validation set accuracy = 0.7885\n",
      "model estimators = 50, depth = 12, training set accuracy = 0.9139, validation set accuracy = 0.7932\n",
      "model estimators = 50, depth = 13, training set accuracy = 0.9243, validation set accuracy = 0.8009\n",
      "model estimators = 50, depth = 14, training set accuracy = 0.9367, validation set accuracy = 0.7916\n",
      "model estimators = 50, depth = 15, training set accuracy = 0.9523, validation set accuracy = 0.7947\n",
      "model estimators = 50, depth = 16, training set accuracy = 0.9590, validation set accuracy = 0.7947\n",
      "model estimators = 50, depth = 17, training set accuracy = 0.9673, validation set accuracy = 0.7900\n",
      "model estimators = 50, depth = 18, training set accuracy = 0.9782, validation set accuracy = 0.7947\n",
      "model estimators = 50, depth = 19, training set accuracy = 0.9850, validation set accuracy = 0.7900\n",
      "model estimators = 50, depth = 20, training set accuracy = 0.9927, validation set accuracy = 0.7885\n",
      "model estimators = 50, depth = 21, training set accuracy = 0.9959, validation set accuracy = 0.7869\n",
      "model estimators = 50, depth = 22, training set accuracy = 0.9969, validation set accuracy = 0.7854\n",
      "model estimators = 50, depth = 23, training set accuracy = 0.9974, validation set accuracy = 0.7932\n",
      "model estimators = 50, depth = 24, training set accuracy = 0.9974, validation set accuracy = 0.7900\n",
      "model estimators = 50, depth = 25, training set accuracy = 0.9979, validation set accuracy = 0.7792\n",
      "model estimators = 50, depth = 26, training set accuracy = 0.9979, validation set accuracy = 0.7869\n",
      "model estimators = 50, depth = 27, training set accuracy = 0.9979, validation set accuracy = 0.7885\n",
      "model estimators = 50, depth = 28, training set accuracy = 0.9979, validation set accuracy = 0.7838\n",
      "model estimators = 50, depth = 29, training set accuracy = 0.9979, validation set accuracy = 0.7885\n",
      "model estimators = 50, depth = 30, training set accuracy = 0.9979, validation set accuracy = 0.7932\n",
      "\n",
      "Best random forest model:\n",
      "Estimators: 20\n",
      "Depth: 15\n",
      "Accuracy: 0.8025\n"
     ]
    }
   ],
   "source": [
    "# Find the best fittting random forest classifier model by varying estimators and depth\n",
    "\n",
    "best_rf_depth_model = None\n",
    "best_rf_depth_est = 0\n",
    "best_rf_depth_depth = 0\n",
    "best_rf_depth_result = 0\n",
    "rf_depth_results = []\n",
    "\n",
    "for est in range(1, 51):\n",
    "    for depth in range (1, 31):\n",
    "        model = RandomForestClassifier(random_state=12345, n_estimators=est, max_depth=depth)\n",
    "        model.fit(features_train, target_train)\n",
    "        predictions_train = model.predict(features_train) \n",
    "        predictions_valid = model.predict(features_valid)\n",
    "        result_train = accuracy_score(target_train, predictions_train)\n",
    "        result_valid = accuracy_score(target_valid, predictions_valid)\n",
    "        print(f'model estimators = {est}, depth = {depth}, training set accuracy = {result_train:.4f}, validation set accuracy = {result_valid:.4f}')\n",
    "        rf_depth_results.append([est, depth, result_train, result_valid]) \n",
    "        if result_valid > best_rf_depth_result:\n",
    "            best_rf_depth_est = est\n",
    "            best_rf_depth_depth = depth\n",
    "            best_rf_depth_model = model\n",
    "            best_rf_depth_result = result_valid\n",
    "\n",
    "rf_depth_results = pd.DataFrame(rf_depth_results, columns=['est', 'depth', 'result_train', 'result_valid'])\n",
    "            \n",
    "print()\n",
    "print(\"Best random forest model:\")\n",
    "print(\"Estimators:\", best_rf_depth_est)\n",
    "print(\"Depth:\", best_rf_depth_depth)\n",
    "print(f\"Accuracy: {best_rf_depth_result:.4f}\")"
   ]
  },
  {
   "cell_type": "code",
   "execution_count": 13,
   "metadata": {},
   "outputs": [
    {
     "data": {
      "image/png": "[encoded data removed]",
      "text/plain": [
       "<Figure size 640x480 with 1 Axes>"
      ]
     },
     "metadata": {},
     "output_type": "display_data"
    },
    {
     "name": "stdout",
     "output_type": "stream",
     "text": [
      "\n"
     ]
    },
    {
     "data": {
      "image/png": "[encoded data removed]",
      "text/plain": [
       "<Figure size 640x480 with 1 Axes>"
      ]
     },
     "metadata": {},
     "output_type": "display_data"
    }
   ],
   "source": [
    "# plot results for random forest classifiers with varying estimators and depth\n",
    "\n",
    "plt.plot(rf_depth_results['est'], rf_depth_results['result_valid'])\n",
    "plt.xlabel('Depth Within Number of Estimators')\n",
    "plt.ylabel('Validation Accuracy')\n",
    "plt.title('Random Forest Model Learning Curve\\nWith Varying Estimators and Depth')\n",
    "plt.show()\n",
    "print()\n",
    "\n",
    "rf_depth_max = pd.DataFrame(rf_depth_results.groupby('est')['result_valid'].max()).reset_index()\n",
    "\n",
    "plt.plot(rf_depth_max['est'], rf_depth_max['result_valid'])\n",
    "plt.xlabel('Number of Estimators')\n",
    "plt.ylabel('Validation Accuracy')\n",
    "plt.title('Random Forest Model Learning Curve\\nWith the Best Resulting Depth for Varying Number of Estimators')\n",
    "plt.show()"
   ]
  },
  {
   "cell_type": "markdown",
   "metadata": {},
   "source": [
    "The best random forest classifier model I tested this round has 20 estimators, a depth of 15, and the best accuracy yet with 0.8025. I arbitrarily stopped after 50 estimators and depth of 30, but the plot indicates that models with more estimators achieve higher accuracy, so there might be better models of this type. However, accuracy hit something of a plateau after 3 estimators and a depth of 9, so further improvement is likely to be small and outweighed by increased complexity."
   ]
  },
  {
   "cell_type": "code",
   "execution_count": 14,
   "metadata": {},
   "outputs": [
    {
     "name": "stdout",
     "output_type": "stream",
     "text": [
      "\n",
      "Logistic regression model:\n",
      "Training set accuracy: 0.7422\n",
      "Validation set accuracy: 0.7294\n"
     ]
    }
   ],
   "source": [
    "# Train a logistic regression model\n",
    "\n",
    "lr_model = LogisticRegression(random_state=12345, solver='liblinear')\n",
    "lr_model.fit(features_train, target_train)\n",
    "predictions_train = lr_model.predict(features_train) \n",
    "predictions_valid = lr_model.predict(features_valid)\n",
    "lr_result_train = accuracy_score(target_train, predictions_train)\n",
    "lr_result_valid = accuracy_score(target_valid, predictions_valid)\n",
    "\n",
    "print()\n",
    "print(\"Logistic regression model:\")\n",
    "print(f\"Training set accuracy: {lr_result_train:.4f}\")\n",
    "print(f\"Validation set accuracy: {lr_result_valid:.4f}\")"
   ]
  },
  {
   "cell_type": "markdown",
   "metadata": {},
   "source": [
    "The logistic regression model has a relatively low acuracy of 0.7294, placing it well below the decision tree and random forest classifiers. "
   ]
  },
  {
   "cell_type": "code",
   "execution_count": 15,
   "metadata": {},
   "outputs": [
    {
     "name": "stdout",
     "output_type": "stream",
     "text": [
      "Validation Accuracy of the Best Models for Predicting Megaline Plans from Subscriber Behavior\n",
      "Decision Tree (depth = 7): 0.7745\n",
      "Random Forest (estimators = 44): 0.7947\n",
      "Random Forest (estimators = 20, depth = 15): 0.8025\n",
      "Logistic Regression: 0.7294\n"
     ]
    }
   ],
   "source": [
    "# Summarize validation accuracy\n",
    "\n",
    "print(\"Validation Accuracy of the Best Models for Predicting Megaline Plans from Subscriber Behavior\")\n",
    "print(f\"Decision Tree (depth = {best_dt_depth}): {best_dt_result:.4f}\")\n",
    "print(f\"Random Forest (estimators = {best_rf_est}): {best_rf_result:.4f}\")\n",
    "print(f\"Random Forest (estimators = {best_rf_depth_est}, depth = {best_rf_depth_depth}): {best_rf_depth_result:.4f}\")\n",
    "print(f\"Logistic Regression: {lr_result_valid:.4f}\")"
   ]
  },
  {
   "cell_type": "markdown",
   "metadata": {},
   "source": [
    "The best model according to accuracy on the validation set is the random forest classifier with 20 estimators and depth 15 (accuracy = 0.8025). "
   ]
  },
  {
   "cell_type": "markdown",
   "metadata": {},
   "source": [
    "# Test Models #"
   ]
  },
  {
   "cell_type": "code",
   "execution_count": 16,
   "metadata": {},
   "outputs": [],
   "source": [
    "# Retrain models with the combined training and validation data\n",
    "\n",
    "features_combo = pd.concat([features_train, features_valid], ignore_index=True)\n",
    "target_combo = pd.concat([target_train, target_valid], ignore_index=True)\n",
    "\n",
    "final_dt_model = best_dt_model.fit(features_combo, target_combo)\n",
    "final_rf_model = best_rf_model.fit(features_combo, target_combo)\n",
    "final_rf_depth_model = best_rf_depth_model.fit(features_combo, target_combo)\n",
    "final_lr_model = lr_model.fit(features_combo, target_combo)"
   ]
  },
  {
   "cell_type": "code",
   "execution_count": 17,
   "metadata": {},
   "outputs": [
    {
     "name": "stdout",
     "output_type": "stream",
     "text": [
      "Test Accuracy of the Best Models for Predicting Megaline Plans from Subscriber Behavior\n",
      "Decision Tree (depth = 7): 0.7792\n",
      "Random Forest (estimators = 44): 0.7792\n",
      "Random Forest (estimators = 20, depth = 15): 0.7838\n",
      "Logistic Regression: 0.7030\n"
     ]
    }
   ],
   "source": [
    "# Test final models with the test data set\n",
    "\n",
    "dt_test_score = accuracy_score(target_test, final_dt_model.predict(features_test))\n",
    "rf_test_score = accuracy_score(target_test, final_rf_model.predict(features_test))\n",
    "rf_depth_test_score = accuracy_score(target_test, final_rf_depth_model.predict(features_test))\n",
    "lr_test_score = accuracy_score(target_test, final_lr_model.predict(features_test))\n",
    "\n",
    "print(\"Test Accuracy of the Best Models for Predicting Megaline Plans from Subscriber Behavior\")\n",
    "print(f\"Decision Tree (depth = {best_dt_depth}): {dt_test_score:.4f}\")\n",
    "print(f\"Random Forest (estimators = {best_rf_est}): {rf_test_score:.4f}\")\n",
    "print(f\"Random Forest (estimators = {best_rf_depth_est}, depth = {best_rf_depth_depth}): {rf_depth_test_score:.4f}\")\n",
    "print(f\"Logistic Regression: {lr_test_score:.4f}\")"
   ]
  },
  {
   "cell_type": "code",
   "execution_count": 18,
   "metadata": {},
   "outputs": [
    {
     "name": "stdout",
     "output_type": "stream",
     "text": [
      "Random model accuracy: 0.5117\n"
     ]
    }
   ],
   "source": [
    "# Sanity check the model by comparing it to a random one\n",
    "\n",
    "rng = np.random.default_rng(seed=12345)\n",
    "random_test_score = accuracy_score(target_test, rng.choice([0, 1], size=len(features_test)))\n",
    "print(f\"Random model accuracy: {random_test_score:.4f}\")"
   ]
  },
  {
   "cell_type": "markdown",
   "metadata": {},
   "source": [
    "The best model according to accuracy on the test set is the random forest classifier with 20 estimators and depth 15 (accuracy = 0.7838). The decision tree and both random forest models surpass the accuracy threshold of 0.75 but the logistic regression model does not (accuracy = 0.7030). The accuracy of those three adequate models is quite close, clustering around 0.78, to the point that none is markedly superior to the others. \n",
    "\n",
    "As a sanity check, it is worth noting that a classifier model randomly predicting a dichotomous outcome could expect an accuracy rate around 50%. When I tested such a model - randomly selecting between values of 0 and 1 - against the test set, its accuracy was 0.5117 as expected. All of the other models I tested easily beat chance, which is a good sign. "
   ]
  },
  {
   "cell_type": "markdown",
   "metadata": {},
   "source": [
    "# General Discussion #"
   ]
  },
  {
   "cell_type": "markdown",
   "metadata": {},
   "source": [
    "The goal of this project was to recommend Megaline phone plans to subscribers with legacy plans based on their behavior. I trained and tested decision tree classifier, random forest classifier, and logistic regression models. The best model was a random forest classifier with 20 estimators and depth 15. It correctly classified 78% of Megaline plans in the test data set, better than the other models and far superior than would be expected by chance. That model should be satisfactory for the purpose of recommending plans to users. "
   ]
  }
 ],
 "metadata": {
  "ExecuteTimeLog": [
   {
    "duration": 2702,
    "start_time": "2024-11-25T11:48:29.016Z"
   },
   {
    "duration": 534,
    "start_time": "2024-11-25T11:48:31.720Z"
   },
   {
    "duration": 0,
    "start_time": "2024-11-25T11:48:32.256Z"
   },
   {
    "duration": 13,
    "start_time": "2024-11-25T11:48:46.575Z"
   },
   {
    "duration": 14,
    "start_time": "2024-11-25T11:48:50.717Z"
   },
   {
    "duration": 3,
    "start_time": "2024-11-25T11:50:35.093Z"
   },
   {
    "duration": 7,
    "start_time": "2024-11-25T11:50:35.099Z"
   },
   {
    "duration": 11,
    "start_time": "2024-11-25T11:50:35.107Z"
   },
   {
    "duration": 36,
    "start_time": "2024-11-25T11:55:04.260Z"
   },
   {
    "duration": 11,
    "start_time": "2024-11-25T12:02:05.346Z"
   },
   {
    "duration": 21,
    "start_time": "2024-11-25T12:02:27.251Z"
   },
   {
    "duration": 21,
    "start_time": "2024-11-25T12:02:45.881Z"
   },
   {
    "duration": 18,
    "start_time": "2024-11-25T12:03:10.682Z"
   },
   {
    "duration": 23,
    "start_time": "2024-11-25T12:03:31.168Z"
   },
   {
    "duration": 232,
    "start_time": "2024-11-25T12:06:46.803Z"
   },
   {
    "duration": 128,
    "start_time": "2024-11-25T12:07:25.985Z"
   },
   {
    "duration": 3,
    "start_time": "2024-11-25T12:07:43.727Z"
   },
   {
    "duration": 638,
    "start_time": "2024-11-25T12:09:06.172Z"
   },
   {
    "duration": 19,
    "start_time": "2024-11-25T12:09:59.009Z"
   },
   {
    "duration": 901,
    "start_time": "2024-11-25T12:14:14.356Z"
   },
   {
    "duration": 9,
    "start_time": "2024-11-25T12:14:15.260Z"
   },
   {
    "duration": 19,
    "start_time": "2024-11-25T12:14:15.270Z"
   },
   {
    "duration": 3,
    "start_time": "2024-11-25T12:14:15.290Z"
   },
   {
    "duration": 719,
    "start_time": "2024-11-25T12:14:15.295Z"
   },
   {
    "duration": 25,
    "start_time": "2024-11-25T12:14:16.016Z"
   },
   {
    "duration": 2,
    "start_time": "2024-11-25T12:14:16.043Z"
   },
   {
    "duration": 2687,
    "start_time": "2024-11-26T10:25:20.564Z"
   },
   {
    "duration": 13,
    "start_time": "2024-11-26T10:25:23.253Z"
   },
   {
    "duration": 21,
    "start_time": "2024-11-26T10:25:23.267Z"
   },
   {
    "duration": 3,
    "start_time": "2024-11-26T10:25:23.289Z"
   },
   {
    "duration": 725,
    "start_time": "2024-11-26T10:25:23.306Z"
   },
   {
    "duration": 242,
    "start_time": "2024-11-26T10:25:24.032Z"
   },
   {
    "duration": 0,
    "start_time": "2024-11-26T10:25:24.276Z"
   },
   {
    "duration": 3,
    "start_time": "2024-11-26T10:25:44.278Z"
   },
   {
    "duration": 7,
    "start_time": "2024-11-26T10:25:44.283Z"
   },
   {
    "duration": 16,
    "start_time": "2024-11-26T10:25:44.292Z"
   },
   {
    "duration": 2,
    "start_time": "2024-11-26T10:25:44.310Z"
   },
   {
    "duration": 740,
    "start_time": "2024-11-26T10:25:44.314Z"
   },
   {
    "duration": 22,
    "start_time": "2024-11-26T10:25:45.056Z"
   },
   {
    "duration": 33,
    "start_time": "2024-11-26T10:25:45.080Z"
   },
   {
    "duration": 10,
    "start_time": "2024-11-26T10:27:28.382Z"
   },
   {
    "duration": 10,
    "start_time": "2024-11-26T10:29:49.882Z"
   },
   {
    "duration": 11,
    "start_time": "2024-11-26T10:29:59.891Z"
   },
   {
    "duration": 11,
    "start_time": "2024-11-26T10:30:36.386Z"
   },
   {
    "duration": 16,
    "start_time": "2024-11-26T10:33:08.233Z"
   },
   {
    "duration": 14,
    "start_time": "2024-11-26T10:33:15.057Z"
   },
   {
    "duration": 4,
    "start_time": "2024-11-26T10:36:53.124Z"
   },
   {
    "duration": 7,
    "start_time": "2024-11-26T10:41:58.336Z"
   },
   {
    "duration": 8,
    "start_time": "2024-11-26T10:42:30.935Z"
   },
   {
    "duration": 8,
    "start_time": "2024-11-26T10:44:16.452Z"
   },
   {
    "duration": 8,
    "start_time": "2024-11-26T10:44:27.527Z"
   },
   {
    "duration": 8,
    "start_time": "2024-11-26T10:44:46.765Z"
   },
   {
    "duration": 8,
    "start_time": "2024-11-26T10:45:12.150Z"
   },
   {
    "duration": 8,
    "start_time": "2024-11-26T10:49:09.157Z"
   },
   {
    "duration": 16,
    "start_time": "2024-11-26T10:56:44.186Z"
   },
   {
    "duration": 938,
    "start_time": "2024-11-26T10:59:35.354Z"
   },
   {
    "duration": 14,
    "start_time": "2024-11-26T10:59:36.294Z"
   },
   {
    "duration": 20,
    "start_time": "2024-11-26T10:59:36.309Z"
   },
   {
    "duration": 3,
    "start_time": "2024-11-26T10:59:36.331Z"
   },
   {
    "duration": 732,
    "start_time": "2024-11-26T10:59:36.337Z"
   },
   {
    "duration": 11,
    "start_time": "2024-11-26T10:59:37.071Z"
   },
   {
    "duration": 22,
    "start_time": "2024-11-26T10:59:37.084Z"
   },
   {
    "duration": 239,
    "start_time": "2024-11-26T10:59:37.108Z"
   },
   {
    "duration": 0,
    "start_time": "2024-11-26T10:59:37.349Z"
   },
   {
    "duration": 0,
    "start_time": "2024-11-26T10:59:37.350Z"
   },
   {
    "duration": 3,
    "start_time": "2024-11-26T11:01:08.476Z"
   },
   {
    "duration": 20,
    "start_time": "2024-11-26T11:01:16.085Z"
   },
   {
    "duration": 26,
    "start_time": "2024-11-26T11:01:30.066Z"
   },
   {
    "duration": 14,
    "start_time": "2024-11-26T11:02:16.050Z"
   },
   {
    "duration": 25,
    "start_time": "2024-11-26T11:02:35.250Z"
   },
   {
    "duration": 58,
    "start_time": "2024-11-26T11:02:45.810Z"
   },
   {
    "duration": 896,
    "start_time": "2024-11-26T11:02:59.546Z"
   },
   {
    "duration": 57,
    "start_time": "2024-11-26T11:03:08.674Z"
   },
   {
    "duration": 5,
    "start_time": "2024-11-26T11:04:02.105Z"
   },
   {
    "duration": 4,
    "start_time": "2024-11-26T11:04:07.489Z"
   },
   {
    "duration": 64,
    "start_time": "2024-11-26T11:04:11.536Z"
   },
   {
    "duration": 424,
    "start_time": "2024-11-26T11:04:36.761Z"
   },
   {
    "duration": 472,
    "start_time": "2024-11-26T11:08:54.663Z"
   },
   {
    "duration": 479,
    "start_time": "2024-11-26T11:10:12.059Z"
   },
   {
    "duration": 170,
    "start_time": "2024-11-26T11:10:22.433Z"
   },
   {
    "duration": 166,
    "start_time": "2024-11-26T11:10:55.592Z"
   },
   {
    "duration": 166,
    "start_time": "2024-11-26T11:11:21.990Z"
   },
   {
    "duration": 170,
    "start_time": "2024-11-26T11:12:42.591Z"
   },
   {
    "duration": 164,
    "start_time": "2024-11-26T11:16:49.735Z"
   },
   {
    "duration": 789,
    "start_time": "2024-11-26T11:18:26.818Z"
   },
   {
    "duration": 2902,
    "start_time": "2024-11-26T11:19:03.461Z"
   },
   {
    "duration": 4539,
    "start_time": "2024-11-26T11:19:40.150Z"
   },
   {
    "duration": 9817,
    "start_time": "2024-11-26T11:20:17.646Z"
   },
   {
    "duration": 17219,
    "start_time": "2024-11-26T11:21:18.204Z"
   },
   {
    "duration": 17233,
    "start_time": "2024-11-26T11:21:56.924Z"
   },
   {
    "duration": 489,
    "start_time": "2024-11-26T11:22:35.500Z"
   },
   {
    "duration": 7242,
    "start_time": "2024-11-26T11:27:19.131Z"
   },
   {
    "duration": 7240,
    "start_time": "2024-11-26T11:28:12.842Z"
   },
   {
    "duration": 7306,
    "start_time": "2024-11-26T11:28:35.828Z"
   },
   {
    "duration": 1446,
    "start_time": "2024-11-26T11:28:57.234Z"
   },
   {
    "duration": 1480,
    "start_time": "2024-11-26T11:29:21.187Z"
   },
   {
    "duration": 9822,
    "start_time": "2024-11-26T11:29:46.538Z"
   },
   {
    "duration": 467,
    "start_time": "2024-11-26T11:30:26.578Z"
   },
   {
    "duration": 4477,
    "start_time": "2024-11-26T11:35:17.843Z"
   },
   {
    "duration": 9767,
    "start_time": "2024-11-26T11:35:37.200Z"
   },
   {
    "duration": 3582,
    "start_time": "2024-11-26T11:36:29.090Z"
   },
   {
    "duration": 12381,
    "start_time": "2024-11-26T11:37:00.697Z"
   },
   {
    "duration": 68115,
    "start_time": "2024-11-26T11:37:43.985Z"
   },
   {
    "duration": 14,
    "start_time": "2024-11-26T11:39:52.184Z"
   },
   {
    "duration": 12,
    "start_time": "2024-11-26T11:41:08.103Z"
   },
   {
    "duration": 11,
    "start_time": "2024-11-26T11:41:50.648Z"
   },
   {
    "duration": 201914,
    "start_time": "2024-11-26T11:43:08.735Z"
   },
   {
    "duration": 38024,
    "start_time": "2024-11-26T12:00:48.363Z"
   },
   {
    "duration": 785060,
    "start_time": "2024-11-26T12:02:28.914Z"
   },
   {
    "duration": 4540,
    "start_time": "2024-11-26T12:21:46.598Z"
   },
   {
    "duration": 4545,
    "start_time": "2024-11-26T12:24:33.796Z"
   },
   {
    "duration": 17,
    "start_time": "2024-11-26T12:25:46.417Z"
   },
   {
    "duration": 111,
    "start_time": "2024-11-26T12:26:17.166Z"
   },
   {
    "duration": 114846,
    "start_time": "2024-11-26T12:30:09.508Z"
   },
   {
    "duration": 68481,
    "start_time": "2024-11-26T12:33:20.877Z"
   },
   {
    "duration": 106,
    "start_time": "2024-11-26T12:34:36.084Z"
   },
   {
    "duration": 9,
    "start_time": "2024-11-26T12:35:35.541Z"
   },
   {
    "duration": 2,
    "start_time": "2024-11-26T12:36:19.370Z"
   },
   {
    "duration": 115,
    "start_time": "2024-11-26T12:36:22.774Z"
   },
   {
    "duration": 10,
    "start_time": "2024-11-26T12:36:26.257Z"
   },
   {
    "duration": 68586,
    "start_time": "2024-11-26T12:36:43.456Z"
   },
   {
    "duration": 9,
    "start_time": "2024-11-26T12:37:59.161Z"
   },
   {
    "duration": 143,
    "start_time": "2024-11-26T12:38:04.244Z"
   },
   {
    "duration": 4,
    "start_time": "2024-11-26T12:38:55.914Z"
   },
   {
    "duration": 5,
    "start_time": "2024-11-26T12:39:31.881Z"
   },
   {
    "duration": 6,
    "start_time": "2024-11-26T12:39:38.866Z"
   },
   {
    "duration": 9,
    "start_time": "2024-11-26T12:39:58.369Z"
   },
   {
    "duration": 8,
    "start_time": "2024-11-26T12:40:03.386Z"
   },
   {
    "duration": 4465,
    "start_time": "2024-11-26T12:41:02.832Z"
   },
   {
    "duration": 110,
    "start_time": "2024-11-26T12:41:24.481Z"
   },
   {
    "duration": 9,
    "start_time": "2024-11-26T12:42:38.401Z"
   },
   {
    "duration": 4,
    "start_time": "2024-11-26T12:43:28.618Z"
   },
   {
    "duration": 4508,
    "start_time": "2024-11-26T12:44:01.991Z"
   },
   {
    "duration": 68998,
    "start_time": "2024-11-26T12:44:32.008Z"
   },
   {
    "duration": 119,
    "start_time": "2024-11-26T12:49:40.388Z"
   },
   {
    "duration": 181,
    "start_time": "2024-11-26T12:49:44.494Z"
   },
   {
    "duration": 6,
    "start_time": "2024-11-26T12:49:51.423Z"
   },
   {
    "duration": 8,
    "start_time": "2024-11-26T12:49:56.694Z"
   },
   {
    "duration": 12,
    "start_time": "2024-11-26T12:50:07.919Z"
   },
   {
    "duration": 11,
    "start_time": "2024-11-26T12:50:31.199Z"
   },
   {
    "duration": 5,
    "start_time": "2024-11-26T12:50:38.166Z"
   },
   {
    "duration": 11,
    "start_time": "2024-11-26T12:50:59.070Z"
   },
   {
    "duration": 4,
    "start_time": "2024-11-26T12:53:15.087Z"
   },
   {
    "duration": 10,
    "start_time": "2024-11-26T12:53:21.733Z"
   },
   {
    "duration": 6,
    "start_time": "2024-11-26T12:53:48.223Z"
   },
   {
    "duration": 6,
    "start_time": "2024-11-26T12:53:57.989Z"
   },
   {
    "duration": 15,
    "start_time": "2024-11-26T12:54:03.221Z"
   },
   {
    "duration": 4,
    "start_time": "2024-11-26T12:54:35.525Z"
   },
   {
    "duration": 8,
    "start_time": "2024-11-26T12:54:40.502Z"
   },
   {
    "duration": 9,
    "start_time": "2024-11-26T12:54:50.414Z"
   },
   {
    "duration": 14,
    "start_time": "2024-11-26T12:55:18.125Z"
   },
   {
    "duration": 12,
    "start_time": "2024-11-26T12:56:28.773Z"
   },
   {
    "duration": 6,
    "start_time": "2024-11-26T12:58:23.550Z"
   },
   {
    "duration": 10,
    "start_time": "2024-11-26T12:58:35.108Z"
   },
   {
    "duration": 1200,
    "start_time": "2024-11-26T13:01:06.555Z"
   },
   {
    "duration": 115,
    "start_time": "2024-11-26T13:01:17.732Z"
   },
   {
    "duration": 19077,
    "start_time": "2024-11-26T13:01:25.935Z"
   },
   {
    "duration": 117,
    "start_time": "2024-11-26T13:02:15.555Z"
   },
   {
    "duration": 10,
    "start_time": "2024-11-26T13:02:41.114Z"
   },
   {
    "duration": 15,
    "start_time": "2024-11-26T13:02:53.643Z"
   },
   {
    "duration": 12,
    "start_time": "2024-11-26T13:03:05.163Z"
   },
   {
    "duration": 8,
    "start_time": "2024-11-26T13:03:21.635Z"
   },
   {
    "duration": 5,
    "start_time": "2024-11-26T13:04:40.757Z"
   },
   {
    "duration": 9,
    "start_time": "2024-11-26T13:04:50.723Z"
   },
   {
    "duration": 14,
    "start_time": "2024-11-26T13:14:33.287Z"
   },
   {
    "duration": 2,
    "start_time": "2024-11-26T13:14:42.063Z"
   },
   {
    "duration": 9,
    "start_time": "2024-11-26T13:14:49.879Z"
   },
   {
    "duration": 8,
    "start_time": "2024-11-26T13:20:22.967Z"
   },
   {
    "duration": 8,
    "start_time": "2024-11-26T13:23:16.221Z"
   },
   {
    "duration": 17,
    "start_time": "2024-11-26T13:25:38.061Z"
   },
   {
    "duration": 15,
    "start_time": "2024-11-26T13:26:09.213Z"
   },
   {
    "duration": 17,
    "start_time": "2024-11-26T13:28:49.804Z"
   },
   {
    "duration": 921,
    "start_time": "2024-11-26T13:30:45.415Z"
   },
   {
    "duration": 8,
    "start_time": "2024-11-26T13:30:46.339Z"
   },
   {
    "duration": 20,
    "start_time": "2024-11-26T13:30:46.349Z"
   },
   {
    "duration": 4,
    "start_time": "2024-11-26T13:30:46.370Z"
   },
   {
    "duration": 659,
    "start_time": "2024-11-26T13:30:46.437Z"
   },
   {
    "duration": 13,
    "start_time": "2024-11-26T13:30:47.098Z"
   },
   {
    "duration": 7,
    "start_time": "2024-11-26T13:30:47.113Z"
   },
   {
    "duration": 508,
    "start_time": "2024-11-26T13:30:47.122Z"
   },
   {
    "duration": 1227,
    "start_time": "2024-11-26T13:30:47.632Z"
   },
   {
    "duration": 123,
    "start_time": "2024-11-26T13:30:48.861Z"
   },
   {
    "duration": 18595,
    "start_time": "2024-11-26T13:30:48.986Z"
   },
   {
    "duration": 124,
    "start_time": "2024-11-26T13:31:07.583Z"
   },
   {
    "duration": 14,
    "start_time": "2024-11-26T13:31:07.708Z"
   },
   {
    "duration": 2,
    "start_time": "2024-11-26T13:31:07.725Z"
   },
   {
    "duration": 307,
    "start_time": "2024-11-26T13:31:07.729Z"
   },
   {
    "duration": 0,
    "start_time": "2024-11-26T13:31:08.038Z"
   },
   {
    "duration": 0,
    "start_time": "2024-11-26T13:31:08.039Z"
   },
   {
    "duration": 18,
    "start_time": "2024-11-26T13:32:16.042Z"
   },
   {
    "duration": 2,
    "start_time": "2024-11-26T13:32:19.770Z"
   },
   {
    "duration": 13,
    "start_time": "2024-11-26T13:32:22.625Z"
   },
   {
    "duration": 17,
    "start_time": "2024-11-26T13:38:11.665Z"
   },
   {
    "duration": 16,
    "start_time": "2024-11-26T13:38:37.057Z"
   },
   {
    "duration": 17,
    "start_time": "2024-11-26T13:39:27.585Z"
   },
   {
    "duration": 10,
    "start_time": "2024-11-26T13:39:50.112Z"
   },
   {
    "duration": 16,
    "start_time": "2024-11-26T13:40:19.984Z"
   },
   {
    "duration": 908,
    "start_time": "2024-11-26T13:40:33.502Z"
   },
   {
    "duration": 8,
    "start_time": "2024-11-26T13:40:34.412Z"
   },
   {
    "duration": 32,
    "start_time": "2024-11-26T13:40:34.421Z"
   },
   {
    "duration": 3,
    "start_time": "2024-11-26T13:40:34.455Z"
   },
   {
    "duration": 674,
    "start_time": "2024-11-26T13:40:34.525Z"
   },
   {
    "duration": 15,
    "start_time": "2024-11-26T13:40:35.201Z"
   },
   {
    "duration": 10,
    "start_time": "2024-11-26T13:40:35.218Z"
   },
   {
    "duration": 521,
    "start_time": "2024-11-26T13:40:35.231Z"
   },
   {
    "duration": 1245,
    "start_time": "2024-11-26T13:40:35.754Z"
   },
   {
    "duration": 121,
    "start_time": "2024-11-26T13:40:37.001Z"
   },
   {
    "duration": 18684,
    "start_time": "2024-11-26T13:40:37.124Z"
   },
   {
    "duration": 125,
    "start_time": "2024-11-26T13:40:55.810Z"
   },
   {
    "duration": 13,
    "start_time": "2024-11-26T13:40:55.937Z"
   },
   {
    "duration": 3,
    "start_time": "2024-11-26T13:40:55.953Z"
   },
   {
    "duration": 18,
    "start_time": "2024-11-26T13:40:55.957Z"
   },
   {
    "duration": 27,
    "start_time": "2024-11-26T13:40:55.978Z"
   },
   {
    "duration": 8,
    "start_time": "2024-11-26T13:40:56.007Z"
   },
   {
    "duration": 12,
    "start_time": "2024-11-26T13:40:56.016Z"
   },
   {
    "duration": 9,
    "start_time": "2024-11-26T13:44:02.080Z"
   },
   {
    "duration": 10,
    "start_time": "2024-11-26T13:45:38.730Z"
   },
   {
    "duration": 10,
    "start_time": "2024-11-26T13:45:48.816Z"
   },
   {
    "duration": 19,
    "start_time": "2024-11-26T13:46:11.360Z"
   },
   {
    "duration": 18,
    "start_time": "2024-11-26T13:46:40.688Z"
   },
   {
    "duration": 8,
    "start_time": "2024-11-26T13:47:12.327Z"
   },
   {
    "duration": 907,
    "start_time": "2024-11-26T13:47:55.074Z"
   },
   {
    "duration": 8,
    "start_time": "2024-11-26T13:47:55.985Z"
   },
   {
    "duration": 23,
    "start_time": "2024-11-26T13:47:55.995Z"
   },
   {
    "duration": 2,
    "start_time": "2024-11-26T13:47:56.021Z"
   },
   {
    "duration": 700,
    "start_time": "2024-11-26T13:47:56.026Z"
   },
   {
    "duration": 11,
    "start_time": "2024-11-26T13:47:56.728Z"
   },
   {
    "duration": 7,
    "start_time": "2024-11-26T13:47:56.740Z"
   },
   {
    "duration": 516,
    "start_time": "2024-11-26T13:47:56.749Z"
   },
   {
    "duration": 1233,
    "start_time": "2024-11-26T13:47:57.267Z"
   },
   {
    "duration": 116,
    "start_time": "2024-11-26T13:47:58.505Z"
   },
   {
    "duration": 30850,
    "start_time": "2024-11-26T13:47:58.623Z"
   },
   {
    "duration": 130,
    "start_time": "2024-11-26T13:48:29.475Z"
   },
   {
    "duration": 14,
    "start_time": "2024-11-26T13:48:29.608Z"
   },
   {
    "duration": 2,
    "start_time": "2024-11-26T13:48:29.625Z"
   },
   {
    "duration": 9,
    "start_time": "2024-11-26T13:48:29.628Z"
   },
   {
    "duration": 18,
    "start_time": "2024-11-26T13:48:29.638Z"
   },
   {
    "duration": 2,
    "start_time": "2024-11-26T13:48:29.658Z"
   },
   {
    "duration": 7,
    "start_time": "2024-11-26T13:48:29.662Z"
   },
   {
    "duration": 13,
    "start_time": "2024-11-26T13:48:29.706Z"
   },
   {
    "duration": 18,
    "start_time": "2024-11-26T13:52:08.263Z"
   },
   {
    "duration": 29,
    "start_time": "2024-11-26T13:57:25.405Z"
   },
   {
    "duration": 168,
    "start_time": "2024-11-27T09:52:51.134Z"
   },
   {
    "duration": 2722,
    "start_time": "2024-11-27T09:53:41.416Z"
   },
   {
    "duration": 17,
    "start_time": "2024-11-27T09:53:44.141Z"
   },
   {
    "duration": 23,
    "start_time": "2024-11-27T09:53:44.159Z"
   },
   {
    "duration": 3,
    "start_time": "2024-11-27T09:53:44.184Z"
   },
   {
    "duration": 779,
    "start_time": "2024-11-27T09:53:44.190Z"
   },
   {
    "duration": 13,
    "start_time": "2024-11-27T09:53:44.971Z"
   },
   {
    "duration": 9,
    "start_time": "2024-11-27T09:53:44.985Z"
   },
   {
    "duration": 555,
    "start_time": "2024-11-27T09:53:44.995Z"
   },
   {
    "duration": 96,
    "start_time": "2024-11-27T09:53:45.552Z"
   },
   {
    "duration": 0,
    "start_time": "2024-11-27T09:53:45.650Z"
   },
   {
    "duration": 0,
    "start_time": "2024-11-27T09:53:45.651Z"
   },
   {
    "duration": 0,
    "start_time": "2024-11-27T09:53:45.652Z"
   },
   {
    "duration": 0,
    "start_time": "2024-11-27T09:53:45.653Z"
   },
   {
    "duration": 0,
    "start_time": "2024-11-27T09:53:45.654Z"
   },
   {
    "duration": 0,
    "start_time": "2024-11-27T09:53:45.656Z"
   },
   {
    "duration": 9,
    "start_time": "2024-11-27T09:54:43.054Z"
   },
   {
    "duration": 534,
    "start_time": "2024-11-27T09:55:32.012Z"
   },
   {
    "duration": 526,
    "start_time": "2024-11-27T09:55:41.988Z"
   },
   {
    "duration": 20,
    "start_time": "2024-11-27T09:55:46.619Z"
   },
   {
    "duration": 6,
    "start_time": "2024-11-27T09:55:52.243Z"
   },
   {
    "duration": 536,
    "start_time": "2024-11-27T09:56:00.124Z"
   },
   {
    "duration": 9,
    "start_time": "2024-11-27T09:56:04.028Z"
   },
   {
    "duration": 123,
    "start_time": "2024-11-27T09:56:13.300Z"
   },
   {
    "duration": 1294,
    "start_time": "2024-11-27T09:57:27.511Z"
   },
   {
    "duration": 121,
    "start_time": "2024-11-27T09:57:35.004Z"
   },
   {
    "duration": 139,
    "start_time": "2024-11-27T09:58:11.636Z"
   },
   {
    "duration": 126,
    "start_time": "2024-11-27T09:58:32.779Z"
   },
   {
    "duration": 133,
    "start_time": "2024-11-27T09:59:10.731Z"
   },
   {
    "duration": 115,
    "start_time": "2024-11-27T09:59:25.075Z"
   },
   {
    "duration": 32701,
    "start_time": "2024-11-27T10:00:34.124Z"
   },
   {
    "duration": 126,
    "start_time": "2024-11-27T10:01:47.482Z"
   },
   {
    "duration": 173,
    "start_time": "2024-11-27T10:02:14.122Z"
   },
   {
    "duration": 124,
    "start_time": "2024-11-27T10:02:30.500Z"
   },
   {
    "duration": 205,
    "start_time": "2024-11-27T10:02:39.529Z"
   },
   {
    "duration": 105,
    "start_time": "2024-11-27T10:02:45.410Z"
   },
   {
    "duration": 120,
    "start_time": "2024-11-27T10:05:18.881Z"
   },
   {
    "duration": 104,
    "start_time": "2024-11-27T10:06:03.410Z"
   },
   {
    "duration": 27,
    "start_time": "2024-11-27T10:08:25.057Z"
   },
   {
    "duration": 9,
    "start_time": "2024-11-27T10:11:18.911Z"
   },
   {
    "duration": 112,
    "start_time": "2024-11-27T10:11:57.559Z"
   },
   {
    "duration": 110,
    "start_time": "2024-11-27T10:12:44.391Z"
   },
   {
    "duration": 227,
    "start_time": "2024-11-27T10:15:03.847Z"
   },
   {
    "duration": 240,
    "start_time": "2024-11-27T10:15:59.247Z"
   },
   {
    "duration": 17,
    "start_time": "2024-11-27T10:31:49.706Z"
   },
   {
    "duration": 935,
    "start_time": "2024-11-27T10:32:34.501Z"
   },
   {
    "duration": 9,
    "start_time": "2024-11-27T10:32:35.438Z"
   },
   {
    "duration": 21,
    "start_time": "2024-11-27T10:32:35.448Z"
   },
   {
    "duration": 4,
    "start_time": "2024-11-27T10:32:35.471Z"
   },
   {
    "duration": 721,
    "start_time": "2024-11-27T10:32:35.477Z"
   },
   {
    "duration": 12,
    "start_time": "2024-11-27T10:32:36.200Z"
   },
   {
    "duration": 7,
    "start_time": "2024-11-27T10:32:36.214Z"
   },
   {
    "duration": 527,
    "start_time": "2024-11-27T10:32:36.223Z"
   },
   {
    "duration": 126,
    "start_time": "2024-11-27T10:32:36.751Z"
   },
   {
    "duration": 4623,
    "start_time": "2024-11-27T10:32:36.879Z"
   },
   {
    "duration": 306,
    "start_time": "2024-11-27T10:32:41.504Z"
   },
   {
    "duration": 0,
    "start_time": "2024-11-27T10:32:41.812Z"
   },
   {
    "duration": 0,
    "start_time": "2024-11-27T10:32:41.813Z"
   },
   {
    "duration": 0,
    "start_time": "2024-11-27T10:32:41.814Z"
   },
   {
    "duration": 105,
    "start_time": "2024-11-27T10:34:43.066Z"
   },
   {
    "duration": 116283,
    "start_time": "2024-11-27T10:34:53.819Z"
   },
   {
    "duration": 263,
    "start_time": "2024-11-27T10:36:50.104Z"
   },
   {
    "duration": 17,
    "start_time": "2024-11-27T10:36:50.371Z"
   },
   {
    "duration": 226,
    "start_time": "2024-11-27T10:37:05.103Z"
   },
   {
    "duration": 8,
    "start_time": "2024-11-27T10:37:48.538Z"
   },
   {
    "duration": 9,
    "start_time": "2024-11-27T10:40:47.953Z"
   },
   {
    "duration": 9,
    "start_time": "2024-11-27T10:41:17.632Z"
   },
   {
    "duration": 127,
    "start_time": "2024-11-27T10:42:25.706Z"
   },
   {
    "duration": 125,
    "start_time": "2024-11-27T10:43:37.746Z"
   },
   {
    "duration": 133,
    "start_time": "2024-11-27T10:44:24.105Z"
   },
   {
    "duration": 157,
    "start_time": "2024-11-27T10:44:46.342Z"
   },
   {
    "duration": 141,
    "start_time": "2024-11-27T10:44:51.937Z"
   },
   {
    "duration": 199,
    "start_time": "2024-11-27T10:45:20.744Z"
   },
   {
    "duration": 165,
    "start_time": "2024-11-27T10:45:32.655Z"
   },
   {
    "duration": 3,
    "start_time": "2024-11-27T10:58:13.156Z"
   },
   {
    "duration": 3,
    "start_time": "2024-11-27T10:58:44.310Z"
   },
   {
    "duration": 3,
    "start_time": "2024-11-27T10:58:58.892Z"
   },
   {
    "duration": 114,
    "start_time": "2024-11-27T11:01:00.267Z"
   },
   {
    "duration": 1021,
    "start_time": "2024-11-27T11:02:44.550Z"
   },
   {
    "duration": 10,
    "start_time": "2024-11-27T11:02:45.574Z"
   },
   {
    "duration": 23,
    "start_time": "2024-11-27T11:02:45.586Z"
   },
   {
    "duration": 3,
    "start_time": "2024-11-27T11:02:45.612Z"
   },
   {
    "duration": 815,
    "start_time": "2024-11-27T11:02:45.645Z"
   },
   {
    "duration": 13,
    "start_time": "2024-11-27T11:02:46.462Z"
   },
   {
    "duration": 9,
    "start_time": "2024-11-27T11:02:46.477Z"
   },
   {
    "duration": 566,
    "start_time": "2024-11-27T11:02:46.489Z"
   },
   {
    "duration": 145,
    "start_time": "2024-11-27T11:02:47.057Z"
   },
   {
    "duration": 4797,
    "start_time": "2024-11-27T11:02:47.204Z"
   },
   {
    "duration": 120,
    "start_time": "2024-11-27T11:02:52.003Z"
   },
   {
    "duration": 120464,
    "start_time": "2024-11-27T11:02:52.125Z"
   },
   {
    "duration": 271,
    "start_time": "2024-11-27T11:04:52.592Z"
   },
   {
    "duration": 13,
    "start_time": "2024-11-27T11:04:52.867Z"
   },
   {
    "duration": 4,
    "start_time": "2024-11-27T11:04:52.882Z"
   },
   {
    "duration": 119386,
    "start_time": "2024-11-27T11:12:17.253Z"
   },
   {
    "duration": 116488,
    "start_time": "2024-11-27T11:15:56.006Z"
   },
   {
    "duration": 251,
    "start_time": "2024-11-27T11:17:52.496Z"
   },
   {
    "duration": 13,
    "start_time": "2024-11-27T11:17:52.749Z"
   },
   {
    "duration": 4,
    "start_time": "2024-11-27T11:17:52.764Z"
   },
   {
    "duration": 3,
    "start_time": "2024-11-27T11:20:31.652Z"
   },
   {
    "duration": 3,
    "start_time": "2024-11-27T11:21:01.548Z"
   },
   {
    "duration": 6,
    "start_time": "2024-11-27T11:25:59.690Z"
   },
   {
    "duration": 6,
    "start_time": "2024-11-27T11:26:12.348Z"
   },
   {
    "duration": 5,
    "start_time": "2024-11-27T11:27:17.554Z"
   },
   {
    "duration": 5,
    "start_time": "2024-11-27T11:27:46.473Z"
   },
   {
    "duration": 5,
    "start_time": "2024-11-27T11:27:57.026Z"
   },
   {
    "duration": 5,
    "start_time": "2024-11-27T11:28:05.546Z"
   },
   {
    "duration": 6,
    "start_time": "2024-11-27T11:28:43.689Z"
   },
   {
    "duration": 235,
    "start_time": "2024-11-27T11:30:21.866Z"
   },
   {
    "duration": 16,
    "start_time": "2024-11-27T11:30:41.660Z"
   },
   {
    "duration": 6,
    "start_time": "2024-11-27T11:31:43.848Z"
   },
   {
    "duration": 4,
    "start_time": "2024-11-27T11:32:15.554Z"
   },
   {
    "duration": 5,
    "start_time": "2024-11-27T11:32:33.584Z"
   },
   {
    "duration": 11,
    "start_time": "2024-11-27T11:32:44.905Z"
   },
   {
    "duration": 8,
    "start_time": "2024-11-27T11:32:50.546Z"
   },
   {
    "duration": 5,
    "start_time": "2024-11-27T11:32:56.514Z"
   },
   {
    "duration": 18,
    "start_time": "2024-11-27T11:34:17.288Z"
   },
   {
    "duration": 17,
    "start_time": "2024-11-27T11:34:51.097Z"
   },
   {
    "duration": 3,
    "start_time": "2024-11-27T11:40:44.992Z"
   },
   {
    "duration": 17,
    "start_time": "2024-11-27T11:41:33.991Z"
   },
   {
    "duration": 7,
    "start_time": "2024-11-27T12:00:28.745Z"
   },
   {
    "duration": 5,
    "start_time": "2024-11-27T12:00:38.018Z"
   },
   {
    "duration": 10,
    "start_time": "2024-11-27T12:00:49.281Z"
   },
   {
    "duration": 4,
    "start_time": "2024-11-27T12:02:09.658Z"
   },
   {
    "duration": 7,
    "start_time": "2024-11-27T12:02:13.609Z"
   },
   {
    "duration": 5,
    "start_time": "2024-11-27T12:03:10.376Z"
   },
   {
    "duration": 5,
    "start_time": "2024-11-27T12:04:02.714Z"
   },
   {
    "duration": 4,
    "start_time": "2024-11-27T12:05:34.472Z"
   },
   {
    "duration": 5,
    "start_time": "2024-11-27T12:07:16.176Z"
   },
   {
    "duration": 4,
    "start_time": "2024-11-27T12:07:38.023Z"
   },
   {
    "duration": 6,
    "start_time": "2024-11-27T12:07:40.785Z"
   },
   {
    "duration": 4,
    "start_time": "2024-11-27T12:08:09.866Z"
   },
   {
    "duration": 2611,
    "start_time": "2024-11-28T10:49:26.492Z"
   },
   {
    "duration": 14,
    "start_time": "2024-11-28T10:49:29.105Z"
   },
   {
    "duration": 20,
    "start_time": "2024-11-28T10:49:29.120Z"
   },
   {
    "duration": 3,
    "start_time": "2024-11-28T10:49:29.142Z"
   },
   {
    "duration": 722,
    "start_time": "2024-11-28T10:49:29.148Z"
   },
   {
    "duration": 11,
    "start_time": "2024-11-28T10:49:29.872Z"
   },
   {
    "duration": 7,
    "start_time": "2024-11-28T10:49:29.884Z"
   },
   {
    "duration": 508,
    "start_time": "2024-11-28T10:49:29.892Z"
   },
   {
    "duration": 124,
    "start_time": "2024-11-28T10:49:30.401Z"
   },
   {
    "duration": 4470,
    "start_time": "2024-11-28T10:49:30.527Z"
   },
   {
    "duration": 111,
    "start_time": "2024-11-28T10:49:34.999Z"
   },
   {
    "duration": 112293,
    "start_time": "2024-11-28T10:49:35.112Z"
   },
   {
    "duration": 241,
    "start_time": "2024-11-28T10:51:27.407Z"
   },
   {
    "duration": 20,
    "start_time": "2024-11-28T10:51:27.651Z"
   },
   {
    "duration": 3,
    "start_time": "2024-11-28T10:51:27.672Z"
   },
   {
    "duration": 15,
    "start_time": "2024-11-28T10:51:27.677Z"
   },
   {
    "duration": 4,
    "start_time": "2024-11-28T10:51:27.694Z"
   },
   {
    "duration": 6,
    "start_time": "2024-11-28T11:16:10.553Z"
   },
   {
    "duration": 11,
    "start_time": "2024-11-28T11:16:20.651Z"
   },
   {
    "duration": 14,
    "start_time": "2024-11-28T11:17:58.072Z"
   },
   {
    "duration": 4,
    "start_time": "2024-11-28T11:18:31.039Z"
   },
   {
    "duration": 10,
    "start_time": "2024-11-28T11:18:35.773Z"
   },
   {
    "duration": 12,
    "start_time": "2024-11-28T11:20:23.679Z"
   },
   {
    "duration": 20,
    "start_time": "2024-11-28T11:21:18.856Z"
   },
   {
    "duration": 10,
    "start_time": "2024-11-28T11:22:24.526Z"
   },
   {
    "duration": 14,
    "start_time": "2024-11-28T11:22:37.502Z"
   },
   {
    "duration": 7,
    "start_time": "2024-11-28T11:22:49.528Z"
   },
   {
    "duration": 5,
    "start_time": "2024-11-28T11:23:28.038Z"
   },
   {
    "duration": 13,
    "start_time": "2024-11-28T11:23:36.901Z"
   },
   {
    "duration": 4,
    "start_time": "2024-11-28T11:24:17.855Z"
   },
   {
    "duration": 4,
    "start_time": "2024-11-28T11:24:40.310Z"
   },
   {
    "duration": 4,
    "start_time": "2024-11-28T11:25:10.606Z"
   },
   {
    "duration": 4,
    "start_time": "2024-11-28T11:25:19.229Z"
   },
   {
    "duration": 145,
    "start_time": "2024-11-28T11:26:15.166Z"
   },
   {
    "duration": 5,
    "start_time": "2024-11-28T11:29:23.285Z"
   },
   {
    "duration": 4,
    "start_time": "2024-11-28T11:30:32.452Z"
   },
   {
    "duration": 12,
    "start_time": "2024-11-28T11:31:18.446Z"
   },
   {
    "duration": 12,
    "start_time": "2024-11-28T11:31:54.779Z"
   },
   {
    "duration": 13,
    "start_time": "2024-11-28T11:34:05.891Z"
   },
   {
    "duration": 419,
    "start_time": "2024-11-28T11:37:21.724Z"
   },
   {
    "duration": 271,
    "start_time": "2024-11-28T11:37:39.955Z"
   },
   {
    "duration": 12,
    "start_time": "2024-11-28T11:38:55.951Z"
   },
   {
    "duration": 16,
    "start_time": "2024-11-28T11:39:04.442Z"
   },
   {
    "duration": 8,
    "start_time": "2024-11-28T11:39:45.113Z"
   },
   {
    "duration": 17,
    "start_time": "2024-11-28T11:40:06.105Z"
   },
   {
    "duration": 18,
    "start_time": "2024-11-28T11:40:42.017Z"
   },
   {
    "duration": 278,
    "start_time": "2024-11-28T11:40:46.369Z"
   },
   {
    "duration": 17,
    "start_time": "2024-11-28T11:40:51.809Z"
   },
   {
    "duration": 354,
    "start_time": "2024-11-28T11:42:32.585Z"
   },
   {
    "duration": 212,
    "start_time": "2024-11-28T11:42:52.969Z"
   },
   {
    "duration": 212,
    "start_time": "2024-11-28T11:43:20.808Z"
   },
   {
    "duration": 278,
    "start_time": "2024-11-28T11:43:25.120Z"
   },
   {
    "duration": 5,
    "start_time": "2024-11-28T11:44:49.312Z"
   },
   {
    "duration": 7,
    "start_time": "2024-11-28T11:44:59.427Z"
   },
   {
    "duration": 274,
    "start_time": "2024-11-28T11:45:15.479Z"
   },
   {
    "duration": 12,
    "start_time": "2024-11-28T11:45:43.897Z"
   },
   {
    "duration": 12,
    "start_time": "2024-11-28T11:46:02.311Z"
   },
   {
    "duration": 12,
    "start_time": "2024-11-28T11:46:29.336Z"
   },
   {
    "duration": 21,
    "start_time": "2024-11-28T11:46:53.736Z"
   },
   {
    "duration": 12,
    "start_time": "2024-11-28T11:47:13.135Z"
   },
   {
    "duration": 7,
    "start_time": "2024-11-28T11:47:30.880Z"
   },
   {
    "duration": 5,
    "start_time": "2024-11-28T11:49:51.479Z"
   },
   {
    "duration": 186,
    "start_time": "2024-11-28T11:50:01.150Z"
   },
   {
    "duration": 186,
    "start_time": "2024-11-28T11:50:10.456Z"
   },
   {
    "duration": 184,
    "start_time": "2024-11-28T11:50:15.791Z"
   },
   {
    "duration": 188,
    "start_time": "2024-11-28T11:50:20.446Z"
   },
   {
    "duration": 259,
    "start_time": "2024-11-28T11:55:36.799Z"
   },
   {
    "duration": 17,
    "start_time": "2024-11-28T11:55:37.606Z"
   },
   {
    "duration": 4,
    "start_time": "2024-11-28T11:55:40.965Z"
   },
   {
    "duration": 4,
    "start_time": "2024-11-28T12:01:16.067Z"
   },
   {
    "duration": 3,
    "start_time": "2024-11-28T12:02:45.621Z"
   },
   {
    "duration": 924,
    "start_time": "2024-11-28T12:12:07.588Z"
   },
   {
    "duration": 8,
    "start_time": "2024-11-28T12:12:08.514Z"
   },
   {
    "duration": 20,
    "start_time": "2024-11-28T12:12:08.524Z"
   },
   {
    "duration": 2,
    "start_time": "2024-11-28T12:12:08.546Z"
   },
   {
    "duration": 708,
    "start_time": "2024-11-28T12:12:08.551Z"
   },
   {
    "duration": 14,
    "start_time": "2024-11-28T12:12:09.261Z"
   },
   {
    "duration": 9,
    "start_time": "2024-11-28T12:12:09.277Z"
   },
   {
    "duration": 507,
    "start_time": "2024-11-28T12:12:09.287Z"
   },
   {
    "duration": 130,
    "start_time": "2024-11-28T12:12:09.796Z"
   },
   {
    "duration": 4429,
    "start_time": "2024-11-28T12:12:09.928Z"
   },
   {
    "duration": 112,
    "start_time": "2024-11-28T12:12:14.359Z"
   },
   {
    "duration": 111774,
    "start_time": "2024-11-28T12:12:14.473Z"
   },
   {
    "duration": 251,
    "start_time": "2024-11-28T12:14:06.249Z"
   },
   {
    "duration": 12,
    "start_time": "2024-11-28T12:14:06.504Z"
   },
   {
    "duration": 3,
    "start_time": "2024-11-28T12:14:06.517Z"
   },
   {
    "duration": 285,
    "start_time": "2024-11-28T12:14:06.522Z"
   },
   {
    "duration": 17,
    "start_time": "2024-11-28T12:14:06.808Z"
   },
   {
    "duration": 4,
    "start_time": "2024-11-28T12:14:06.827Z"
   },
   {
    "duration": 115,
    "start_time": "2024-11-28T12:23:56.877Z"
   },
   {
    "duration": 166,
    "start_time": "2024-11-28T12:24:01.910Z"
   },
   {
    "duration": 872,
    "start_time": "2024-11-28T12:27:42.352Z"
   },
   {
    "duration": 9,
    "start_time": "2024-11-28T12:27:43.226Z"
   },
   {
    "duration": 33,
    "start_time": "2024-11-28T12:27:43.237Z"
   },
   {
    "duration": 2,
    "start_time": "2024-11-28T12:27:43.273Z"
   },
   {
    "duration": 696,
    "start_time": "2024-11-28T12:27:43.277Z"
   },
   {
    "duration": 12,
    "start_time": "2024-11-28T12:27:43.975Z"
   },
   {
    "duration": 7,
    "start_time": "2024-11-28T12:27:43.989Z"
   },
   {
    "duration": 512,
    "start_time": "2024-11-28T12:27:43.998Z"
   },
   {
    "duration": 114,
    "start_time": "2024-11-28T12:27:44.512Z"
   },
   {
    "duration": 4483,
    "start_time": "2024-11-28T12:27:44.629Z"
   },
   {
    "duration": 107,
    "start_time": "2024-11-28T12:27:49.113Z"
   },
   {
    "duration": 112295,
    "start_time": "2024-11-28T12:27:49.221Z"
   },
   {
    "duration": 254,
    "start_time": "2024-11-28T12:29:41.518Z"
   },
   {
    "duration": 11,
    "start_time": "2024-11-28T12:29:41.775Z"
   },
   {
    "duration": 3,
    "start_time": "2024-11-28T12:29:41.788Z"
   },
   {
    "duration": 273,
    "start_time": "2024-11-28T12:29:41.793Z"
   },
   {
    "duration": 17,
    "start_time": "2024-11-28T12:29:42.070Z"
   },
   {
    "duration": 4,
    "start_time": "2024-11-28T12:29:42.089Z"
   }
  ],
  "kernelspec": {
   "display_name": "Python 3 (ipykernel)",
   "language": "python",
   "name": "python3"
  },
  "language_info": {
   "codemirror_mode": {
    "name": "ipython",
    "version": 3
   },
   "file_extension": ".py",
   "mimetype": "text/x-python",
   "name": "python",
   "nbconvert_exporter": "python",
   "pygments_lexer": "ipython3",
   "version": "3.9.19"
  },
  "toc": {
   "base_numbering": 1,
   "nav_menu": {},
   "number_sections": true,
   "sideBar": true,
   "skip_h1_title": true,
   "title_cell": "Table of Contents",
   "title_sidebar": "Contents",
   "toc_cell": false,
   "toc_position": {},
   "toc_section_display": true,
   "toc_window_display": false
  }
 },
 "nbformat": 4,
 "nbformat_minor": 2
}
